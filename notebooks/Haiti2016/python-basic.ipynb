{
 "cells": [
  {
   "cell_type": "markdown",
   "metadata": {},
   "source": [
    "# Some very basic python\n",
    "\n",
    "\n",
    "Showing some very basic python, variables, arrays, math and plotting:\n",
    "\n",
    "### Variables and printing them\n"
   ]
  },
  {
   "cell_type": "code",
   "execution_count": 1,
   "metadata": {
    "collapsed": false
   },
   "outputs": [
    {
     "data": {
      "text/plain": [
       "2.23"
      ]
     },
     "execution_count": 1,
     "metadata": {},
     "output_type": "execute_result"
    }
   ],
   "source": [
    "#  setting a variable\n",
    "a = 1.23\n",
    "\n",
    "#  although just writing the variable will show it's value, but this is not the recommended\n",
    "#  way, because per cell only the last one will be printed and stored in the out[]\n",
    "#  list that the notebook maintains\n",
    "\n",
    "a\n",
    "a+1"
   ]
  },
  {
   "cell_type": "markdown",
   "metadata": {
    "collapsed": false
   },
   "source": [
    "The right way to print is using the official **print()** function in python\n",
    "and this way you can also print out multiple lines in the out[]\n"
   ]
  },
  {
   "cell_type": "code",
   "execution_count": 2,
   "metadata": {
    "collapsed": false
   },
   "outputs": [
    {
     "name": "stdout",
     "output_type": "stream",
     "text": [
      "1.23\n",
      "<class 'float'>\n"
     ]
    }
   ],
   "source": [
    "print(a)\n",
    "print(type(a))\n"
   ]
  },
  {
   "cell_type": "markdown",
   "metadata": {},
   "source": [
    "Now you can see that each call to **print()** will cause output on a new line,and also note they are not in the **Out[]** list\n",
    "\n",
    "overwriting the same variable , now as a string"
   ]
  },
  {
   "cell_type": "code",
   "execution_count": 5,
   "metadata": {
    "collapsed": false
   },
   "outputs": [
    {
     "name": "stdout",
     "output_type": "stream",
     "text": [
      "('1.23', <type 'str'>)\n"
     ]
    }
   ],
   "source": [
    "\n",
    "a=\"1.23\"\n",
    "print(a,type(a))"
   ]
  },
  {
   "cell_type": "code",
   "execution_count": 4,
   "metadata": {
    "collapsed": false
   },
   "outputs": [
    {
     "data": {
      "text/plain": [
       "'1.23'"
      ]
     },
     "execution_count": 4,
     "metadata": {},
     "output_type": "execute_result"
    }
   ],
   "source": [
    "# checking the value of the variable\n",
    "a\n"
   ]
  },
  {
   "cell_type": "markdown",
   "metadata": {},
   "source": [
    "### Python versions\n",
    "\n",
    "Python2 and Python3 are still being used today. So safeguard printing between python2 and python3 you will need a special import for old python2:"
   ]
  },
  {
   "cell_type": "code",
   "execution_count": 5,
   "metadata": {
    "collapsed": false
   },
   "outputs": [],
   "source": [
    "from __future__ import print_function"
   ]
  },
  {
   "cell_type": "markdown",
   "metadata": {},
   "source": [
    "Now we can **print(pi)** in python2.  The old style would be **print pi**"
   ]
  },
  {
   "cell_type": "markdown",
   "metadata": {},
   "source": [
    "\n"
   ]
  },
  {
   "cell_type": "code",
   "execution_count": 6,
   "metadata": {
    "collapsed": false
   },
   "outputs": [
    {
     "name": "stdout",
     "output_type": "stream",
     "text": [
      "pi= 3.1415\n",
      "pi=   3.1415000000\n"
     ]
    }
   ],
   "source": [
    "pi = 3.1415\n",
    "print(\"pi=\",pi)\n",
    "print(\"pi=%15.10f\" % pi)"
   ]
  },
  {
   "cell_type": "code",
   "execution_count": 7,
   "metadata": {
    "collapsed": false
   },
   "outputs": [],
   "source": [
    "# for reference, here is the old style of printing in python2 \n",
    "# print \"pi=\",pi"
   ]
  },
  {
   "cell_type": "markdown",
   "metadata": {},
   "source": [
    "### Control stuctures\n",
    "\n",
    "Most programming languages have a way to control the flow of the program. The common ones are\n",
    "\n",
    "* if/then/else\n",
    "* for-loop\n",
    "* while-loop\n",
    "\n",
    "While you are looking at this code, note that white-space (indentation) controls the extent of the code, and unlike other language, there is no special symbol or **end** type statement. This is probably the single most confusing thing about those new to the python language."
   ]
  },
  {
   "cell_type": "code",
   "execution_count": 10,
   "metadata": {
    "collapsed": false
   },
   "outputs": [
    {
     "name": "stdout",
     "output_type": "stream",
     "text": [
      "yes, n>0\n",
      "('i=', 2)\n",
      "('i=', 4)\n",
      "('i=', 1)\n",
      "('i=', 6)\n",
      "('oulala, after this for loop, i=', 6)\n",
      "('whiling', 10)\n",
      "('whiling', 8)\n",
      "('whiling', 6)\n",
      "('whiling', 4)\n",
      "('whiling', 2)\n",
      "('last n', 0)\n"
     ]
    }
   ],
   "source": [
    "n = 1\n",
    "\n",
    "if n > 0:\n",
    "    print(\"yes, n>0\")\n",
    "else:\n",
    "    print(\"not\")     \n",
    "\n",
    "    \n",
    "for i in [2,4,n,6]:\n",
    "    print(\"i=\",i)\n",
    "print(\"oulala, after this for loop, i=\",i)\n",
    "\n",
    "n = 10\n",
    "while n>0:\n",
    "    #  n = n - 2\n",
    "    print(\"whiling\",n)\n",
    "    n = n - 2\n",
    "\n",
    "print(\"last n\",n)\n",
    "        "
   ]
  },
  {
   "cell_type": "markdown",
   "metadata": {},
   "source": [
    "## Python Data Structures\n",
    "\n",
    "A list is one of four major data structures (lists, dictionaries, sets, tuples) that python uses. It is the most simple one, and has direct parallels to those in other languages such as Fortran, C/C++, Java etc.\n",
    "\n",
    "### Python Lists\n",
    "\n",
    "Python uses special symbols to make up these collection, briefly they are:\n",
    "* list:  [1,2,3]\n",
    "* dictionary:     { \"a\":1  , \"b\":2   , \"c\": 3}\n",
    "* set:  {1,2,3,\"abc\"}\n",
    "* tuple:  (1,2,3)\n"
   ]
  },
  {
   "cell_type": "code",
   "execution_count": null,
   "metadata": {
    "collapsed": true
   },
   "outputs": [],
   "source": []
  },
  {
   "cell_type": "code",
   "execution_count": 9,
   "metadata": {
    "collapsed": false
   },
   "outputs": [
    {
     "name": "stdout",
     "output_type": "stream",
     "text": [
      "[1, 2, 3, 4]\n",
      "[1, 2, 3, 4]\n",
      "[1, 2, 3, 4]\n",
      "['a', 1, 'cccc']\n",
      "[12, 14, 16, 18]\n"
     ]
    }
   ],
   "source": [
    "a1 = [1,2,3,4]\n",
    "a2 = range(1,5)\n",
    "print(a1)\n",
    "print(a2)\n",
    "a2 = ['a',1,'cccc']\n",
    "print(a1)\n",
    "print(a2)\n",
    "a3 = range(12,20,2)\n",
    "print(a3)"
   ]
  },
  {
   "cell_type": "code",
   "execution_count": 10,
   "metadata": {
    "collapsed": false
   },
   "outputs": [
    {
     "name": "stdout",
     "output_type": "stream",
     "text": [
      "[0, 1, 2] [1, 2, 3]\n"
     ]
    }
   ],
   "source": [
    "a1=range(3)\n",
    "a2=range(1,4)\n",
    "print(a1,a2)"
   ]
  },
  {
   "cell_type": "code",
   "execution_count": 11,
   "metadata": {
    "collapsed": false
   },
   "outputs": [
    {
     "data": {
      "text/plain": [
       "[0, 1, 2, 1, 2, 3]"
      ]
     },
     "execution_count": 11,
     "metadata": {},
     "output_type": "execute_result"
    }
   ],
   "source": [
    "a1+a2"
   ]
  },
  {
   "cell_type": "markdown",
   "metadata": {},
   "source": [
    "### Math and Numeric Arrays"
   ]
  },
  {
   "cell_type": "code",
   "execution_count": 12,
   "metadata": {
    "collapsed": true
   },
   "outputs": [],
   "source": [
    "import math\n",
    "import numpy as np"
   ]
  },
  {
   "cell_type": "code",
   "execution_count": 13,
   "metadata": {
    "collapsed": false
   },
   "outputs": [
    {
     "data": {
      "text/plain": [
       "3.141592653589793"
      ]
     },
     "execution_count": 13,
     "metadata": {},
     "output_type": "execute_result"
    }
   ],
   "source": [
    "math.pi\n"
   ]
  },
  {
   "cell_type": "code",
   "execution_count": 14,
   "metadata": {
    "collapsed": false
   },
   "outputs": [
    {
     "data": {
      "text/plain": [
       "3.141592653589793"
      ]
     },
     "execution_count": 14,
     "metadata": {},
     "output_type": "execute_result"
    }
   ],
   "source": [
    "np.pi\n"
   ]
  },
  {
   "cell_type": "code",
   "execution_count": 15,
   "metadata": {
    "collapsed": false
   },
   "outputs": [],
   "source": [
    "# %matplotlib inline\n",
    "import matplotlib.pyplot as plt"
   ]
  },
  {
   "cell_type": "code",
   "execution_count": 16,
   "metadata": {
    "collapsed": false
   },
   "outputs": [],
   "source": [
    "a=np.arange(0,1,0.01)"
   ]
  },
  {
   "cell_type": "code",
   "execution_count": 17,
   "metadata": {
    "collapsed": false
   },
   "outputs": [],
   "source": [
    "b = a*a\n",
    "c = np.sqrt(a)"
   ]
  },
  {
   "cell_type": "code",
   "execution_count": 18,
   "metadata": {
    "collapsed": false
   },
   "outputs": [
    {
     "data": {
      "text/plain": [
       "<matplotlib.legend.Legend at 0x7fcf86dc1810>"
      ]
     },
     "execution_count": 18,
     "metadata": {},
     "output_type": "execute_result"
    }
   ],
   "source": [
    "plt.plot(a,b,'-bo',label='b')\n",
    "plt.plot(a,c,'-ro',label='c')\n",
    "plt.legend()"
   ]
  },
  {
   "cell_type": "code",
   "execution_count": 19,
   "metadata": {
    "collapsed": false,
    "scrolled": true
   },
   "outputs": [
    {
     "data": {
      "text/plain": [
       "[<matplotlib.lines.Line2D at 0x7fcf86dc1a10>]"
      ]
     },
     "execution_count": 19,
     "metadata": {},
     "output_type": "execute_result"
    }
   ],
   "source": [
    "plt.plot(a,a+1)\n"
   ]
  },
  {
   "cell_type": "code",
   "execution_count": 20,
   "metadata": {
    "collapsed": true
   },
   "outputs": [],
   "source": [
    "plt.show()\n"
   ]
  },
  {
   "cell_type": "code",
   "execution_count": null,
   "metadata": {
    "collapsed": true
   },
   "outputs": [],
   "source": []
  },
  {
   "cell_type": "code",
   "execution_count": null,
   "metadata": {
    "collapsed": true
   },
   "outputs": [],
   "source": []
  }
 ],
 "metadata": {
  "kernelspec": {
   "display_name": "Python 3",
   "language": "python",
   "name": "python3"
  },
  "language_info": {
   "codemirror_mode": {
    "name": "ipython",
    "version": 3
   },
   "file_extension": ".py",
   "mimetype": "text/x-python",
   "name": "python",
   "nbconvert_exporter": "python",
   "pygments_lexer": "ipython3",
   "version": "3.5.2"
  }
 },
 "nbformat": 4,
 "nbformat_minor": 0
}
