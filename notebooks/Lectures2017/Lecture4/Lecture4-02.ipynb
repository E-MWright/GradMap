{
 "cells": [
  {
   "cell_type": "markdown",
   "metadata": {},
   "source": [
    "# Gas Streaming in Disks: circular orbit approach\n",
    "\n",
    "The gas streaming around a young star, or in a galactic disk is dominated by gravity. So we can simply compute the orbits of a point mass around a star, or in the more complex potential of a galactic disk, where we actually want to discover the mass distribution from the gas (or star) streaming.\n",
    "\n",
    "If we assume the mass distribution is spherical, we know circular orbits are the simple solution to gas flow or periodic orbits in such a potential. This will allow us to predict the velocity field we are observing in galaxies such as NGC 6503.\n"
   ]
  },
  {
   "cell_type": "code",
   "execution_count": null,
   "metadata": {
    "collapsed": false
   },
   "outputs": [],
   "source": [
    "%matplotlib inline\n",
    "import matplotlib.pyplot as plt"
   ]
  },
  {
   "cell_type": "code",
   "execution_count": null,
   "metadata": {
    "collapsed": false
   },
   "outputs": [],
   "source": [
    "import numpy as np\n",
    "import math"
   ]
  },
  {
   "cell_type": "markdown",
   "metadata": {},
   "source": [
    "# Initialize the data\n"
   ]
  },
  {
   "cell_type": "markdown",
   "metadata": {},
   "source": [
    "First we need to define a function that tells us the speed of the gas at a given distance from the center of the star or galaxy. We consider only three simple cases here, always based on the balance of gravitation and centrifugal force in a spherical mass distribution:\n",
    "$$\n",
    "      { v^2 \\over r } = {{ G M(<r) } \\over r^2}\n",
    "$$\n",
    "or\n",
    "$$\n",
    "          v  = \\sqrt{  {G M(<r) }  \\over r}\n",
    "$$\n",
    "\n",
    "Of course this implies (and that's what we eventually want to do) that for a giving rotation curve, $v$, we can find out the mass distribution:\n",
    "$$\n",
    "        G M(<r) = v^2 r \n",
    "$$"
   ]
  },
  {
   "cell_type": "code",
   "execution_count": null,
   "metadata": {
    "collapsed": false
   },
   "outputs": [],
   "source": [
    "def velocity(radius, model='galaxy'):\n",
    "    \"\"\"describe the streaming velocity as function of radius in or around an object\n",
    "    such as a star or a galaxy.  We usually define the velocity to be 1 at a radius of 1.\n",
    "    \"\"\"\n",
    "    if model == 'star':\n",
    "        # A star has a keplerian rotation curve. The planets around our sun obey this law.\n",
    "        if radius == 0.0:\n",
    "            return 0.0\n",
    "        else:\n",
    "            return 1.0/np.sqrt(radius)\n",
    "    elif model == 'galaxy':\n",
    "        # Most disk galaxies have a flat rotation curve with a linear slope in the center.\n",
    "        if radius > 1.0:\n",
    "            # flat rotation curve outside radius 1.0\n",
    "            return 1.0\n",
    "        else:\n",
    "            # solid body inside radius 1.0, linearly rising rotation curve\n",
    "            return radius\n",
    "    elif model == 'plummer':\n",
    "        # A plummer sphere was an early 1900s description of clusters, and is also not\n",
    "        # a bad description for the inner portions of a galaxy. You can also view it\n",
    "        # as a hybrid and softened version of the 'star' and 'galaxy' described above.\n",
    "        # Note: not quite 1 at 1 yet\n",
    "        # return  radius / (1+radius*radius)**0.75\n",
    "        return radius / (0.5+0.5*radius*radius)**0.75\n",
    "    else:\n",
    "        return 0.0\n",
    "        "
   ]
  },
  {
   "cell_type": "code",
   "execution_count": null,
   "metadata": {
    "collapsed": false
   },
   "outputs": [],
   "source": [
    "#model = 'star'\n",
    "#model = 'galaxy'\n",
    "model = 'plummer'\n",
    "rad = np.arange(0.0,4.0,0.05)\n",
    "vel = np.zeros(len(rad))                   #    this also works: vel = rad * 0.0\n",
    "for i in range(len(rad)):\n",
    "    vel[i] = velocity(rad[i],model)\n",
    "print(\"First, peak and Last value:\",vel[0],vel.max(),vel[-1])"
   ]
  },
  {
   "cell_type": "markdown",
   "metadata": {},
   "source": [
    "## Plotting the Rotation Curve"
   ]
  },
  {
   "cell_type": "code",
   "execution_count": null,
   "metadata": {
    "collapsed": false
   },
   "outputs": [],
   "source": [
    "plt.plot(rad,vel)\n",
    "plt.xlabel(\"Radius\")\n",
    "plt.ylabel(\"Velocity\")\n",
    "plt.title(\"Rotation Curve (%s)\" % model);"
   ]
  },
  {
   "cell_type": "markdown",
   "metadata": {},
   "source": [
    "This curve of velocity as function of radius is called a **Rotation Curve**, and extracting such a curve from an observation is crucial to understanding the mass distribution within a galaxy, or the mass of the young star at the center of the disk. We are assuming the gas is on circular orbits, which turns out is not always correct for galaxies. However, for this experiment we will keep that assumption."
   ]
  },
  {
   "cell_type": "code",
   "execution_count": null,
   "metadata": {
    "collapsed": false
   },
   "outputs": [],
   "source": [
    "# set the inclination of the disk with the line of sigh \n",
    "inc = 60                                      #  (0 means face-on, 90 means edge-on)\n",
    "#                                                 some helper variables\n",
    "cosi = math.cos(inc*math.pi/180.0)        \n",
    "sini = math.sin(inc*math.pi/180.0)\n",
    "#                                    radius of the disk, and steps in radius\n",
    "r0 = 4.0\n",
    "dr = 0.1"
   ]
  },
  {
   "cell_type": "markdown",
   "metadata": {},
   "source": [
    "## Backwards Projection\n",
    "\n",
    "This is where we take a point in the sky, and deproject back where in the galaxy this point came from and compute the velocity and projected velocity. The big advantage is the simplicity of computing the observable at each picked point in the sky. The big drawback is that the deprojection may not be trivial in cases where the model is not simple, e.g. non-circular motion and/or non-planar disks. Since we have a simple model here, let's take this approach.  \n",
    "\n",
    "The so-called forward projection we would need to use some extra steps that only add to the complexity.\n"
   ]
  },
  {
   "cell_type": "code",
   "execution_count": null,
   "metadata": {
    "collapsed": false
   },
   "outputs": [],
   "source": [
    "dr = 0.5\n",
    "x = np.arange(-r0,r0,dr)\n",
    "y = np.arange(-r0,r0,dr)\n",
    "xx,yy = np.meshgrid(x,y)                  # helper variables for interpolations\n",
    "rr = np.sqrt(xx*xx+(yy/cosi)**2)\n",
    "if r0/dr < 20:\n",
    "    plt.scatter(xx,yy)\n",
    "else:\n",
    "    print(\"not plotting too many gridpoints/dimension\",r0/dr)"
   ]
  },
  {
   "cell_type": "markdown",
   "metadata": {},
   "source": [
    "Although we have defined a function **velocity** to compute the rotation velocity at any radius, this function cannot easily compute from a numpy array, as we just created on a grid on the sky. Thus we need a convenience function to do just that. \n",
    "\n",
    "You could also try and modify the **velocity** function so it takes a numpy array as input, and return a numpy !!!"
   ]
  },
  {
   "cell_type": "code",
   "execution_count": null,
   "metadata": {
    "collapsed": false
   },
   "outputs": [],
   "source": [
    "def velocity2d(rad2d, model):\n",
    "    \"\"\" convenient helper function to take a 2d array of radii\n",
    "        and return the same-shaped velocities\n",
    "    \"\"\"\n",
    "    (ny,nx) = rad2d.shape\n",
    "    vel2d = rad2d.copy()         # could also do np.zeros(nx*ny).reshape(ny,nx)\n",
    "    for y in range(ny):\n",
    "        for x in range(nx):\n",
    "            vel2d[y,x] = velocity(rad2d[y,x],model)\n",
    "    return vel2d"
   ]
  },
  {
   "cell_type": "code",
   "execution_count": null,
   "metadata": {
    "collapsed": false
   },
   "outputs": [],
   "source": [
    "vv = velocity2d(rr,model)\n",
    "vvmasked = np.ma.masked_where(rr>r0,vv)\n",
    "vobs = vvmasked * xx / rr * sini\n",
    "print(\"V_max:\",vobs.max())\n"
   ]
  },
  {
   "cell_type": "code",
   "execution_count": null,
   "metadata": {
    "collapsed": false,
    "scrolled": true
   },
   "outputs": [],
   "source": [
    "vmax = 1\n",
    "vmax = vobs.max()\n",
    "if vmax > 0:\n",
    "    plt.imshow(vobs,origin=['Lower'],vmin=-vmax, vmax=vmax)\n",
    "    #plt.matshow(vobs,origin=['Lower'],vmin=-vmax, vmax=vmax)\n",
    "else:\n",
    "    plt.imshow(vobs,origin=['Lower'])\n",
    "plt.colorbar()"
   ]
  },
  {
   "cell_type": "markdown",
   "metadata": {},
   "source": [
    "This plot will not look very good :\n",
    "\n",
    "* make the step size in radius (**dr**) small enough.\n",
    "* select the right plotting range via vmax=\n",
    "* turn off the interpolation method that is defaulted in imshow().  For enough pixels (or small **dr**) there should be no difference between imshow() and matshow()"
   ]
  }
 ],
 "metadata": {
  "anaconda-cloud": {},
  "kernelspec": {
   "display_name": "Python [default]",
   "language": "python",
   "name": "python3"
  },
  "language_info": {
   "codemirror_mode": {
    "name": "ipython",
    "version": 3
   },
   "file_extension": ".py",
   "mimetype": "text/x-python",
   "name": "python",
   "nbconvert_exporter": "python",
   "pygments_lexer": "ipython3",
   "version": "3.5.2"
  }
 },
 "nbformat": 4,
 "nbformat_minor": 0
}
