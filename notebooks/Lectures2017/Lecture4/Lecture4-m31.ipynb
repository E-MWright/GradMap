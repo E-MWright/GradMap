{
 "cells": [
  {
   "cell_type": "markdown",
   "metadata": {},
   "source": [
    "# Dark Matter in M31  .. in 1970 (Rubin & Ford)\n",
    "\n",
    "As a tribute to [Vera Rubin](https://en.wikipedia.org/wiki/Vera_Rubin)'s work here is a notebook discussing one of her well known papers on the topic of dark matter.  During the Greenbank observing we un-covered rotation in our galaxy, and how we could find out that there is dark matter in the Milky Way. But now we will uncover that our nearest neighbor galaxy,the Andromeda Galaxy (a.k.a. **M31**), seems to have dark matter as well.\n",
    "\n",
    "Although [Fritz Zwicky](https://en.wikipedia.org/wiki/Fritz_Zwicky), in 1933 already, had indications that things did not add up, and he coined the term *dunkle Materie* (*Dark Matter* in German, he is from Swiss origin), it took another 20+ years before the astronomical community realized he was right.  Zwicky's work was based on the motions of galaxies in clusters, but it was the work of Roberts, Rubin, Bosma and many others that solidified that in galaxies themselves there was an equal problem of \"missing matter\", which we now call Dark Matter, after Zwicky.\n",
    "\n",
    "In this notebook we will take the original data from Rubin & Ford's 1970 paper\n",
    "[\"*Rotation of the Andromeda Nebula from a Spectroscopic Survey of Emission Regions*\"](http://adsabs.harvard.edu/abs/1970ApJ...159..379R) and derive a rotation curve.  Let us start with the basic data in this paper:\n",
    "  \n",
    "![table](m31-table1.png)"
   ]
  },
  {
   "cell_type": "markdown",
   "metadata": {},
   "source": [
    "This table has 9 columns, but columns 2, 3, 6 and possibly 7, are the only that are the actual columns relevant for us now. Columns 4, 5 and 8 are actually derived from the other columns, but we want to show the computations to get to these columns in this notebook.\n",
    "\n",
    "It takes some reading of the paper (p381) to realize X \"*is positive with increased Right Ascension*\", and Y \"*is positive to the south*\".  We will need this information a little later on in this notebook."
   ]
  },
  {
   "cell_type": "code",
   "execution_count": null,
   "metadata": {
    "collapsed": true
   },
   "outputs": [],
   "source": [
    "data_file = 'm31-rubin.tab'"
   ]
  },
  {
   "cell_type": "markdown",
   "metadata": {},
   "source": [
    "We will need to read 4 columns from this data_file (x,y,vobs,weight). We will actually ignore the weight column, although it is in the data file, so we do need to read it!\n",
    "First we will plot just the (x,y) positions on the sky. Units are arcmin. Recall the diameter of the moon is about 30 arcmin:  M31 is large!\n",
    "\n",
    "**Q1:** how can you have a quick peek at this data file how it is structured?\n"
   ]
  },
  {
   "cell_type": "code",
   "execution_count": null,
   "metadata": {
    "collapsed": false
   },
   "outputs": [],
   "source": [
    "import numpy as np\n",
    "\n",
    "#   read in rows, but transpose the data to get us the columns we want\n",
    "(x,y,vobs,wt) = np.loadtxt(data_file).T \n",
    "#(x,y,vobs,wt) = np.loadtxt(data_file, unpack=True)\n",
    "#   check how many rows we have and list the first and last X\n",
    "print(len(x), x[0], x[-1])                 # should be 67, 14.8 -113.6"
   ]
  },
  {
   "cell_type": "markdown",
   "metadata": {},
   "source": [
    "The problem with this type of calling **loadtxt** is that you need to known the number of columns ahead of time. A more flexible way is to parse the output after the call. More lines of code, more flexible! Also easier to ignore that column \"wt\" we didn't care about in this notebook.\n",
    "\n",
    "So, lets do this again."
   ]
  },
  {
   "cell_type": "code",
   "execution_count": null,
   "metadata": {
    "collapsed": false
   },
   "outputs": [],
   "source": [
    "data = np.loadtxt(data_file)\n",
    "print(\"Data shape\",data.shape)\n",
    "x    = data[:,0]\n",
    "y    = data[:,1]\n",
    "vobs = data[:,2]\n",
    "print(len(x), x[0], x[-1])    \n"
   ]
  },
  {
   "cell_type": "code",
   "execution_count": null,
   "metadata": {
    "collapsed": true
   },
   "outputs": [],
   "source": [
    "%matplotlib inline\n",
    "\n",
    "import numpy as np\n",
    "import matplotlib.pyplot as plt"
   ]
  },
  {
   "cell_type": "code",
   "execution_count": null,
   "metadata": {
    "collapsed": false
   },
   "outputs": [],
   "source": [
    "plt.scatter(x,y,c=vobs)\n",
    "plt.axis('equal')\n",
    "plt.xlabel('X (arcmin)')\n",
    "plt.ylabel('Y (arcmin)')\n",
    "plt.title('M31: velocity coded regions')\n",
    "plt.colorbar()"
   ]
  },
  {
   "cell_type": "code",
   "execution_count": null,
   "metadata": {
    "collapsed": false
   },
   "outputs": [],
   "source": [
    "plt.scatter(x,vobs)\n",
    "plt.xlabel('X (arcmin)')\n",
    "plt.ylabel('Vobs (km/s)');"
   ]
  },
  {
   "cell_type": "markdown",
   "metadata": {},
   "source": [
    "Lets add a horizontal and vertical line to cut the galaxy in halves, both in position (X=0) and velocity (now we needed to know where this is.... I'll cheat and tell you it is -300 km/s) "
   ]
  },
  {
   "cell_type": "code",
   "execution_count": null,
   "metadata": {
    "collapsed": false
   },
   "outputs": [],
   "source": [
    "plt.scatter(x,vobs)\n",
    "plt.xlabel('X (arcmin)')\n",
    "plt.ylabel('Vobs (km/s)')\n",
    "#\n",
    "xmin,xmax = plt.xlim()\n",
    "vmin,vmax = plt.ylim()\n",
    "plt.xlim(xmin,xmax)\n",
    "plt.ylim(vmin,vmax)\n",
    "print(xmin,xmax,vmin,vmax)\n",
    "plt.plot([xmin,xmax], [-300,-300], c='black')\n",
    "plt.plot([0,0]      , [vmin,vmax], c='black');"
   ]
  },
  {
   "cell_type": "code",
   "execution_count": null,
   "metadata": {
    "collapsed": false
   },
   "outputs": [],
   "source": [
    "plt.scatter(y,vobs)\n",
    "plt.xlabel('Y (arcmin)')\n",
    "plt.ylabel('Vobs (km/s)');"
   ]
  },
  {
   "cell_type": "markdown",
   "metadata": {},
   "source": [
    "The figure has X along the major axis, and Y along the minor axis, but these are rotated along the sky, because the position angle of the galaxy is not 90 degrees.\n"
   ]
  },
  {
   "cell_type": "markdown",
   "metadata": {},
   "source": [
    "![regions](m31-chart.png)"
   ]
  },
  {
   "cell_type": "code",
   "execution_count": null,
   "metadata": {
    "collapsed": false
   },
   "outputs": [],
   "source": [
    "#    literature values\n",
    "pa = 32.0           # 0 means north up, positive is counting east (counter clock wise)\n",
    "inc = 77.0          # 90 is edge on, 0 is face on\n",
    "vsys = -300.0       # systemic velocity in km/s\n",
    "distance = 690.0    # distance in kpc\n",
    "\n",
    "# for fun : the infall time would be:  time = distance / speed\n",
    "time = (distance * 3e21) / (vsys * 1e5) / (365*24*60*60 * 1e9)      # in Gyr\n",
    "print(time)"
   ]
  },
  {
   "cell_type": "markdown",
   "metadata": {},
   "source": [
    "Now produce the same plot rotated how it should look on the sky and compare with the figure we took from the published paper."
   ]
  },
  {
   "cell_type": "code",
   "execution_count": null,
   "metadata": {
    "collapsed": false
   },
   "outputs": [],
   "source": [
    "# useful constants for a rotation matrix\n",
    "cosp = np.cos(pa * np.pi/180.0)\n",
    "sinp = np.sin(pa * np.pi/180.0)\n",
    "# rotate all the (x,y) coordinates......bad wrong\n",
    "x_sky = -sinp * x + cosp * y\n",
    "y_sky =  cosp * x + sinp * y\n",
    "# plot\n",
    "plt.scatter(x_sky,y_sky,c=vobs)\n",
    "plt.axis('equal')\n",
    "plt.title('M31 regions');"
   ]
  },
  {
   "cell_type": "markdown",
   "metadata": {},
   "source": [
    "Now produce the rotation speed, assuming all measurements are from the same plane and are on circular orbits, as function of a deprojected X. This would be rotation curve on both the negative and positive X' axis.\n",
    "\n",
    "$$\n",
    "    V_{obs} = V_{sys} + V_{rot} * \\sin{i} * \\cos{\\Theta}\n",
    "$$\n",
    "where\n",
    "$$\n",
    "    \\tan{\\Theta} = {\\tan{\\phi} \\over \\cos{i}}\n",
    "$$\n",
    "with $\\Theta$ is in the plane of the galaxy, and $\\phi$ in the plane of the sky.\n"
   ]
  },
  {
   "cell_type": "code",
   "execution_count": null,
   "metadata": {
    "collapsed": false
   },
   "outputs": [],
   "source": [
    "# useful de-projection factors\n",
    "cosi = np.cos(inc*np.pi/180.0)\n",
    "sini = np.sin(inc*np.pi/180.0)\n",
    "# (x,y) are along sky major and minor axis\n",
    "# (xs,ys) are in the disk of M31\n",
    "xs = x\n",
    "ys = y/cosi\n",
    "tan_t = ys/xs\n",
    "t = np.arctan2(ys,xs)*180.0/np.pi\n",
    "cos_t = 1.0/np.sqrt(1+tan_t*tan_t)\n",
    "vrots = (vobs-vsys) / cos_t / sini\n",
    "rs = np.sqrt(xs*xs + ys*ys) * np.sign(xs)\n",
    "#"
   ]
  },
  {
   "cell_type": "markdown",
   "metadata": {},
   "source": [
    "Before going on, let us spot check the first line from the table\n",
    "\n",
    "      (2)  (3)   (4)  (5)  (6)  (7)  (8)  (9)\n",
    "    +14.8 +1.5  16.2 24.5 -241  1.8  66   11\n",
    "\n",
    "to confirm columns 4,5 and 8 that were derived from columns 2, 3 and 6.\n",
    "\n",
    "Notice though we've defined a variable **k**, instead of hard coding it for the first line. Useful for debugging.\n"
   ]
  },
  {
   "cell_type": "code",
   "execution_count": null,
   "metadata": {
    "collapsed": false
   },
   "outputs": [],
   "source": [
    "k=0\n",
    "print(\"Checking table1 for region %d: \" % (k+1))\n",
    "print(x[k],y[k],rs[k],t[k],vobs[k],vrots[k])"
   ]
  },
  {
   "cell_type": "code",
   "execution_count": null,
   "metadata": {
    "collapsed": false
   },
   "outputs": [],
   "source": [
    "plt.scatter(rs,vrots)\n",
    "#\n",
    "xmin,xmax = plt.xlim()\n",
    "vmin,vmax = plt.ylim()\n",
    "plt.xlim(xmin,xmax)\n",
    "plt.ylim(vmin,vmax)\n",
    "print(xmin,xmax,vmin,vmax)\n",
    "plt.plot([xmin,xmax],[0,0],c='black')\n",
    "plt.plot([0,0],[vmin,vmax],c='black');"
   ]
  },
  {
   "cell_type": "markdown",
   "metadata": {},
   "source": [
    "Fold it over, and plot a single rotation curve as function of radius. Convert the radius to kpc from the original arcmin based on the distance."
   ]
  },
  {
   "cell_type": "code",
   "execution_count": null,
   "metadata": {
    "collapsed": false
   },
   "outputs": [],
   "source": [
    "vrot = np.abs(vrots)\n",
    "r = np.abs(rs)"
   ]
  },
  {
   "cell_type": "code",
   "execution_count": null,
   "metadata": {
    "collapsed": false,
    "scrolled": true
   },
   "outputs": [],
   "source": [
    "plt.scatter(r,vrot)\n",
    "plt.title(\"M31 rotation velocities\")\n",
    "plt.xlabel(\"Radius (arcmin)\")\n",
    "plt.ylabel(\"Velocity (km/s)\");"
   ]
  },
  {
   "cell_type": "markdown",
   "metadata": {},
   "source": [
    "Notice that there are no emission regions in the inner parts, below 15 arcmin or so. This was also noted in the paper.\n",
    "\n",
    "We could ask ourselves the question, could we have ignored the Y coordinate and just plot  the X and V ? For a high inclination galaxy you could argue what we measure is all along the major axis, which is the rotation curve.  Let's try this in a two panel comparison"
   ]
  },
  {
   "cell_type": "code",
   "execution_count": null,
   "metadata": {
    "collapsed": false
   },
   "outputs": [],
   "source": [
    "fig = plt.figure()\n",
    "fig1 = fig.add_subplot(121)\n",
    "fig1.scatter(r,vrot)\n",
    "fig2 = fig.add_subplot(122)\n",
    "fig2.scatter(r,vrot);                   # replace this with the 1D version"
   ]
  },
  {
   "cell_type": "markdown",
   "metadata": {},
   "source": [
    "### Epilogue \n",
    "\n",
    "If you want to read a historic followup on the M31 work, see this paper by M.S. Roberts titled [\"*M 31 and a Brief History of Dark Matter*\"](http://adsabs.harvard.edu/abs/2008ASPC..395..283R)\n"
   ]
  },
  {
   "cell_type": "code",
   "execution_count": null,
   "metadata": {
    "collapsed": true
   },
   "outputs": [],
   "source": []
  }
 ],
 "metadata": {
  "anaconda-cloud": {},
  "kernelspec": {
   "display_name": "Python [default]",
   "language": "python",
   "name": "python3"
  },
  "language_info": {
   "codemirror_mode": {
    "name": "ipython",
    "version": 3
   },
   "file_extension": ".py",
   "mimetype": "text/x-python",
   "name": "python",
   "nbconvert_exporter": "python",
   "pygments_lexer": "ipython3",
   "version": "3.5.2"
  }
 },
 "nbformat": 4,
 "nbformat_minor": 1
}
