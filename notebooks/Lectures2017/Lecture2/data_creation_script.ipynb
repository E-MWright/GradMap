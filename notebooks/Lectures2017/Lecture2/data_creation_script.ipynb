{
 "cells": [
  {
   "cell_type": "code",
   "execution_count": null,
   "metadata": {
    "collapsed": false
   },
   "outputs": [],
   "source": [
    "%matplotlib inline\n",
    "import numpy as np\n",
    "import matplotlib.pyplot as plt\n",
    "import numpy.random as rndm"
   ]
  },
  {
   "cell_type": "code",
   "execution_count": null,
   "metadata": {
    "collapsed": false
   },
   "outputs": [],
   "source": [
    "#This is fake data representing a time series\n",
    "t = np.linspace(0,100,1000)\n",
    "signal = rndm.randn(1000)+10.\n",
    "\n",
    "i = 0\n",
    "while (i < 50):\n",
    "    signal[rndm.randint(0,999)] += 30.\n",
    "    i += 1\n",
    "\n",
    "\n",
    "plt.plot(t,signal)\n",
    "plt.show()\n",
    "\n",
    "plt.plot(t[np.where(signal<15.)],signal[np.where(signal<15.)])\n",
    "plt.show()"
   ]
  },
  {
   "cell_type": "code",
   "execution_count": null,
   "metadata": {
    "collapsed": false
   },
   "outputs": [],
   "source": [
    "#Creating output text file for time series\n",
    "outArray = np.array([t,signal])\n",
    "np.savetxt('./lecture2_data/timeseries_data.txt',outArray)"
   ]
  }
 ],
 "metadata": {
  "anaconda-cloud": {},
  "kernelspec": {
   "display_name": "Python [conda root]",
   "language": "python",
   "name": "conda-root-py"
  },
  "language_info": {
   "codemirror_mode": {
    "name": "ipython",
    "version": 3
   },
   "file_extension": ".py",
   "mimetype": "text/x-python",
   "name": "python",
   "nbconvert_exporter": "python",
   "pygments_lexer": "ipython3",
   "version": "3.5.2"
  }
 },
 "nbformat": 4,
 "nbformat_minor": 1
}
