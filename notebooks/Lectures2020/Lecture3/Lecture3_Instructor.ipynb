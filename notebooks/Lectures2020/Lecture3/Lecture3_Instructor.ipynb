{
 "cells": [
  {
   "cell_type": "markdown",
   "metadata": {},
   "source": [
    "## Review from the previous lecture\n",
    "In yesterday's Lecture 2, you learned how to use the `numpy` module, how to make your own functions, and how to import and export data. Below is a quick review before we move on to Lecture 3."
   ]
  },
  {
   "cell_type": "markdown",
   "metadata": {},
   "source": [
    "Remember, to use the `numpy` module, first it must be imported:"
   ]
  },
  {
   "cell_type": "code",
   "execution_count": 1,
   "metadata": {},
   "outputs": [],
   "source": [
    "import numpy as np"
   ]
  },
  {
   "cell_type": "markdown",
   "metadata": {},
   "source": [
    "You can do a lot with the `numpy` module. Below is an example to jog your memory:"
   ]
  },
  {
   "cell_type": "code",
   "execution_count": 2,
   "metadata": {},
   "outputs": [
    {
     "data": {
      "text/plain": [
       "array([ 0.,  1.,  2.,  3.,  4.,  5.,  6.,  7.,  8.,  9., 10.])"
      ]
     },
     "execution_count": 2,
     "metadata": {},
     "output_type": "execute_result"
    }
   ],
   "source": [
    "np.linspace(0,10,11)"
   ]
  },
  {
   "cell_type": "markdown",
   "metadata": {},
   "source": [
    "Do you remember the Fibonacci sequence from yesterday's Lecture 1? Let's define our own function that will help us to write the Fibonacci sequence."
   ]
  },
  {
   "cell_type": "code",
   "execution_count": 3,
   "metadata": {},
   "outputs": [],
   "source": [
    "def myFib(a,b):\n",
    "    return a+b"
   ]
  },
  {
   "cell_type": "markdown",
   "metadata": {},
   "source": [
    "Remember loops too? Let's get the first 10 numbers in the Fibonacci sequence."
   ]
  },
  {
   "cell_type": "code",
   "execution_count": 4,
   "metadata": {},
   "outputs": [
    {
     "name": "stdout",
     "output_type": "stream",
     "text": [
      "[ 0.  1.  1.  2.  3.  5.  8. 13. 21. 34.]\n"
     ]
    }
   ],
   "source": [
    "# change this to be simpler, confused students\n",
    "\n",
    "fibLength = 10 #the length we want for our Fibonacci sequence\n",
    "fibSeq = np.zeros(fibLength) #make a numpy array of 10 zeros\n",
    "\n",
    "# Let's define the first 2 elements of the Fibonacci sequence\n",
    "fibSeq[0] = 0\n",
    "fibSeq[1] = 1\n",
    "\n",
    "i = 2 #with the first 2 elements defined, we can calculate the rest of the sequence beginning with the 3rd element\n",
    "\n",
    "while i-1 < fibLength-1:\n",
    "    nextFib = myFib(fibSeq[i-2],fibSeq[i-1])\n",
    "    fibSeq[i] = nextFib\n",
    "    i = i + 1\n",
    "    \n",
    "print(fibSeq)"
   ]
  },
  {
   "cell_type": "markdown",
   "metadata": {},
   "source": [
    "There's your quick review of `numpy` and functions along with a while loop thrown in. Now we can move on to the content of Lecture 3."
   ]
  },
  {
   "cell_type": "markdown",
   "metadata": {},
   "source": [
    "# Lecture 3 - Distributions, Histograms, and Curve Fitting\n",
    "\n",
    "In the previous lecture, you learned how to import the module `numpy` and how to use many of its associated functions. As you've seen, `numpy` gives us the ability to generate arrays of numbers using commands usch as `np.linspace` and others.\n",
    "\n",
    "In addition to these commands, you can also use `numpy` to generate distributions of numbers. The two most frequently used distributions are the following:\n",
    "\n",
    "- the uniform distribution: `np.random.rand`\n",
    "- the normal (Gaussian) distribution: `np.random.randn`\n",
    "(*notice the \"n\" that distinguishes the functions for generating normal vs. uniform distributions*)"
   ]
  },
  {
   "cell_type": "markdown",
   "metadata": {},
   "source": [
    "# A. Generating distributions"
   ]
  },
  {
   "cell_type": "markdown",
   "metadata": {},
   "source": [
    "## Let's start with the uniform distribution (rand), which gives numbers uniformly distributed over the interval [0,1).\n",
    "\n",
    "If you haven't already, import the `numpy` module."
   ]
  },
  {
   "cell_type": "code",
   "execution_count": 5,
   "metadata": {},
   "outputs": [],
   "source": [
    "import numpy as np"
   ]
  },
  {
   "cell_type": "markdown",
   "metadata": {},
   "source": [
    "Let's generate a numpy array of length 5 populated with uniformly distributed random numbers. The function `np.random.rand` takes the array output size as an argument (in this case, 5)."
   ]
  },
  {
   "cell_type": "code",
   "execution_count": 6,
   "metadata": {},
   "outputs": [
    {
     "data": {
      "text/plain": [
       "array([0.22066848, 0.47404708, 0.54952538, 0.03641728, 0.64158439])"
      ]
     },
     "execution_count": 6,
     "metadata": {},
     "output_type": "execute_result"
    }
   ],
   "source": [
    "np.random.rand(5)"
   ]
  },
  {
   "cell_type": "markdown",
   "metadata": {},
   "source": [
    "Additionally, you are not limited to one-dimensional arrays! Let's make a 5x5, two-dimensional array:"
   ]
  },
  {
   "cell_type": "code",
   "execution_count": 7,
   "metadata": {},
   "outputs": [
    {
     "data": {
      "text/plain": [
       "array([[0.14381923, 0.41209026, 0.1264556 , 0.11342832, 0.96739099],\n",
       "       [0.96567917, 0.4425016 , 0.54154711, 0.57454029, 0.06981472],\n",
       "       [0.48449618, 0.10875765, 0.71715397, 0.84566441, 0.82845668],\n",
       "       [0.82302733, 0.40230442, 0.133462  , 0.4190078 , 0.39268219],\n",
       "       [0.80738555, 0.83754033, 0.12829614, 0.84321427, 0.0270483 ]])"
      ]
     },
     "execution_count": 7,
     "metadata": {},
     "output_type": "execute_result"
    }
   ],
   "source": [
    "np.random.rand(5,5)"
   ]
  },
  {
   "cell_type": "markdown",
   "metadata": {},
   "source": [
    "Great, so now you have a handle on generating uniform distributions. Let's quickly look at one more type of distribution."
   ]
  },
  {
   "cell_type": "markdown",
   "metadata": {},
   "source": [
    "## The normal distribution (randn) selects numbers from a Gaussian curve, sometimes called a bell curve, also from the interval [0,1).\n",
    "\n",
    "The equation for a Gaussian curve is the following:\n",
    "\n",
    "$f(x) = \\frac{1}{\\sqrt{2\\pi\\sigma^2}}e^{\\frac{-(x-\\mu)^2}{2\\sigma^2}}$\n",
    "\n",
    "where $\\mu$ is the mean and $\\sigma$ is the standard deviation. "
   ]
  },
  {
   "cell_type": "markdown",
   "metadata": {},
   "source": [
    "Don't worry about memorizing this equation, but do know that it exists and that numbers can be randomly drawn from it.\n",
    "\n",
    "In python, the command `np.random.randn` selects numbers from the \"standard\" normal distribution.\n",
    "\n",
    "All this means is that, in the equation above, $\\mu$ (mean) = 0 and $\\sigma$ (standard deviation ) 1. `randn` takes the size of the output as an argument just like `rand` does.\n",
    "\n",
    "Try running the cell below to see the numbers you get from a normal distribution."
   ]
  },
  {
   "cell_type": "code",
   "execution_count": 9,
   "metadata": {
    "scrolled": true
   },
   "outputs": [
    {
     "data": {
      "text/plain": [
       "array([ 0.9620434 ,  1.275657  , -0.30025902,  0.01312552, -1.28762351])"
      ]
     },
     "execution_count": 9,
     "metadata": {},
     "output_type": "execute_result"
    }
   ],
   "source": [
    "np.random.randn(5)"
   ]
  },
  {
   "cell_type": "markdown",
   "metadata": {},
   "source": [
    "So these numbers probably don't mean that much to you. Don't worry; they don't mean much to me either! \n",
    "\n",
    "Instead of trying to derive meaning from a list of numbers, let's actually plot these outputs and see what they look like. This will allow us to determine whether or not these distributions actually look like what we are expecting. How do we do that? The answer is with histograms!"
   ]
  },
  {
   "cell_type": "markdown",
   "metadata": {},
   "source": [
    "# B. Plotting distributions"
   ]
  },
  {
   "cell_type": "markdown",
   "metadata": {},
   "source": [
    "Histogram documentation: http://matplotlib.org/1.2.1/api/pyplot_api.html?highlight=hist#matplotlib.pyplot.hist\n",
    "\n",
    "Understanding distributions is perhaps best done by plotting them in a histogram. Lucky for us, `matplotlib` makes that very simple for us.\n"
   ]
  },
  {
   "cell_type": "markdown",
   "metadata": {},
   "source": [
    "To make a histogram, we use the command `plt.hist`, which takes -- at minimum -- a vector of values that we want to plot as a histogram. We can also specify the number of bins."
   ]
  },
  {
   "cell_type": "markdown",
   "metadata": {},
   "source": [
    "First things first: let's import `matplotlib`:"
   ]
  },
  {
   "cell_type": "code",
   "execution_count": 10,
   "metadata": {},
   "outputs": [],
   "source": [
    "import matplotlib.pyplot as plt\n",
    "%matplotlib inline"
   ]
  },
  {
   "cell_type": "markdown",
   "metadata": {},
   "source": [
    "## Now, let's plot a uniform distribution and take a look."
   ]
  },
  {
   "cell_type": "markdown",
   "metadata": {},
   "source": [
    "Use what you learned above to define your variable `X` as a uniformly distributed array with 5000 elements."
   ]
  },
  {
   "cell_type": "code",
   "execution_count": 11,
   "metadata": {},
   "outputs": [],
   "source": [
    "#your code here\n",
    "X = np.random.rand(5000)"
   ]
  },
  {
   "cell_type": "markdown",
   "metadata": {},
   "source": [
    "Now, let's use `plt.hist` to see what `X` looks like. First, run the cell below. Then, vary `bins` -- doing so will either increase or decrease the apparent effect of noise in your distribution."
   ]
  },
  {
   "cell_type": "code",
   "execution_count": 12,
   "metadata": {},
   "outputs": [
    {
     "data": {
      "image/png": "[encoded data removed]",
      "text/plain": [
       "<Figure size 432x288 with 1 Axes>"
      ]
     },
     "metadata": {
      "needs_background": "light"
     },
     "output_type": "display_data"
    }
   ],
   "source": [
    "plt.hist(X, bins=20);"
   ]
  },
  {
   "cell_type": "markdown",
   "metadata": {},
   "source": [
    "Nice job! Do you see why the \"uniform distribution\" is referred to as such?"
   ]
  },
  {
   "cell_type": "markdown",
   "metadata": {},
   "source": [
    "## Next, let's take a look at the Gaussian distribution using histograms."
   ]
  },
  {
   "cell_type": "markdown",
   "metadata": {},
   "source": [
    "In the cell below, generate a vector of length 5000, called `X`, from the normal (Gaussian) distribution and plot a histogram with 50 bins.\n",
    "\n",
    "HINT: You will use a similar format as above when you defined and plotted a uniform distribution. "
   ]
  },
  {
   "cell_type": "code",
   "execution_count": 13,
   "metadata": {},
   "outputs": [
    {
     "data": {
      "image/png": "[encoded data removed]",
      "text/plain": [
       "<Figure size 432x288 with 1 Axes>"
      ]
     },
     "metadata": {
      "needs_background": "light"
     },
     "output_type": "display_data"
    }
   ],
   "source": [
    "#your code here\n",
    "X = np.random.randn(5000)\n",
    "plt.hist(X, bins=50);"
   ]
  },
  {
   "cell_type": "markdown",
   "metadata": {
    "collapsed": true
   },
   "source": [
    "Nice job! You just plotted a Gaussian distribution with mean of 0 and a standard deviation of 1.\n",
    "\n",
    "As a reminder, this is considered the \"standard\" normal distribution, and it's not particularly interesting. We can transform the distribution given by `np.random.randn` (and make it more interesting!) using simple arithmetic.\n",
    "\n",
    "Run the cell below to see. How is the code below different from the code you've already written?"
   ]
  },
  {
   "cell_type": "code",
   "execution_count": 14,
   "metadata": {},
   "outputs": [
    {
     "data": {
      "image/png": "[encoded data removed]",
      "text/plain": [
       "<Figure size 432x288 with 1 Axes>"
      ]
     },
     "metadata": {
      "needs_background": "light"
     },
     "output_type": "display_data"
    }
   ],
   "source": [
    "mu = 5 #the mean of the distribution\n",
    "sigma = 3 #the standard deviation\n",
    "\n",
    "X = sigma * np.random.randn(5000) + mu\n",
    "plt.hist(X,bins=50);"
   ]
  },
  {
   "cell_type": "markdown",
   "metadata": {},
   "source": [
    "Before moving onto the next section, vary the values of `mu` and `sigma` in the above code to see how your histogram changes. You should find that changing `mu` (the mean) affects the center of the distribution while changing `sigma` (the standard deviation) affects the width of the distribution."
   ]
  },
  {
   "cell_type": "markdown",
   "metadata": {},
   "source": [
    "## Take a look at the histograms you have generated and compare them. Do the histograms of the uniform and normal (Gaussian) distributions look different? If so, how? Describe your observations in the cell below."
   ]
  },
  {
   "cell_type": "code",
   "execution_count": 15,
   "metadata": {},
   "outputs": [],
   "source": [
    "#write your observations here\n"
   ]
  },
  {
   "cell_type": "markdown",
   "metadata": {},
   "source": [
    "For simplicity's sake, we've used `plt.hist` without generating any return variables. Remember that `plt.hist` takes in your data (`X`) and the number of bins, and it makes histograms from it. In the process, `plt.hist` generates variables that you can store; we just haven't thus far. Run the cell below to see -- it should replot the Gaussian from above while also generating the output variables."
   ]
  },
  {
   "cell_type": "code",
   "execution_count": 16,
   "metadata": {},
   "outputs": [
    {
     "data": {
      "image/png": "[encoded data removed]",
      "text/plain": [
       "<Figure size 432x288 with 1 Axes>"
      ]
     },
     "metadata": {
      "needs_background": "light"
     },
     "output_type": "display_data"
    }
   ],
   "source": [
    "N,bins,patches = plt.hist(X, bins=50)"
   ]
  },
  {
   "cell_type": "markdown",
   "metadata": {},
   "source": [
    "Something that might be useful to you is that you can make use of variables outputted by `plt.hist` -- particularly `bins` and `N`.\n",
    "\n",
    "The bins array returned by `plt.hist` is longer (by one element) than the actual number of bins. Why? Because the bins array contains all the edges of the bins. For example, if you have 2 bins, you will have 3 edges. Does this make sense?\n",
    "\n",
    "So you can generate these outputs, but what can you do with them? You can average consecutive elements from the `bins` output to get, in a sense, a location of the center of a bin. Let's call it `bin_avg`. Then you can plot the number of observations in that bin (`N`) against the bin location (`bin_avg`)."
   ]
  },
  {
   "cell_type": "code",
   "execution_count": 17,
   "metadata": {},
   "outputs": [
    {
     "data": {
      "image/png": "[encoded data removed]",
      "text/plain": [
       "<Figure size 432x288 with 1 Axes>"
      ]
     },
     "metadata": {
      "needs_background": "light"
     },
     "output_type": "display_data"
    }
   ],
   "source": [
    "bin_avg = (bins[1:]+bins[:-1])/2\n",
    "plt.plot(bin_avg, N, 'r*')\n",
    "plt.show()"
   ]
  },
  {
   "cell_type": "markdown",
   "metadata": {},
   "source": [
    "The plot above (red stars) should look like it overlays the histogram plot above it. If that's what you see, nice job! If not, let your instructor and/or TAs know before moving onto the next section."
   ]
  },
  {
   "cell_type": "markdown",
   "metadata": {},
   "source": [
    "# C. Checking your distributions with statistics"
   ]
  },
  {
   "cell_type": "markdown",
   "metadata": {},
   "source": [
    "If you ever want to check that your distributions are giving you what you expect, you can use `numpy` to calculate the mean and standard deviation of your distribution. Let's do this for `X`, our Gaussian distribution, and print the results.\n",
    "\n",
    "Run the cell below. Are your mean and standard deviation what you expect them to be?"
   ]
  },
  {
   "cell_type": "code",
   "execution_count": 18,
   "metadata": {},
   "outputs": [
    {
     "name": "stdout",
     "output_type": "stream",
     "text": [
      "mean: 4.922336161740144\n",
      "standard deviation: 2.9822407835742797\n"
     ]
    }
   ],
   "source": [
    "mean = np.mean(X)\n",
    "std = np.std(X)\n",
    "print('mean: '+ repr(mean) )\n",
    "print('standard deviation: ' + repr(std))"
   ]
  },
  {
   "cell_type": "markdown",
   "metadata": {},
   "source": [
    "So you've learned how to generate distributions of numbers, plot them, and generate statistics on them. This is a great starting point, but let's try working with some real data!"
   ]
  },
  {
   "cell_type": "markdown",
   "metadata": {},
   "source": [
    "# D. Visualizing and understanding real data"
   ]
  },
  {
   "cell_type": "markdown",
   "metadata": {},
   "source": [
    "Hope you're excited -- we're about to get our hands on some real data! Let's import a list of fluorescence lifetimes in nanoseconds from Nitrogen-Vacancy defects in diamond.\n",
    "\n",
    "(While it is not at all necessary to understand the physics behind this, know that this is indeed real data! You can read more about it at http://www.nature.com/articles/ncomms11820 if you are so inclined. This data is from Fig. 6a)."
   ]
  },
  {
   "cell_type": "markdown",
   "metadata": {},
   "source": [
    "Do you remember learning how to import data in yesterday's Lecture 2? The command you want to use is `np.loadtxt`. The data we'll be working with is called `LifetimeData.txt`, and it's located in the `Data` folder."
   ]
  },
  {
   "cell_type": "code",
   "execution_count": 20,
   "metadata": {},
   "outputs": [],
   "source": [
    "lifetimes = np.loadtxt('Data/LifetimeData.txt')"
   ]
  },
  {
   "cell_type": "markdown",
   "metadata": {},
   "source": [
    "Next, plot a histogram of this data set (play around with the number of bins, too)."
   ]
  },
  {
   "cell_type": "code",
   "execution_count": 23,
   "metadata": {},
   "outputs": [
    {
     "data": {
      "image/png": "[encoded data removed]",
      "text/plain": [
       "<Figure size 432x288 with 1 Axes>"
      ]
     },
     "metadata": {
      "needs_background": "light"
     },
     "output_type": "display_data"
    }
   ],
   "source": [
    "#your code here\n",
    "N,bins,patches = plt.hist(lifetimes,bins=40)"
   ]
  },
  {
   "cell_type": "markdown",
   "metadata": {},
   "source": [
    "Now, calculate and print the mean and standard deviation of this distribution."
   ]
  },
  {
   "cell_type": "code",
   "execution_count": 22,
   "metadata": {},
   "outputs": [
    {
     "name": "stdout",
     "output_type": "stream",
     "text": [
      "mean: 12.026044036697249\n",
      "standard deviation: 2.5675576211167996\n"
     ]
    }
   ],
   "source": [
    "#your code here\n",
    "mean = np.mean(lifetimes)\n",
    "std = np.std(lifetimes)\n",
    "print(\"mean: \"+repr(mean))\n",
    "print(\"standard deviation: \"+repr(std))"
   ]
  },
  {
   "cell_type": "markdown",
   "metadata": {},
   "source": [
    "Nice job! Now that you're used to working with real data, we're going to try to fit some more real data to known functions to gain a better understanding of that data."
   ]
  },
  {
   "cell_type": "markdown",
   "metadata": {},
   "source": [
    "# E. Basic curve fitting\n",
    "\n",
    "In this section, we're going to introduce you to the Python module known as `scipy` (short for Scientific Python).\n",
    "\n",
    "`scipy` allows you to perform a range of functions such as numerical integration and optimization. In particular, it's useful for data analysis, which we shall see shortly. In particular, we will do curve fitting using `curve_fit` from `scipy.optimize`.\n",
    "\n",
    "Curve fitting documentation: https://docs.scipy.org/doc/scipy-0.18.1/reference/generated/scipy.optimize.curve_fit.html"
   ]
  },
  {
   "cell_type": "markdown",
   "metadata": {},
   "source": [
    "In this section, you will learn how to use curve fitting on simulated data. Next will be real data!\n",
    "\n",
    "First, let's load the modules."
   ]
  },
  {
   "cell_type": "code",
   "execution_count": 24,
   "metadata": {},
   "outputs": [],
   "source": [
    "import numpy as np\n",
    "from scipy.optimize import curve_fit\n",
    "import matplotlib.pyplot as plt\n",
    "%matplotlib inline"
   ]
  },
  {
   "cell_type": "markdown",
   "metadata": {},
   "source": [
    "We will show you an example, and then you get to try it out for yourself! \n",
    "\n",
    "We start by creating an equally-spaced numpy array `x_vals` consisting of 100 numbers from -5 to 5. Try it out yourself below."
   ]
  },
  {
   "cell_type": "code",
   "execution_count": 36,
   "metadata": {},
   "outputs": [],
   "source": [
    "# your code here\n",
    "x_vals = np.linspace(-5,5,100)"
   ]
  },
  {
   "cell_type": "markdown",
   "metadata": {},
   "source": [
    "Next, we will define a function $f(x) = \\frac 1 3x^2+3$ that will square the elements in `x` and add an offset. Call this function `f_scalar`, and implement it (for scalar values) below. "
   ]
  },
  {
   "cell_type": "code",
   "execution_count": 37,
   "metadata": {},
   "outputs": [],
   "source": [
    "# your code here\n",
    "def f_scalar(x):\n",
    "    return 1/3*x**2 + 3"
   ]
  },
  {
   "cell_type": "markdown",
   "metadata": {},
   "source": [
    "We will then vectorize the function to allow it to act on all elements of an array at once. Magic!"
   ]
  },
  {
   "cell_type": "code",
   "execution_count": 38,
   "metadata": {},
   "outputs": [],
   "source": [
    "y = f_scalar(x_vals)"
   ]
  },
  {
   "cell_type": "markdown",
   "metadata": {},
   "source": [
    "Now we will add some noise to the array `y` using the `np.random.rand()` function and store it in a new variable called `y_noisy`.  \n",
    "\n",
    "Important question: What value for the array size should we pass into this function?"
   ]
  },
  {
   "cell_type": "code",
   "execution_count": 39,
   "metadata": {},
   "outputs": [],
   "source": [
    "# your code here \n",
    "y_noisy = y + np.random.rand(100)"
   ]
  },
  {
   "cell_type": "markdown",
   "metadata": {},
   "source": [
    "Let's see what the `y` values look like now"
   ]
  },
  {
   "cell_type": "code",
   "execution_count": 40,
   "metadata": {},
   "outputs": [
    {
     "data": {
      "text/plain": [
       "[<matplotlib.lines.Line2D at 0x1014593090>]"
      ]
     },
     "execution_count": 40,
     "metadata": {},
     "output_type": "execute_result"
    },
    {
     "data": {
      "image/png": "[encoded data removed]",
      "text/plain": [
       "<Figure size 432x288 with 1 Axes>"
      ]
     },
     "metadata": {
      "needs_background": "light"
     },
     "output_type": "display_data"
    }
   ],
   "source": [
    "plt.plot(x_vals,y_noisy)"
   ]
  },
  {
   "cell_type": "markdown",
   "metadata": {},
   "source": [
    "It seems like there's still a rough parabolic shape, so let's see if we can recover the original `y` values without any noise.\n",
    "\n",
    "We can treat this `y_noisy` as data values that we want to fit with a parabolic funciton. To do this, we first need to define the general form of a `quadratic` function:"
   ]
  },
  {
   "cell_type": "code",
   "execution_count": 41,
   "metadata": {},
   "outputs": [],
   "source": [
    "def quadratic(x,a,b,c):\n",
    "    return a*x**2 + b*x + c"
   ]
  },
  {
   "cell_type": "markdown",
   "metadata": {},
   "source": [
    "Then, we want to find the optimal values of `a`, `b`, and `c` that will give a function that fits best to `y_noisy`.\n",
    "\n",
    "We do this using the `curve_fit` function in the following way:\n",
    "\n",
    "```curve_fit(f,xdata,ydata)```\n",
    "\n",
    "where `f` is the model we're fitting to (`quadratic` in this case). \n",
    "\n",
    "This function will return the optimal values for `a`, `b`, and `c` in a list. Try it out!"
   ]
  },
  {
   "cell_type": "code",
   "execution_count": 44,
   "metadata": {},
   "outputs": [
    {
     "name": "stdout",
     "output_type": "stream",
     "text": [
      "0.3292711465560777 -0.0029600131487663717 3.548872726708361\n"
     ]
    }
   ],
   "source": [
    "optimal_values, _ = curve_fit(quadratic,x,y_noisy)\n",
    "a = optimal_values[0]\n",
    "b = optimal_values[1]\n",
    "c = optimal_values[2]\n",
    "print(a, b, c)"
   ]
  },
  {
   "cell_type": "markdown",
   "metadata": {},
   "source": [
    "Now that we have the fitted parameters, let's use `quadratic` to plot the fitted parabola alongside the noisy y values."
   ]
  },
  {
   "cell_type": "code",
   "execution_count": 45,
   "metadata": {
    "scrolled": true
   },
   "outputs": [
    {
     "data": {
      "text/plain": [
       "[<matplotlib.lines.Line2D at 0x10f57f7d0>]"
      ]
     },
     "execution_count": 45,
     "metadata": {},
     "output_type": "execute_result"
    },
    {
     "data": {
      "image/png": "[encoded data removed]",
      "text/plain": [
       "<Figure size 432x288 with 1 Axes>"
      ]
     },
     "metadata": {
      "needs_background": "light"
     },
     "output_type": "display_data"
    }
   ],
   "source": [
    "y_fitted = quadratic(x,a,b,c)\n",
    "plt.plot(x,y_fitted)\n",
    "plt.plot(x,y_noisy)"
   ]
  },
  {
   "cell_type": "markdown",
   "metadata": {},
   "source": [
    "And we can also compare `y_fitted` to the original `y` values without any noise:"
   ]
  },
  {
   "cell_type": "code",
   "execution_count": 46,
   "metadata": {},
   "outputs": [
    {
     "data": {
      "text/plain": [
       "[<matplotlib.lines.Line2D at 0x1014593590>]"
      ]
     },
     "execution_count": 46,
     "metadata": {},
     "output_type": "execute_result"
    },
    {
     "data": {
      "image/png": "[encoded data removed]",
      "text/plain": [
       "<Figure size 432x288 with 1 Axes>"
      ]
     },
     "metadata": {
      "needs_background": "light"
     },
     "output_type": "display_data"
    }
   ],
   "source": [
    "plt.plot(x,y_fitted)\n",
    "plt.plot(x,y)"
   ]
  },
  {
   "cell_type": "markdown",
   "metadata": {},
   "source": [
    "Not a bad job for your first fit function!"
   ]
  },
  {
   "cell_type": "markdown",
   "metadata": {},
   "source": [
    "# F. More advanced curve fitting"
   ]
  },
  {
   "cell_type": "markdown",
   "metadata": {},
   "source": [
    "In this section, you will visualize real data and plot a best-fit function to model the underlying physics. \n",
    "\n",
    "You just used `curve_fit` above to fit simulated data to a linear function. Using that code as your guide, combined with the steps below, you will use `curve_fit` to fit your real data to a non-linear function that you define. This exercise will combine most of what you've learned so far!"
   ]
  },
  {
   "cell_type": "markdown",
   "metadata": {},
   "source": [
    "## Steps for using curve_fit\n",
    "\n",
    "Here is the basic outline on how to use `curve_fit`. As this is the last section, you will mostly be on your own. Try your best with new skills you have learned here and feel free to ask for help!\n",
    "\n",
    "1) Load in your `x` and `y` data. You will be using \"photopeak.txt\", which is in the folder `Data`.\n",
    "\n",
    "HINT 1: When you load your data, I recommend making use of the `usecols` and `unpack` argument.\n",
    "\n",
    "HINT 2: Make sure the arrays are the same length!\n",
    "\n",
    "2) Plot this data to see what it looks like. Determine the function your data most resembles.\n",
    "\n",
    "3) Define the function to which your data will be fit.\n",
    "\n",
    "4) PART A: Use curve_fit and point the output to `popt` and `pcov`. These are the fitted parameters (`popt`) and their estimated errors (`pcov`). \n",
    "\n",
    "4) PART B - OPTIONAL (only do this if you get through all the other steps): Input a guess (`p0`) and bounds (`bounds`) into curve_fit. For `p0`, I would suggest `[0.5, 0.1, 5]`. \n",
    "\n",
    "5) Pass the `popt` parameters into the function you've defined to create the model fit. \n",
    "\n",
    "6) Plot your data and your fitted function.\n",
    "\n",
    "7) Pat yourself on the back!"
   ]
  },
  {
   "cell_type": "code",
   "execution_count": null,
   "metadata": {},
   "outputs": [],
   "source": [
    "# Step 1: Import the data\n",
    "# Step 2: Plot the data to see what it looks like\n",
    "\n",
    "xData,yData = np.loadtxt('Data\\photopeak.txt', usecols=(0,1), unpack=True)\n",
    "\n",
    "plt.plot(xData,yData,'*')\n",
    "plt.title('xData and yData')"
   ]
  },
  {
   "cell_type": "markdown",
   "metadata": {},
   "source": [
    "So you've imported your data and plotted it. It should look similar to the figure below. Run the next cell to see."
   ]
  },
  {
   "cell_type": "code",
   "execution_count": null,
   "metadata": {},
   "outputs": [],
   "source": [
    "from IPython.display import display, Image\n",
    "display(Image(filename='Data\\photopeak.png'))"
   ]
  },
  {
   "cell_type": "markdown",
   "metadata": {},
   "source": [
    "What type of function would you say this is? Think back to the distributions we've learned about today. Any ideas?\n",
    "\n",
    "Based on what you think, define your function below."
   ]
  },
  {
   "cell_type": "code",
   "execution_count": null,
   "metadata": {},
   "outputs": [],
   "source": [
    "# Step 3: Define your function here\n",
    "\n",
    "def myGaussian(Xvals,A,mu,sigma):\n",
    "    return (A/np.sqrt(2*np.pi*sigma**2))*np.exp(-((Xvals-mu)**2/(2*sigma**2)))"
   ]
  },
  {
   "cell_type": "code",
   "execution_count": null,
   "metadata": {},
   "outputs": [],
   "source": [
    "# Step 3.5: SANITY CHECK! Use this step as a way to check that the function you defined above is mathematically correct.\n",
    "\n",
    "mu = 0.66 #the mean of the distribution\n",
    "sigma = 0.04 #the standard deviation\n",
    "A = 10;\n",
    "\n",
    "Xvals = np.linspace(0.50,0.80,100)\n",
    "Yvals = A*myGaussian(Xvals,A,mu,sigma)\n",
    "plt.plot(Xvals,Yvals)"
   ]
  },
  {
   "cell_type": "code",
   "execution_count": null,
   "metadata": {},
   "outputs": [],
   "source": [
    "# Step 4: Use curve_fit to generate your output parameters\n",
    "\n",
    "popt, pcov = curve_fit(myGaussian, xData, yData, p0=[0.5, 0.1, 5])\n",
    "#perr = np.sqrt(np.diag(pcov))"
   ]
  },
  {
   "cell_type": "code",
   "execution_count": null,
   "metadata": {},
   "outputs": [],
   "source": [
    "# Step 5: Generate your model fit\n",
    "\n",
    "xFit = np.linspace(min(xData),max(xData),100) #give this\n",
    "\n",
    "line_fit = myGaussian(xFit, *popt)"
   ]
  },
  {
   "cell_type": "code",
   "execution_count": null,
   "metadata": {},
   "outputs": [],
   "source": [
    "# Step 6: Plot the best fit function and the scatter plot of data\n",
    "plt.plot(xData, yData, 'r*')\n",
    "plt.plot(xFit, line_fit)"
   ]
  },
  {
   "cell_type": "markdown",
   "metadata": {},
   "source": [
    "There you have it! You've completed advanced curve fitting. Congratulations -- give yourself a pat on the back (Step 7)!"
   ]
  }
 ],
 "metadata": {
  "anaconda-cloud": {},
  "kernelspec": {
   "display_name": "Python 3",
   "language": "python",
   "name": "python3"
  },
  "language_info": {
   "codemirror_mode": {
    "name": "ipython",
    "version": 3
   },
   "file_extension": ".py",
   "mimetype": "text/x-python",
   "name": "python",
   "nbconvert_exporter": "python",
   "pygments_lexer": "ipython3",
   "version": "3.7.4"
  }
 },
 "nbformat": 4,
 "nbformat_minor": 1
}
