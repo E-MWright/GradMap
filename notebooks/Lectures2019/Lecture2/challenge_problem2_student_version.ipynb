{
 "cells": [
  {
   "cell_type": "code",
   "execution_count": 1,
   "metadata": {
    "collapsed": true,
    "deletable": true,
    "editable": true
   },
   "outputs": [],
   "source": [
    "import numpy as np\n",
    "from math import sqrt\n",
    "import numpy as np\n",
    "%matplotlib nbagg\n",
    "import matplotlib.pyplot as plt"
   ]
  },
  {
   "cell_type": "markdown",
   "metadata": {
    "deletable": true,
    "editable": true
   },
   "source": [
    "Welcome to you projectile motion challenge problem! Here you'll write code that will plot the trajectory of a projectile in ideal conditions, with the standard assumptions of no air resistance and constant gravitational acceleration. You'll use the path-length function you created earlier to compare the total distance traveled in the air by the projectile for different launch angles and launch velocities.\n",
    "\n",
    "We'll track the projectile's position using an $xy$ coordinate system. It is launched from position (0,0) with launch angle $\\theta$ above the positive $x$ axis, launch speed $v_0$, and gravitational acceleration $g$ in the $-y$ direction. We'll use a time coordinate $t$ to specify the time since launch.\n",
    "\n",
    "First, in the cell below, write functions that return x position and y position when passed values of $t$, $v_0$, $\\theta$, and $g$. Assume the angle is passed in units of radians. \n",
    "\n",
    "Also, write a function that returns the total time the projectile will stay in the air, in units of seconds, given $v_0$ (with units m /s), $\\theta$, and $g$ (with units m / s$^2$).\n"
   ]
  },
  {
   "cell_type": "code",
   "execution_count": 2,
   "metadata": {
    "collapsed": false,
    "deletable": true,
    "editable": true
   },
   "outputs": [],
   "source": [
    "# define your functions in this cell"
   ]
  },
  {
   "cell_type": "markdown",
   "metadata": {
    "deletable": true,
    "editable": true
   },
   "source": [
    "In the cell below, make a plot of a projectile trajectory when $g$ = 9.8 m/$s^2$ in the -y direction, $v_0$ is 100 m/s, and $theta$ is 45 degrees ($\\pi$/4 radians). \n",
    "\n",
    "To do this, you might find the following steps helpful:\n",
    "\n",
    "First, create an array of time values linearly spaced between 0 and the total time the projectile will stay in the air. You get to choose the number of time values.\n",
    "\n",
    "You'll be recording the $x$ and $y$ positions of the particle at each time, so you'll need arrays for those, too.\n",
    "\n",
    "Loop through the time values and determine the value of $x$ and $y$ at each time.\n",
    "\n",
    "Then plot $y$ vs $x$.\n"
   ]
  },
  {
   "cell_type": "code",
   "execution_count": 3,
   "metadata": {
    "collapsed": false,
    "deletable": true,
    "editable": true
   },
   "outputs": [],
   "source": [
    "plt.close() # leave this here. It makes sure that if this cell is used again, the plot appears below\n",
    "\n",
    "# add code in this cell"
   ]
  },
  {
   "cell_type": "markdown",
   "metadata": {
    "deletable": true,
    "editable": true
   },
   "source": [
    "Next, let's see what happens when we change the launch angle. Repeat the process above, but for several different values of the launch angle theta. For example, you could use 10 angles linearly spaced between 5 and 85 degrees. Plot all the trajectories on the same graph in the cell below.\n",
    "\n",
    "Once you've done that, let's save the trajectory information for later. In the same loop that you're using to make the plot, save the $x$ and $y$ values for each value of theta, using np.save(). Give them descriptive names that include the value of theta so that you can retrieve them later.\n",
    "\n"
   ]
  },
  {
   "cell_type": "code",
   "execution_count": 4,
   "metadata": {
    "collapsed": false,
    "deletable": true,
    "editable": true
   },
   "outputs": [],
   "source": [
    "plt.close() # keep this here\n",
    "\n",
    "# add code in this cell\n",
    "\n",
    "# Hint: here is an example of how to save your trajectory information. This assumes the angles are stored \n",
    "# in an array called thetas_degrees, and this is within a loop with a loop ndex named theta_index.\n",
    "\n",
    "#np.save(\"X_launch_angle_\" + str(int(thetas_degrees[theta_index])),X) \n",
    "# np.save(\"Y_launch_angle_\" + str(int(thetas_degrees[theta_index])),Y)\n",
    "\n",
    "# Take some time to understand what's going on here"
   ]
  },
  {
   "cell_type": "markdown",
   "metadata": {
    "deletable": true,
    "editable": true
   },
   "source": [
    "Now we want to estimate the total distance traveled by the projectile in the air. You've already written a path-length function, so rewrite it (and any helper functinos) into the cell below."
   ]
  },
  {
   "cell_type": "code",
   "execution_count": 5,
   "metadata": {
    "collapsed": false,
    "deletable": true,
    "editable": true
   },
   "outputs": [],
   "source": [
    "# Copy your path length functions here\n",
    "\n"
   ]
  },
  {
   "cell_type": "markdown",
   "metadata": {
    "deletable": true,
    "editable": true
   },
   "source": [
    "Loop through the launch angles again, load the trajectories, and determine the total distance traveled in the air for each angle. Plot these distances versus launch angle in the cell below. "
   ]
  },
  {
   "cell_type": "code",
   "execution_count": 6,
   "metadata": {
    "collapsed": false,
    "deletable": true,
    "editable": true
   },
   "outputs": [],
   "source": [
    "plt.close() # Keep this here\n",
    "\n",
    "# add code here"
   ]
  },
  {
   "cell_type": "markdown",
   "metadata": {
    "deletable": true,
    "editable": true
   },
   "source": [
    "What is determining the shape of that curve you just made? How do you think this will change if you used different launch speeds or gravitational accelerations? Experiment! What other interesting relations can you find?"
   ]
  }
 ],
 "metadata": {
  "kernelspec": {
   "display_name": "Python 2",
   "language": "python",
   "name": "python2"
  },
  "language_info": {
   "codemirror_mode": {
    "name": "ipython",
    "version": 2
   },
   "file_extension": ".py",
   "mimetype": "text/x-python",
   "name": "python",
   "nbconvert_exporter": "python",
   "pygments_lexer": "ipython2",
   "version": "2.7.13"
  }
 },
 "nbformat": 4,
 "nbformat_minor": 2
}
