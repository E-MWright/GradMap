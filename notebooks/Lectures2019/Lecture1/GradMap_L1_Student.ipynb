{
 "cells": [
  {
   "cell_type": "markdown",
   "metadata": {},
   "source": [
    "# Introduction to \"Doing Science\" in Python for REAL Beginners "
   ]
  },
  {
   "cell_type": "markdown",
   "metadata": {},
   "source": [
    "Python is one of many languages you can use for research and HW purposes. In the next few days, we will work through many of the tool, tips, and tricks that we as graduate students (and PhD researchers) use on a daily basis. We will NOT attempt to teach you all of Python--there isn't time. We will however build up a set of code(s) that will allow you to read and write data, make beautiful publish-worthy plots, fit a line (or any function) to data, and set up algorithms. You will also begin to learn the syntax of Python and can hopefuly apply this knowledge to your current and future work. "
   ]
  },
  {
   "cell_type": "markdown",
   "metadata": {},
   "source": [
    "## Before we begin, a few words on navigating the iPython Notebook:\n",
    "\n",
    "* There are two main types of cells : Code and Text \n",
    "* In \"code\" cells \"#\" at the beginning of a line marks the line as comment\n",
    "* In \"code\" cells every non commented line is intepreted\n",
    "* In \"code\" cells, commands that are preceded by % are \"magics\" and are special commands in Ipython to add some functionality to the runtime interactive environment.\n",
    "* Shift+Return shortcut to execute a cell\n",
    "* Alt+Return   shortcut to execute a cell and create another one below\n",
    "\n",
    "Here you can find a complete documentation about the notebook. \n",
    "http://ipython.org/ipython-doc/1/interactive/notebook.html\n",
    "In particular have a look at the section about the keyboard shortcuts.\n",
    "\n",
    "\n",
    "## And remember that :\n",
    "* Indentation has a meaning (we'll talk about this when we cover loops)\n",
    "* Indexes start from 0 \n",
    "\n",
    "We will discuss more about these concepts while doing things. Let's get started now!!!!"
   ]
  },
  {
   "cell_type": "markdown",
   "metadata": {},
   "source": [
    "## A. Numbers, Calculations, and Lists"
   ]
  },
  {
   "cell_type": "markdown",
   "metadata": {
    "collapsed": true
   },
   "source": [
    "Before we start coding, let's play around with the Jupyter environment. Make a new cell below using the Alt+Return shortcut"
   ]
  },
  {
   "cell_type": "markdown",
   "metadata": {},
   "source": [
    "Take your newly created cell and write something in it. Switch the type of the cell between a **code** cell and a **text/markdown** cell by using the selection box in the top of the screen. See how it changes?"
   ]
  },
  {
   "cell_type": "markdown",
   "metadata": {},
   "source": [
    "Insert a comment to yourself (this is always a great idea) by using the # symbol."
   ]
  },
  {
   "cell_type": "code",
   "execution_count": 1,
   "metadata": {},
   "outputs": [
    {
     "data": {
      "text/plain": [
       "35"
      ]
     },
     "execution_count": 1,
     "metadata": {},
     "output_type": "execute_result"
    }
   ],
   "source": [
    "## You can use Python as a calculator:\n",
    "5*7  #This is a comment and does not affect your code.\n",
    "#You can have as many as you want. \n",
    "#Comments help explain your code to others and yourself\n",
    "#No worries. "
   ]
  },
  {
   "cell_type": "code",
   "execution_count": 6,
   "metadata": {},
   "outputs": [
    {
     "data": {
      "text/plain": [
       "12"
      ]
     },
     "execution_count": 6,
     "metadata": {},
     "output_type": "execute_result"
    }
   ],
   "source": [
    "5+7"
   ]
  },
  {
   "cell_type": "code",
   "execution_count": 7,
   "metadata": {},
   "outputs": [
    {
     "data": {
      "text/plain": [
       "-2"
      ]
     },
     "execution_count": 7,
     "metadata": {},
     "output_type": "execute_result"
    }
   ],
   "source": [
    "5-7"
   ]
  },
  {
   "cell_type": "code",
   "execution_count": 8,
   "metadata": {},
   "outputs": [
    {
     "data": {
      "text/plain": [
       "0.7142857142857143"
      ]
     },
     "execution_count": 8,
     "metadata": {},
     "output_type": "execute_result"
    }
   ],
   "source": [
    "5/7"
   ]
  },
  {
   "cell_type": "markdown",
   "metadata": {},
   "source": [
    "Unfortunately, the output of your calculations won't be saved anywhere, so you can't use them later in your calculations. \n",
    "\n",
    "There's a way to get around this: by assigning them to variables. A variable is a way of referring to a memory location used by a computer program that can contain values, text, or even more complicated types. Think of variables as containers to store something so you can use or change it later. Variables can be a single letter (like x or y) but they are usually more helpful when they have descriptive names (like age, stars, total_sum).\n",
    "\n",
    "Let's assign some variables and `print()` them to the screen."
   ]
  },
  {
   "cell_type": "code",
   "execution_count": 2,
   "metadata": {},
   "outputs": [],
   "source": [
    "a = 10\n",
    "b = 7"
   ]
  },
  {
   "cell_type": "code",
   "execution_count": 3,
   "metadata": {},
   "outputs": [
    {
     "name": "stdout",
     "output_type": "stream",
     "text": [
      "10\n"
     ]
    }
   ],
   "source": [
    "print(a)"
   ]
  },
  {
   "cell_type": "code",
   "execution_count": 4,
   "metadata": {},
   "outputs": [
    {
     "name": "stdout",
     "output_type": "stream",
     "text": [
      "7\n"
     ]
    }
   ],
   "source": [
    "print(b)"
   ]
  },
  {
   "cell_type": "code",
   "execution_count": 5,
   "metadata": {},
   "outputs": [
    {
     "name": "stdout",
     "output_type": "stream",
     "text": [
      "70 17 1.4285714285714286\n"
     ]
    }
   ],
   "source": [
    "print(a*b , a+b, a/b)"
   ]
  },
  {
   "cell_type": "markdown",
   "metadata": {},
   "source": [
    "You can also write over variables with new values, but your previous values will be gone."
   ]
  },
  {
   "cell_type": "code",
   "execution_count": null,
   "metadata": {},
   "outputs": [],
   "source": [
    "a = 5\n",
    "b = 7\n",
    "print(a*b, a+b, a/b)"
   ]
  },
  {
   "cell_type": "markdown",
   "metadata": {},
   "source": [
    "Next, let's create a list of numbers"
   ]
  },
  {
   "cell_type": "code",
   "execution_count": 12,
   "metadata": {},
   "outputs": [
    {
     "name": "stdout",
     "output_type": "stream",
     "text": [
      "[0, 1, 2, 3, 4, 5, 6, 7, 8, 9]\n"
     ]
    }
   ],
   "source": [
    "numList = [0,1,2,3,4,5,6,7,8,9]\n",
    "print(numList)"
   ]
  },
  {
   "cell_type": "markdown",
   "metadata": {},
   "source": [
    "How many elements or numbers does the list numList contain? Yes, this is easy to count now, but you will eventually work with lists that contains MANY numbers. To get the **length** of a list, use `len()`."
   ]
  },
  {
   "cell_type": "code",
   "execution_count": 11,
   "metadata": {},
   "outputs": [
    {
     "name": "stdout",
     "output_type": "stream",
     "text": [
      "10\n"
     ]
    }
   ],
   "source": [
    "L = len(numList)\n",
    "print(L)"
   ]
  },
  {
   "cell_type": "markdown",
   "metadata": {},
   "source": [
    "You can also access particular elements in an array by _indexing_. The syntac for this is the following:\n",
    "> `numList[index_number]`\n",
    "\n",
    "This will return the value in the list that corresponds to the index number. For example, getting the 4th item in the list you would need to type:\n",
    "> `numList[4]`\n",
    "\n",
    "Arrays are numbered starting from 0, such that\n",
    "\n",
    "* First position = 0\n",
    "* Second position = 1\n",
    "* Third position = 2\n",
    "* etc.\n",
    "\n",
    "It is a bit confusing, but after a bit of time, this becomes quite natural. Try accessing elements of the list you just created:\n"
   ]
  },
  {
   "cell_type": "code",
   "execution_count": 13,
   "metadata": {},
   "outputs": [
    {
     "data": {
      "text/plain": [
       "4"
      ]
     },
     "execution_count": 13,
     "metadata": {},
     "output_type": "execute_result"
    }
   ],
   "source": [
    "numList[4]"
   ]
  },
  {
   "cell_type": "markdown",
   "metadata": {},
   "source": [
    "How would you access the number 5 in `numList`?"
   ]
  },
  {
   "cell_type": "code",
   "execution_count": 15,
   "metadata": {},
   "outputs": [
    {
     "name": "stdout",
     "output_type": "stream",
     "text": [
      "5\n"
     ]
    }
   ],
   "source": [
    "x = numList[5]\n",
    "print(x)"
   ]
  },
  {
   "cell_type": "markdown",
   "metadata": {},
   "source": [
    "Let's try making more complicated list:"
   ]
  },
  {
   "cell_type": "code",
   "execution_count": 17,
   "metadata": {},
   "outputs": [],
   "source": [
    "fibList = [1, 1, 2, 3, 5, 8, 13, 21, 34, 55]"
   ]
  },
  {
   "cell_type": "code",
   "execution_count": 18,
   "metadata": {},
   "outputs": [
    {
     "data": {
      "text/plain": [
       "8"
      ]
     },
     "execution_count": 18,
     "metadata": {},
     "output_type": "execute_result"
    }
   ],
   "source": [
    "fibList[5]"
   ]
  },
  {
   "cell_type": "markdown",
   "metadata": {},
   "source": [
    "Now you know the basics of Python, let's see how it can be used as a graphing calculator"
   ]
  },
  {
   "cell_type": "markdown",
   "metadata": {},
   "source": [
    "## B. Our first plot! "
   ]
  },
  {
   "cell_type": "markdown",
   "metadata": {},
   "source": [
    "Python is a fantastic language because it is very powerful and flexible. Also, it is like modular furniture or modular building. You have the Python foundation and choose which modules you want/need and load them before you start working. One of the most loved here at UMD is the  _matplotlib_ (https://matplotlib.org/), which provides lots of functionality for making beautiful, publishable plots. "
   ]
  },
  {
   "cell_type": "code",
   "execution_count": 19,
   "metadata": {},
   "outputs": [],
   "source": [
    "# Run this code\n",
    "%matplotlib inline  \n",
    "# this \"magic\" command puts the plots right in the jupyter notebook\n",
    "import matplotlib "
   ]
  },
  {
   "cell_type": "markdown",
   "metadata": {},
   "source": [
    "When using modules (also sometimes called _libraries_ or _packages_) you can use a nickname through the __as__ keyword so you don't have to type the long module name every time. For example, ``matplotlib.pyplot`` is typically shortened to ``plt`` like below. "
   ]
  },
  {
   "cell_type": "code",
   "execution_count": 20,
   "metadata": {},
   "outputs": [],
   "source": [
    "# Run this code\n",
    "import matplotlib.pyplot as plt"
   ]
  },
  {
   "cell_type": "markdown",
   "metadata": {},
   "source": [
    "Now let's do a quick simple plot using the list we defined earlier!"
   ]
  },
  {
   "cell_type": "code",
   "execution_count": 29,
   "metadata": {},
   "outputs": [
    {
     "data": {
      "image/png": "[encoded data removed]",
      "text/plain": [
       "<Figure size 432x288 with 1 Axes>"
      ]
     },
     "metadata": {
      "needs_background": "light"
     },
     "output_type": "display_data"
    }
   ],
   "source": [
    "x = fibList\n",
    "y = numList\n",
    "\n",
    "p = plt.plot(x,y)"
   ]
  },
  {
   "cell_type": "markdown",
   "metadata": {},
   "source": [
    "You can change a lot of attributes about plots, like the style of the line, the color, and the thickness of the line. You can add titles, axis labels, and legends. You can also put more than one line on the same plot. This link includes all the ways you can modify plots: https://matplotlib.org/api/_as_gen/matplotlib.pyplot.plot.html. Here is a quick example showing a few of the things you can do with _matplotlib_:"
   ]
  },
  {
   "cell_type": "code",
   "execution_count": 43,
   "metadata": {},
   "outputs": [
    {
     "data": {
      "text/plain": [
       "<matplotlib.legend.Legend at 0x11693b780>"
      ]
     },
     "execution_count": 43,
     "metadata": {},
     "output_type": "execute_result"
    },
    {
     "data": {
      "image/png": "[encoded data removed]",
      "text/plain": [
       "<Figure size 432x288 with 1 Axes>"
      ]
     },
     "metadata": {
      "needs_background": "light"
     },
     "output_type": "display_data"
    }
   ],
   "source": [
    "# Clear the plotting field. \n",
    "plt.clf() # No need to add anything inside these parentheses. \n",
    "\n",
    "# First line\n",
    "# Second line\n",
    "z = fibList\n",
    "# you can shorten the keywords like \"color\" to be just \"c\" for quicker typing\n",
    "plt.plot(x, z, 'bo')\n",
    "\n",
    "# add the labels and titles\n",
    "plt.xlabel('x values')\n",
    "plt.ylabel('y values')\n",
    "plt.title('My First Plot')\n",
    "plt.legend(loc = 'best')\n",
    "\n",
    "#Would you like to save your plot? Uncomment the below line. Here, we use savefig('nameOffigure')\n",
    "#It should save to the folder you are currently working out of.\n",
    "#plt.savefig('MyFirstFigure.jpg')"
   ]
  },
  {
   "cell_type": "markdown",
   "metadata": {},
   "source": [
    "### EXERCISE 1: \n",
    "\n",
    "Create two lists of numbers: `list1` will be the integers from 0 to 9 and `list2` will be the elements of `list1` squared. \n",
    "\n",
    "Plot the two lists with _matplotlib_ and make some changes to the color, linestyle, or linewidth. \n",
    "\n",
    "Add labels, a title, and a legend to your plot. \n",
    "\n",
    "Save the plot once you are done. \n",
    "\n",
    "Be creative and feel free to look up the different linestyles using the link above. "
   ]
  },
  {
   "cell_type": "code",
   "execution_count": 59,
   "metadata": {},
   "outputs": [
    {
     "data": {
      "text/plain": [
       "[<matplotlib.lines.Line2D at 0x116845c18>]"
      ]
     },
     "execution_count": 59,
     "metadata": {},
     "output_type": "execute_result"
    },
    {
     "data": {
      "image/png": "[encoded data removed]",
      "text/plain": [
       "<Figure size 432x288 with 1 Axes>"
      ]
     },
     "metadata": {
      "needs_background": "light"
     },
     "output_type": "display_data"
    }
   ],
   "source": [
    "randList = [5, 7, 9, 14, 0, 11, 3, 2]\n",
    "aList = [0, 1, 2, 3, 5, 8, 14, 17]\n",
    "x = randList\n",
    "y = aList\n",
    "\n",
    "plt.plot (x,y, 'm-')\n"
   ]
  },
  {
   "cell_type": "markdown",
   "metadata": {},
   "source": [
    "## C. Logic, If/Else, and Loops\n",
    "\n",
    "Let's now switch gears a bit and discuss logic in Python. Conditional (logic) statements form the backbone of programming. These statements in Python return either **True** or **False** and have a special name in programming: _Booleans_. Sometimes this type of logic is also called _Boolean logic_. "
   ]
  },
  {
   "cell_type": "code",
   "execution_count": null,
   "metadata": {},
   "outputs": [],
   "source": [
    "#Example conditional statements\n",
    "x = 1\n",
    "y = 2\n",
    "x<y #x is less than y"
   ]
  },
  {
   "cell_type": "markdown",
   "metadata": {},
   "source": [
    "Think of the statement $x<y$ as asking the question \"is x less than y?\" If it is, then it returns **True** and if x is not less than y it returns **False**. "
   ]
  },
  {
   "cell_type": "code",
   "execution_count": null,
   "metadata": {},
   "outputs": [],
   "source": [
    "#x is greater than y\n",
    "x>y"
   ]
  },
  {
   "cell_type": "code",
   "execution_count": null,
   "metadata": {},
   "outputs": [],
   "source": [
    "#x is less-than or equal to y\n",
    "x<=y"
   ]
  },
  {
   "cell_type": "code",
   "execution_count": null,
   "metadata": {},
   "outputs": [],
   "source": [
    "#x is greater-than or equal to y\n",
    "x>=y"
   ]
  },
  {
   "cell_type": "markdown",
   "metadata": {},
   "source": [
    "If you let a and b be conditional statements (like the above statements, e.g. a = x < y), then you can combine the two together using logical operators, which can be thought of as functions for conditional statements.\n",
    "\n",
    "There are three logical operators that are handy to know:\n",
    "\n",
    "* **And** operator: ** `a and b`**\n",
    "    - outputs **True** only if both a and b are **True**\n",
    "* **Or** operator: **`a or b`**\n",
    "    - outputs **True** if at least one of a and b are **True**\n",
    "* **Not** operator: **`not(a)`**\n",
    "    - outputs the negation of a "
   ]
  },
  {
   "cell_type": "code",
   "execution_count": null,
   "metadata": {},
   "outputs": [],
   "source": [
    "#Example of and operator\n",
    "(1<2) and (2<3)"
   ]
  },
  {
   "cell_type": "code",
   "execution_count": null,
   "metadata": {},
   "outputs": [],
   "source": [
    "#Example of or operator\n",
    "(1<2) or (2>3)"
   ]
  },
  {
   "cell_type": "code",
   "execution_count": null,
   "metadata": {},
   "outputs": [],
   "source": [
    "#Example of not operator\n",
    "not(1<2)"
   ]
  },
  {
   "cell_type": "markdown",
   "metadata": {},
   "source": [
    "Now, these might not seem especially useful at first, but they're the bread and butter of programming. Even more importantly, they are used when we are doing if/else statements or loops, which we will now cover.\n",
    "\n",
    "An `if/else` statement (or simply an if statement) are segments of code that have a conditional statement built into it, such that the code within that segment doesn't activate unless the conditional statement is true.\n",
    "\n",
    "Here's an example. Play around with the variables x and y to see what happens."
   ]
  },
  {
   "cell_type": "code",
   "execution_count": null,
   "metadata": {},
   "outputs": [],
   "source": [
    "x = 1\n",
    "y = 2\n",
    "if (x < y):\n",
    "    print(\"Yup, totally true!\")\n",
    "else:\n",
    "    print(\"Nope, completely wrong!\")"
   ]
  },
  {
   "cell_type": "markdown",
   "metadata": {},
   "source": [
    "The idea here is that Python checks to see if the statement (in this case \"x < y\") is **True**. If it is, then it will do what is below the if statement. The else statement tells Python what to do if the condition is **False**.\n",
    "\n",
    "Note that Python requires you to indent these segments of code, and WILL NOT like it if you don't. Some languages don't require it, but Python is very particular when it comes to this point. (The parentheses around the conditional statement, however, are optional.)\n",
    "\n",
    "You also do not always need an \"else\" segment, which effectively means that if the condition isn't **True**, then that segment of code doesn't do anything, and Python will just continue on past the if statement.\n",
    "\n",
    "Here is an example of such a case.  Play around with it to see what happens when you change the values of x and y."
   ]
  },
  {
   "cell_type": "code",
   "execution_count": null,
   "metadata": {},
   "outputs": [],
   "source": [
    "x = 2\n",
    "y = 1\n",
    "if (x > y):\n",
    "    print(\"x is greater than y\")"
   ]
  },
  {
   "cell_type": "markdown",
   "metadata": {},
   "source": [
    "Here's a more complicated case. Here, we introduce some logic that helps you figure out if two objects are equal or not. \n",
    "\n",
    "There's the `==` operator and the `!=` operator. Can you figure out what they mean?"
   ]
  },
  {
   "cell_type": "code",
   "execution_count": null,
   "metadata": {},
   "outputs": [],
   "source": [
    "x = 2\n",
    "y = 2\n",
    "if (x == y):\n",
    "    print(\"x and y are equal\")\n",
    "if (x != y):\n",
    "    print(\"x and y are not equal\")\n",
    "if (x > y or x < y):\n",
    "    print(\"x and y are not equal (again!)\")"
   ]
  },
  {
   "cell_type": "markdown",
   "metadata": {},
   "source": [
    "While-loops are similar to if statements, in the sense that they also have a conditional statement built into them. The code inside the loop will execute when the conditional is **True**. And then it will check the conditional and, if it evaluates to **True**, the code will execute again. And so on and so forth...\n",
    "\n",
    "The funny thing about while-loops is that they will KEEP executing that segment of code until the conditional statement evaluates to **False**...which hopefully will happen...right?\n",
    "\n",
    "Although this seems a bit strange, you can get the hang of it!\n",
    "\n",
    "For example, let's say we want Python to count from 1 to 10."
   ]
  },
  {
   "cell_type": "code",
   "execution_count": null,
   "metadata": {},
   "outputs": [],
   "source": [
    "x = 0\n",
    "while (x <= 10):\n",
    "    print(x)\n",
    "    x = x+1"
   ]
  },
  {
   "cell_type": "markdown",
   "metadata": {},
   "source": [
    "Note here that we tell Python to print the number x (x starts at 1) and then redefining x as itself +1 (so, x=1 gets redefined to x = x+1 = 1+1 = 2). Python then executes the loop again, but now x has been incremented by 1. We continue this process from x = 1 to x = 10, printing out x every time. Thus, with a fairly compact bit of code, you get 10 lines of output.\n",
    "\n",
    "It is sometimes handy to define what is known as a DUMMY VARIABLE, whose only job is to count the number of times the loop has been executed. Let's call this dummy variable i."
   ]
  },
  {
   "cell_type": "code",
   "execution_count": 1,
   "metadata": {},
   "outputs": [
    {
     "name": "stdout",
     "output_type": "stream",
     "text": [
      "4\n",
      "8\n",
      "16\n",
      "32\n",
      "64\n",
      "128\n",
      "256\n",
      "512\n",
      "1024\n",
      "2048\n"
     ]
    }
   ],
   "source": [
    "x = 2\n",
    "i = 0 #dummy variable\n",
    "while (i<10):\n",
    "    x = 2*x\n",
    "    print(x)\n",
    "    i = i+1 "
   ]
  },
  {
   "cell_type": "markdown",
   "metadata": {},
   "source": [
    "Now we want to combine lists with loops! You can use the dummy variable as a way to access a value in the list through its index. In exercise 1 we asked you to square the elements in a given list by hand, let's now do it by using a loop. \n",
    "\n",
    "In Python, the command to square something is ``**``. So `3**2` will give you 9."
   ]
  },
  {
   "cell_type": "code",
   "execution_count": null,
   "metadata": {},
   "outputs": [],
   "source": [
    "myList = [0, 1, 2, 3, 4, 5, 6, 7, 8, 9]\n",
    "# we want to end the loop at the end of the list i.e., the length of the list\n",
    "end = len(myList)\n",
    "\n",
    "i = 0\n",
    "while i < end:\n",
    "    num = myList[i]\n",
    "    print(num**2)\n",
    "    i = i + 1\n"
   ]
  },
  {
   "cell_type": "markdown",
   "metadata": {},
   "source": [
    "Isn't that much easier than squaring everything by hand? Loops are your friends in programming and will make menial, reptitive tasks go by very quickly. "
   ]
  },
  {
   "cell_type": "markdown",
   "metadata": {},
   "source": [
    "All this information with logic, loops, and lists may be confusing, but you will get the hang of it with practice! And by combining these concepts, your programming in Python can be very powerful. Let's try an example where we use an ``if/then`` nested inside of a loop by finding how many times the number 2 shows up in the following list. Remember that indentation is very important in Python!"
   ]
  },
  {
   "cell_type": "code",
   "execution_count": null,
   "metadata": {},
   "outputs": [],
   "source": [
    "twoList = [2, 5, 6, 2, 4, 1, 5, 7, 3, 2, 5, 2]\n",
    "# this variable will count up how many times the number 2 appears in the above list\n",
    "count = 0\n",
    "end = len(twoList)\n",
    "i = 0\n",
    "\n",
    "while i < end:\n",
    "    if twoList[i] == 2:\n",
    "        count = count + 1\n",
    "        \n",
    "    i = i + 1\n",
    "        \n",
    "print(count)"
   ]
  },
  {
   "cell_type": "markdown",
   "metadata": {},
   "source": [
    "Notice how the indentation is set up. What happens if you indent the print statement? How about removing the indentation on the if statement? Play around with it so you get the hang of indentation in nested code. \n",
    "\n",
    "Before you continue on to your second exercise, there is one more type of loop we should introduce: the _for-loop_. Instead of using a conditional to end the loop, the for-loop will iterate over the elements in a sequence or list. See the below example:"
   ]
  },
  {
   "cell_type": "code",
   "execution_count": null,
   "metadata": {},
   "outputs": [],
   "source": [
    "grades = [94, 83, 71, 78, 88, 90]\n",
    "\n",
    "for i in grades:\n",
    "    print(i)"
   ]
  },
  {
   "cell_type": "markdown",
   "metadata": {},
   "source": [
    "See how the for-loop prints the elements of the list without you having to specifically access them or even add 1 to your dummy variable? This is the magic of a for-loop! Python will automatically \"assign\" the first element in the list to the variable __i__, print it, then go to the next element until the list ends. You can produce the same output with the below while-loop:"
   ]
  },
  {
   "cell_type": "code",
   "execution_count": null,
   "metadata": {},
   "outputs": [],
   "source": [
    "grades = [94, 83, 71, 78, 88, 90]\n",
    "end = len(grades)\n",
    "i = 0\n",
    "\n",
    "while i < end:\n",
    "    print(grades[i])\n",
    "    i = i + 1"
   ]
  },
  {
   "cell_type": "markdown",
   "metadata": {},
   "source": [
    "It's a bit more effort than the for-loop. However, we will encourage you to use while-loops when you're beginning programming so you can keep track of your dummy variables and clearly see what ends the loop. It's essential to practice good programming habits right when you start! "
   ]
  },
  {
   "cell_type": "markdown",
   "metadata": {},
   "source": [
    "### EXERCISE 2:  Truth Table"
   ]
  },
  {
   "cell_type": "markdown",
   "metadata": {},
   "source": [
    "A truth table is a way of showing the **True** and **False** values of different operations. They typically start with values for two variables and then find the result when they are combined with different operators. Using two separate while-loops, generate two columns of a truth table for the lists `x` and `y`, defined below. That is, find the values for each element in the list for `x and y` in one loop and then the values of `x or y` in another. Note: you can always check your answer by doing it in your head! Checking your work is a good habit to have for the future :)"
   ]
  },
  {
   "cell_type": "code",
   "execution_count": null,
   "metadata": {},
   "outputs": [],
   "source": [
    "x = [True, True, False, False]\n",
    "y = [True, False, True, False]\n",
    "\n",
    "# your code here\n"
   ]
  }
 ],
 "metadata": {
  "kernelspec": {
   "display_name": "Python 3",
   "language": "python",
   "name": "python3"
  },
  "language_info": {
   "codemirror_mode": {
    "name": "ipython",
    "version": 3
   },
   "file_extension": ".py",
   "mimetype": "text/x-python",
   "name": "python",
   "nbconvert_exporter": "python",
   "pygments_lexer": "ipython3",
   "version": "3.6.6"
  }
 },
 "nbformat": 4,
 "nbformat_minor": 1
}
