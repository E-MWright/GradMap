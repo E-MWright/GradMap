{
 "cells": [
  {
   "cell_type": "markdown",
   "metadata": {},
   "source": [
    "# Numerical Integration - Simple Harmonic Oscillator\n",
    "\n",
    "In this problem, we want to find the velocity and position as a function of time of a simple harmonic oscillator.  A common example of a harmonic oscillator is a weight (with a mass $m$) that has been attached to the end of a spring with some resistance to it.  If you pull the weight away from the resting position, there is a restoring force that tries to pull the spring back to where it was (we pull, the spring pulls back).\n",
    "\n",
    "Mathematically, if we let the resting position be $x = 0$, then the restoring force is equal to\n",
    "\n",
    "$F = -kx$\n",
    "\n",
    "where $k$ is known as the spring constant, which simply describes how powerful the spring is (i.e. how stiff it is). If $k$ is large, the string is more stiff, if $k$ is small, it's easier to pull.\n",
    "\n",
    "However, we know, thanks to Newton's Second Law,\n",
    "\n",
    "$F = ma = m\\frac{\\Delta v}{\\Delta t}$\n",
    "\n",
    "So, this implies,\n",
    "\n",
    "$a = \\frac{F}{m} = \\frac{-k}{m} x$\n",
    "\n",
    "and by definition, velocity (v) is related to acceleration and position via\n",
    "\n",
    "$a = \\frac{\\Delta v}{\\Delta t}$ and $v = \\frac{\\Delta v}{\\Delta t}$\n",
    "\n",
    "So, let's say at some sample time $t$, the weight will be moving at some velocity $v$ and will be at position $x$.  What will be it's position and velocity be at some small time later ($t+\\Delta t$)?\n",
    "\n",
    "$v_{\\rm new} = v + \\Delta v = v + (a \\Delta t)$\n",
    "\n",
    "$x_{\\rm new} = x + \\Delta x = x + (v \\Delta t)$\n",
    "\n",
    "\n",
    "This is the same idea we used in lecture to create a numerical integrator for a ball being thrown through the air."
   ]
  },
  {
   "cell_type": "markdown",
   "metadata": {},
   "source": [
    "# Part 1\n",
    "\n",
    "Using the discussion above, for a oscillator with some mass $m = 1$ and a spring constant $k = 1$, can you calculate the position and velocity of the weight at some time later?  Use a while loop to do this, and let your $\\Delta t$ = 0.01 between each step.\n",
    "\n",
    "Let your initial $x$ = 3, initial $v$ = 0, and initial $t$ = 0.  What are $v$ and $x$ at $t = 5$."
   ]
  },
  {
   "cell_type": "code",
   "execution_count": null,
   "metadata": {
    "collapsed": false
   },
   "outputs": [],
   "source": [
    "m = 1\n",
    "k = 1\n",
    "x = 3\n",
    "v = 0\n",
    "t = 0\n",
    "tFinal = 5\n",
    "deltaT = 0.01\n",
    "while (t < tFinal):\n",
    "    deltaV = ((-k/m)*x)*deltaT\n",
    "    deltaX = v*deltaT\n",
    "    v = v + deltaV\n",
    "    x = x + deltaX\n",
    "    t = t + deltaT\n",
    "print(x)\n",
    "print(v)"
   ]
  },
  {
   "cell_type": "markdown",
   "metadata": {},
   "source": [
    "# Part 2\n",
    "\n",
    "Use arrays to store the values of x and t for the loop, and then plot $t$ v.s. $x$.  Can you do the same thing for $t$ v.s. $v$?\n",
    "\n",
    "Remember, you can create an empty array using,\n",
    "\n",
    "storage_array = np.array([])\n",
    "\n",
    "And then add to the end of the array using np.append()\n",
    "\n",
    "storage_array = np.append(storage_array,[new_value])\n",
    "\n",
    "For this, let the final time be $t$ = 50."
   ]
  },
  {
   "cell_type": "code",
   "execution_count": null,
   "metadata": {
    "collapsed": false
   },
   "outputs": [],
   "source": [
    "%matplotlib inline\n",
    "import matplotlib.pyplot as plt\n",
    "import numpy as np\n",
    "\n",
    "m = 1\n",
    "k = 1\n",
    "x = 3\n",
    "v = 0\n",
    "t = 0\n",
    "tFinal = 50\n",
    "deltaT = 0.01\n",
    "\n",
    "xArray = np.array([])\n",
    "tArray = np.array([])\n",
    "\n",
    "while (t < tFinal):\n",
    "    deltaV = ((-k/m)*x)*deltaT\n",
    "    deltaX = v*deltaT\n",
    "    v = v + deltaV\n",
    "    x = x + deltaX\n",
    "    t = t + deltaT\n",
    "    xArray = np.append(xArray,[x])\n",
    "    tArray = np.append(tArray,[t])\n",
    "print(x)\n",
    "print(v)\n",
    "\n",
    "plt.plot(tArray,xArray)\n",
    "plt.show()"
   ]
  },
  {
   "cell_type": "code",
   "execution_count": null,
   "metadata": {
    "collapsed": true
   },
   "outputs": [],
   "source": []
  },
  {
   "cell_type": "code",
   "execution_count": null,
   "metadata": {
    "collapsed": true
   },
   "outputs": [],
   "source": []
  }
 ],
 "metadata": {
  "anaconda-cloud": {},
  "kernelspec": {
   "display_name": "Python [conda root]",
   "language": "python",
   "name": "conda-root-py"
  },
  "language_info": {
   "codemirror_mode": {
    "name": "ipython",
    "version": 3
   },
   "file_extension": ".py",
   "mimetype": "text/x-python",
   "name": "python",
   "nbconvert_exporter": "python",
   "pygments_lexer": "ipython3",
   "version": "3.5.2"
  }
 },
 "nbformat": 4,
 "nbformat_minor": 1
}
