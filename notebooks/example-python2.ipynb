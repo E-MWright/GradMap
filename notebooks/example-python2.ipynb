{
 "cells": [
  {
   "cell_type": "markdown",
   "metadata": {},
   "source": [
    "# Example python2 notebook\n",
    "\n",
    "This is an example in python 2, with some math:\n",
    "$$\n",
    "     \\Phi = -  {  M  \\over {   {(r_c^2 + r^2)}^{1/2} }  }    \\tag{1a}\n",
    "$$\n",
    "which no doubt anybody will recognize as a Plummer potential.\n",
    "\n",
    "##  Example section\n",
    "\n",
    "More text can be organized in section\n",
    "\n",
    "We can also add code not in cells:\n",
    "```\n",
    "    a = 1.0\n",
    "    b = 1\n",
    "    c = \"1\"\n",
    "```\n",
    "which is the ABC of datatypes.  The **type(variable)** function in python will tell you what python thinks this variable is. Go ahead an try this in the next cell.  After you have written those 3 lines of python code, you exactute the cell with the *SHIFT-ENTER* keys (holding SHIFT and ENTER at the same time). As you probably saw, the ENTER key allows you to enter a new line, it does not execute the cell.\n"
   ]
  },
  {
   "cell_type": "code",
   "execution_count": null,
   "metadata": {
    "collapsed": true
   },
   "outputs": [],
   "source": [
    "#  a line starting with the \"#\" symbol is a comment in python\n"
   ]
  },
  {
   "cell_type": "markdown",
   "metadata": {},
   "source": [
    "### Well...\n",
    "\n",
    "did it work?"
   ]
  }
 ],
 "metadata": {
  "anaconda-cloud": {},
  "kernelspec": {
   "display_name": "Python [default]",
   "language": "python",
   "name": "python2"
  },
  "language_info": {
   "codemirror_mode": {
    "name": "ipython",
    "version": 2
   },
   "file_extension": ".py",
   "mimetype": "text/x-python",
   "name": "python",
   "nbconvert_exporter": "python",
   "pygments_lexer": "ipython2",
   "version": "2.7.12"
  }
 },
 "nbformat": 4,
 "nbformat_minor": 1
}
