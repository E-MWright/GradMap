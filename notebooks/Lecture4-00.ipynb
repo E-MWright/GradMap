{
 "cells": [
  {
   "cell_type": "markdown",
   "metadata": {},
   "source": [
    "#  NGC 6503 : a case study of dark matter\n",
    "\n",
    "The galaxy NGC 6503 is not a very bright or massive or big galaxy as they come, however it is relatively isolated in space and thus not very perturbed by nearby companions. This simplifies studying the gasflow in the galaxy in order to say something sensible about the dark matter contents in a galaxy.\n",
    "\n",
    "![Neighborhood](../data/NGC6503_Edge7_PS2SZ_RT_Annotated1.jpg \"a lonely galaxy\")"
   ]
  },
  {
   "cell_type": "markdown",
   "metadata": {
    "collapsed": true
   },
   "source": [
    "You can clearly see that the immediate neighborhood of NGC 6503 is void of any other galaxies. Most of the visible objects in this picture are stars of our milky way (two are labeled) and a few are fuzzy objects in the far universe catalogues by an Infra Red and Ultra Violet telescopes.\n",
    "\n",
    "* BD = Bonner Durchmusterung [bright stars]\n",
    "* HD = H. Draper [bright stars]\n",
    "* 2MASX = 2Micron All-Sky Survey, Extended source catalogue\n",
    "* GALEXASC = GALEX All-Sky Survey Source Catalog\n",
    "\n",
    "See http://cds.u-strasbg.fr/cgi-bin/Dic-Simbad for a service if you ever need to know what that strange astronomy acronym in a source name means...\n",
    "\n"
   ]
  },
  {
   "cell_type": "markdown",
   "metadata": {
    "collapsed": true
   },
   "source": [
    "## References for N6503 velocity field\n",
    "\n",
    "\n",
    "* [Analysis of high-resolution velocity fields - NGC 6503 (van Moorsel, 1985)](http://adsabs.harvard.edu/abs/1985AJ.....90.1038V)\n",
    "* [Aperture Synthesis Observations of the Nearby Spiral NGC 6503: Modeling the Thin and Thick H I Disks (Greisen, 2009)](http://adsabs.harvard.edu/abs/2009AJ....137.4718G)\n",
    "\n",
    "* [Searching for non-axisymmetries in NGC 6503: a weak end-on bar (Kuzio de Naray, 2012)]( http://adsabs.harvard.edu/abs/2012MNRAS.427.2523K)"
   ]
  },
  {
   "cell_type": "markdown",
   "metadata": {},
   "source": [
    "## Notebooks\n",
    "\n",
    "We have the following notebooks:\n",
    "\n",
    "* [cubes](Lecture4-01.ipynb) : Spectral Line Data Cubes in Astronomy - Part 1 \n",
    "* [orbits](Lecture4-02.ipynb): Gas Streaming in Disks: circular orbit approach\n",
    "\n",
    "We will not cover:\n",
    "\n",
    "* Spectral Line Data Cubes in Astronomy - Part 2\n",
    "* Non-circular orbits : orbit integrations using scipy.integrate.odeint\n",
    "* Rotation Curves from Velocity Fields or Cubes: forwards and backwards modeling\n",
    "\n",
    "\n"
   ]
  }
 ],
 "metadata": {
  "anaconda-cloud": {},
  "kernelspec": {
   "display_name": "Python [default]",
   "language": "python",
   "name": "python3"
  },
  "language_info": {
   "codemirror_mode": {
    "name": "ipython",
    "version": 3
   },
   "file_extension": ".py",
   "mimetype": "text/x-python",
   "name": "python",
   "nbconvert_exporter": "python",
   "pygments_lexer": "ipython3",
   "version": "3.5.2"
  }
 },
 "nbformat": 4,
 "nbformat_minor": 0
}
