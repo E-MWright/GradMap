{
 "cells": [
  {
   "cell_type": "markdown",
   "metadata": {},
   "source": [
    "# Background\n",
    "\n",
    "An essential tool in astronomy is spectroscopy, or the measurement of spectra and spectral lines.\n",
    "Through examination of spectra, astronomers can determine a variety of characteristics of distant\n",
    "objects, such as chemical composition, radial velocity, or temperature. With stars in particular,\n",
    "surface temperature and spectra are so closely related that our knowledge of a star’s surface\n",
    "temperature is directly deduced from its spectral type.\n",
    "\n",
    "Stellar spectral types are dependent on two things: the overall shape of the spectrum, and the\n",
    "spectral absorption lines superimposed on it, both of which are in part determined by surface\n",
    "temperature. Different absorption lines are caused by particular atoms and molecules, which are\n",
    "excited by the star's heat to cause different amounts of absorption. In some cases, a star's surface\n",
    "temperature even dictates whether or not specific ions and molecules can exist in the star's\n",
    "atmosphere. For example, titanium oxide (TiO) will only form at lower temperatures, but extremely\n",
    "high temperatures are necessary for the production of doubly ionized helium (He II.) In this lab,\n",
    "however, we will focus on the other component of spectroscopy: the overall shape of a spectrum.\n",
    "\n",
    "Stars are opaque, non-reflective objects, so their spectra can be approximated by a blackbody\n",
    "spectrum, which is solely dependent on an object’s surface temperature and defined by Planck’s law:\n",
    "\n",
    "$$\n",
    "I(\\lambda,T) = {  {2 h c^2} \\over {\\lambda^5}}  {  1 \\over {  e^{  {hc}\\over{\\lambda k_B T}       }-1  } }\n",
    "$$\n",
    "or does this look better\n",
    "$$\n",
    "I(\\lambda,T) = {  {2 h c^2} \\over {\\lambda^5}}  {  1 \\over {  exp(  {{hc}\\over{\\lambda k_B T}}  ) -1  } }\n",
    "$$\n",
    "\n",
    "where I is the intensity (W sr$^{-1}$ m$^{-3}$ ), which is the energy emitted per second (W) at a certain\n",
    "wavelength (m$^{-1}$ ) from a given amount of surface area (m$^{-2}$ ) as received by an outside object that\n",
    "covers a given solid angle (sr$^{ -1}$ ). (Note: solid angle is the two-dimensional angle that an\n",
    "object subtends at a point, giving the size an object appears to be.) The three physical constants are:\n",
    "the speed of light in a vacuum $c$ , Planck’s constant $h$ , and the Boltzmann constant $k_B$ .\n",
    "Because stars have atmospheres, Planck’s law is only an approximation of their spectra. Particles\n",
    "in stars’ atmospheres create absorption lines that differentiate real stellar spectra from a pure\n",
    "blackbody curve. This deviation is visible in the stellar spectra you will be using in Part 2."
   ]
  },
  {
   "cell_type": "markdown",
   "metadata": {},
   "source": [
    "### Lab 2 comments about residuals/sum of squares?\n",
    "\n",
    "skipping this?"
   ]
  },
  {
   "cell_type": "markdown",
   "metadata": {},
   "source": [
    "## About the data\n",
    "\n",
    "This lab has two parts: in the first, you will generate your own “data” with Planck’s law. In the\n",
    "second part, you will need to access files from a folder in **../data/spectra** . The folder contains the spectra of 5 unknown stars, and 13 spectra of stars with\n",
    "defined spectral types. Each spectrum file is an ascii file, and contains an array with two columns: the first contains\n",
    "wavelengths ranging from 3900 Å to 4500 Å (1 Å = 0.1 nm) and the second contains normalized\n",
    "intensity.\n",
    "\n",
    "To use the data, you will need to read the data into PYTHON (hint: numpy has a function loadtxt, astropy.io has ascii; watch out if you need to transpose the data)"
   ]
  },
  {
   "cell_type": "markdown",
   "metadata": {},
   "source": [
    "## Part 1: Plotting Planck’s Law\n",
    "\n",
    "In this part of the lab, you will plot the spectra of an M0 star, the Sun, and an A0 star.\n",
    "1. Write a function to calculate the intensity given by Planck’s law for a given surface\n",
    "temperature. The function should have two inputs: an array of wavelengths and a single\n",
    "temperature. The output will be an array of intensities. Keep everything in SI units.\n",
    "2. In a script, create an array of wavelengths to use in this function. The wavelengths should\n",
    "range from 10 -10 m to 1.5x10 -6 m. Include as many points as needed for a smooth plot.\n",
    "3. Using this array and your function, plot the spectrum of an A0 star. Before moving on, make\n",
    "sure the function and script work . Does the plot look like what you’d expect?\n",
    "4. Plot the spectra of the Sun and an M0 star on the same figure. Format the plot so that each\n",
    "star is represented with a different color and line style. Include axis labels, a title, and a\n",
    "legend.\n",
    "5. Now that you’ve looked at purely theoretical spectra, let’s see how it compares to a real\n",
    "spectrum. Read in and plot the standard spectrum for a B0 star in a new figure.\n",
    "6. Generate a spectrum for a star of the same temperature from your Planck function using the\n",
    "range of wavelengths given from the standard spectra data. After normalizing this array (to\n",
    "normalize is to divide each point by the maximum point), plot it over the real spectrum. Add\n",
    "the appropriate formatting. What differences and similarities do you see in the two spectra?"
   ]
  },
  {
   "cell_type": "markdown",
   "metadata": {},
   "source": [
    "## Part 2: Spectral Identification\n",
    "\n",
    "Now we will use a set of standard models to classify five stars with unknown spectral types.\n",
    "1. In a new script, read in the data for Unknown 1 and plot the spectrum.\n",
    "2. To roughly identify the star, determine which two standards it most closely resembles. To do\n",
    "this, read in any two consecutive standard spectra, and plot the standards along with the\n",
    "unknown in a single figure. Format the figure as in the previous section (try adapting the\n",
    "script from the previous section instead of doing it all over again).\n",
    "33. Using your script, change the standards until you find the two consecutive standards that\n",
    "match the unknown spectrum best. What characteristics do you look for in a match?\n",
    "4. In the same script, calculate the residual of the unknown with each standard. Plot both of the\n",
    "residuals as a function of wavelength in a single figure with all the relevant formatting.\n",
    "5. Now calculate the sum of squares of the residuals of the two standards, keeping two decimal\n",
    "places. Unlike the calculation of the residuals, which resulted in an array, the sum of squares\n",
    "should be a single number. Compare the two sum of squares to determine which standard is\n",
    "a better model of the data. How is the sum of squares used for this comparison?\n",
    "6. You should now have a single script that does this whole process; use it to identify the\n",
    "remaining four unknowns. In your lab report, include all of the figures and data showing the\n",
    "process of classification for the first unknown star, but only your final classification for the\n",
    "other four unknowns."
   ]
  },
  {
   "cell_type": "code",
   "execution_count": null,
   "metadata": {
    "collapsed": true
   },
   "outputs": [],
   "source": []
  }
 ],
 "metadata": {
  "anaconda-cloud": {},
  "kernelspec": {
   "display_name": "Python [default]",
   "language": "python",
   "name": "python3"
  },
  "language_info": {
   "codemirror_mode": {
    "name": "ipython",
    "version": 3
   },
   "file_extension": ".py",
   "mimetype": "text/x-python",
   "name": "python",
   "nbconvert_exporter": "python",
   "pygments_lexer": "ipython3",
   "version": "3.5.2"
  }
 },
 "nbformat": 4,
 "nbformat_minor": 1
}
