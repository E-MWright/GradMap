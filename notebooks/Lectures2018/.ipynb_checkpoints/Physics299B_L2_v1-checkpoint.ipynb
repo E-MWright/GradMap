{
 "cells": [
  {
   "cell_type": "markdown",
   "metadata": {},
   "source": [
    "## Review from the previous lecture\n",
    "\n",
    "We covered a bunch of basic math commands (+,-,/,**) and variables: \n",
    "- int, float, list, \"string\", array (today: booleans, functions)\n",
    "- `type()` and `print()`\n",
    "\n",
    "We also introduced you to Numerical Python (numpy) arrays and basic plotting using matplotlib. "
   ]
  },
  {
   "cell_type": "code",
   "execution_count": null,
   "metadata": {
    "collapsed": true
   },
   "outputs": [],
   "source": [
    "import numpy as np"
   ]
  },
  {
   "cell_type": "markdown",
   "metadata": {},
   "source": [
    "Here we are calling in the contents of *numpy* and giving it the shorthand name 'np' for convenience.\n",
    "\n",
    "To create an array variable (let's call it 'x'), we simply assign 'x' to be equal to the output of the np.array() function, using a list as an input. You can then verify its contents by using the print() function."
   ]
  },
  {
   "cell_type": "code",
   "execution_count": null,
   "metadata": {
    "collapsed": true
   },
   "outputs": [],
   "source": [
    "x = np.array([1,2,3,4,5])\n",
    "print(x)"
   ]
  },
  {
   "cell_type": "markdown",
   "metadata": {},
   "source": [
    "As we learned in Lecture 1, *numpy arrays* are convenient because they allow us to do math across the whole array and not just individual numbers.\n",
    "\n",
    "For example, let's say we want to make a new variable 'y' such that y = $x^{2}$, then this is done simply as"
   ]
  },
  {
   "cell_type": "code",
   "execution_count": null,
   "metadata": {
    "collapsed": true
   },
   "outputs": [],
   "source": [
    "y = x**2\n",
    "print(y)"
   ]
  },
  {
   "cell_type": "markdown",
   "metadata": {},
   "source": [
    "Now let's say we wanted to plot y as a function of x. "
   ]
  },
  {
   "cell_type": "code",
   "execution_count": null,
   "metadata": {},
   "outputs": [],
   "source": [
    "%matplotlib inline\n",
    "import matplotlib\n",
    "import matplotlib.pyplot as plt\n",
    "\n",
    "x = np.arange(1,10,.1)\n",
    "y = x**2\n",
    "\n",
    "p = plt.plot(x,y)"
   ]
  },
  {
   "cell_type": "markdown",
   "metadata": {},
   "source": [
    "# Lecture 2 - Logic, Loops, and Arrays\n",
    "\n",
    "Today, we will extend on the arrays\n",
    "\n",
    "1. The logic of Python, including **while loops** and **if/else** statements\n",
    "2. **Functions** and how to define new ones. \n",
    "3. A review of **numpy arrays** and a discussion of their usefulness in solving real problems\n",
    "4. Reading in **data** from text and numpy file formats, along with creating your own outputs to be used later\n",
    "    "
   ]
  },
  {
   "cell_type": "markdown",
   "metadata": {},
   "source": [
    "## A. Logic, If/Else, and Loops\n",
    "\n",
    "You can make conditional (logical) statements in Python, which return either \"True\" or \"False\", also known as \"Booleans.\""
   ]
  },
  {
   "cell_type": "code",
   "execution_count": null,
   "metadata": {
    "collapsed": true
   },
   "outputs": [],
   "source": [
    "#Example conditional statements\n",
    "x = 1\n",
    "y = 2\n",
    "x<y #x is less than y"
   ]
  },
  {
   "cell_type": "code",
   "execution_count": null,
   "metadata": {
    "collapsed": true
   },
   "outputs": [],
   "source": [
    "#x is greater than y\n",
    "x>y"
   ]
  },
  {
   "cell_type": "code",
   "execution_count": null,
   "metadata": {
    "collapsed": true
   },
   "outputs": [],
   "source": [
    "#x is less-than or equal to y\n",
    "x<=y"
   ]
  },
  {
   "cell_type": "code",
   "execution_count": null,
   "metadata": {
    "collapsed": true
   },
   "outputs": [],
   "source": [
    "#x is greater-than or equal to y\n",
    "x>=y"
   ]
  },
  {
   "cell_type": "markdown",
   "metadata": {},
   "source": [
    "If you let a and b be conditional statements (like the above statements, e.g. a = x < y), then you can combine the two together using logical operators, which can be thought of as functions for conditional statements.\n",
    "\n",
    "There are three logical operators that are handy to know:\n",
    "\n",
    "* **And** operator: ** `a and b`**\n",
    "    - outputs True only if both a and b are True\n",
    "* **Or** operator: **`a or b`**\n",
    "    - outputs True if at least one of a and b are True\n",
    "* **Not** operator: **`not(a)`**\n",
    "    - outputs the negation of a "
   ]
  },
  {
   "cell_type": "code",
   "execution_count": null,
   "metadata": {
    "collapsed": true
   },
   "outputs": [],
   "source": [
    "#Example of and operator\n",
    "(1<2) and (2<3)"
   ]
  },
  {
   "cell_type": "code",
   "execution_count": null,
   "metadata": {
    "collapsed": true
   },
   "outputs": [],
   "source": [
    "#Example of or operator\n",
    "(1<2) or (2>3)"
   ]
  },
  {
   "cell_type": "code",
   "execution_count": null,
   "metadata": {
    "collapsed": true
   },
   "outputs": [],
   "source": [
    "#Example of not operator\n",
    "not(1<2)"
   ]
  },
  {
   "cell_type": "markdown",
   "metadata": {},
   "source": [
    "Now, these might not seem especially useful at first, but they're the bread and butter of programming. Even more importantly, they are used when we are doing if/else statements or loops, which we will now cover.\n",
    "\n",
    "An `if/else` statement (or simply an if statement) are segments of code that have a conditional statement built into it, such that the code within that segment doesn't activate unless the conditional statement is true.\n",
    "\n",
    "Here's an example. Play around with the variables x and y to see what happens."
   ]
  },
  {
   "cell_type": "code",
   "execution_count": null,
   "metadata": {
    "collapsed": true
   },
   "outputs": [],
   "source": [
    "x = 1\n",
    "y = 2\n",
    "if (x < y):\n",
    "    print(\"Yup, totally true!\")\n",
    "else:\n",
    "    print(\"Nope, completely wrong!\")"
   ]
  },
  {
   "cell_type": "markdown",
   "metadata": {},
   "source": [
    "The idea here is that Python checks to see if the statement (in this case \"x < y\") is True. If it is, then it will do what is below the if statement. The else statement tells Python what to do if the condition is False.\n",
    "\n",
    "Note that Python requires you to indent these segments of code, and WILL NOT like it if you don't. Some languages don't require it, but Python is very particular when it comes to this point. (The parentheses around the conditional statement, however, are optional.)\n",
    "\n",
    "You also do not always need an \"else\" segment, which effectively means that if the condition isn't True, then that segment of code doesn't do anything, and Python will just continue on past the if statement.\n",
    "\n",
    "Here is an example of such a case.  Play around with it to see what happens when you change the values of x and y."
   ]
  },
  {
   "cell_type": "code",
   "execution_count": null,
   "metadata": {
    "collapsed": true
   },
   "outputs": [],
   "source": [
    "x = 2\n",
    "y = 1\n",
    "if (x > y):\n",
    "    print(\"x is greater than y\")"
   ]
  },
  {
   "cell_type": "markdown",
   "metadata": {},
   "source": [
    "Here's a more complicated case. Here, we introduce some logic that helps you figure out if two objects are equal or not. \n",
    "\n",
    "There's the `==` operator and the `!=` operator. Can you figure out what they mean?"
   ]
  },
  {
   "cell_type": "code",
   "execution_count": null,
   "metadata": {
    "collapsed": true
   },
   "outputs": [],
   "source": [
    "x = 2\n",
    "y = 2\n",
    "if (x == y):\n",
    "    print(\"x and y are equal\")\n",
    "if (x != y):\n",
    "    print(\"x and y are not equal\")\n",
    "if (x > y or x < y):\n",
    "    print(\"x and y are not equal (again!)\")"
   ]
  },
  {
   "cell_type": "markdown",
   "metadata": {},
   "source": [
    "While-loops are similar to if statements, in the sense that they also have a conditional statement built into them. The code inside the loop will execute when the conditional is True. And then it will check the conditional and, if it evaluates to True, the code will execute again. And so on and so forth...\n",
    "\n",
    "The funny thing about while-loops is that they will KEEP executing that segment of code until the conditional statement evaluates to False...which hopefully will happen...right?\n",
    "\n",
    "Although this seems a bit strange, you can get the hang of it!\n",
    "\n",
    "For example, let's say we want Python to count from 1 to 10."
   ]
  },
  {
   "cell_type": "code",
   "execution_count": null,
   "metadata": {
    "collapsed": true
   },
   "outputs": [],
   "source": [
    "x = 1\n",
    "while (x <= 10):\n",
    "    print(x)\n",
    "    x = x+1"
   ]
  },
  {
   "cell_type": "markdown",
   "metadata": {},
   "source": [
    "Note here that we tell Python to print the number x (x starts at 1) and then redefining x as itself +1 (so, x=1 gets redefined to x = x+1 = 1+1 = 2). Python then executes the loop again, but now x has been incremented by 1. We continue this process from x = 1 to x = 10, printing out x every time. Thus, with a fairly compact bit of code, you get 10 lines of output.\n",
    "\n",
    "It is sometimes handy to define what is known as a DUMMY VARIABLE, whose only job is to count the number of times the loop has been executed. Let's call this dummy variable i."
   ]
  },
  {
   "cell_type": "code",
   "execution_count": null,
   "metadata": {
    "collapsed": true
   },
   "outputs": [],
   "source": [
    "x = 2\n",
    "i = 0 #dummy variable\n",
    "while (i<10):\n",
    "    x = 2*x\n",
    "    print(x)\n",
    "    i = i+1 \n",
    "    #another way to write this is i+=1, but it's idiosyncratic and we won't use it here"
   ]
  },
  {
   "cell_type": "markdown",
   "metadata": {},
   "source": [
    "Food for though: what if the conditional statement is always true?"
   ]
  },
  {
   "cell_type": "markdown",
   "metadata": {},
   "source": [
    "## B. Defining Your Own Functions\n",
    "\n",
    "So far, we have focused on learning **built-in functions** (such as from *numpy* and *matplotlib*), but what about **defining our own**? This allows you to **clean up** your code, and **apply the same set of operations to multiple variables** without having to explicitly write them out every time.\n",
    "\n",
    "For example, let's say we want to define a function that takes the square root of a number. Let's check to make sure the number is positive first, so that we don't end up with an imaginary answer. "
   ]
  },
  {
   "cell_type": "code",
   "execution_count": null,
   "metadata": {
    "collapsed": true,
    "scrolled": true
   },
   "outputs": [],
   "source": [
    "#Defining a square root function\n",
    "def sqrt(x):\n",
    "    if (x < 0):\n",
    "        print(\"Your input is not positive!\")\n",
    "    else: \n",
    "        return x**(1/2)"
   ]
  },
  {
   "cell_type": "code",
   "execution_count": null,
   "metadata": {
    "collapsed": true
   },
   "outputs": [],
   "source": [
    "sqrt(4)"
   ]
  },
  {
   "cell_type": "code",
   "execution_count": null,
   "metadata": {
    "collapsed": true
   },
   "outputs": [],
   "source": [
    "sqrt(-4)"
   ]
  },
  {
   "cell_type": "markdown",
   "metadata": {},
   "source": [
    "So the outline for a function is\n",
    "```python\n",
    "def <function name> (<input variable>):\n",
    "    <some code here>\n",
    "    return <output variable>\n",
    "```\n",
    "\n",
    "In general, many common mathematical functions like sqrt, log, exp, sin, cos can be found in the *math* module. So we don't have to write our own - phew!"
   ]
  },
  {
   "cell_type": "code",
   "execution_count": null,
   "metadata": {
    "collapsed": true
   },
   "outputs": [],
   "source": [
    "import math\n",
    "print(math.sqrt(25))\n",
    "print(math.sin(math.pi/2))\n",
    "print(math.exp(math.pi)-math.pi)"
   ]
  },
  {
   "cell_type": "markdown",
   "metadata": {},
   "source": [
    "When defining your own functions, you can also use **multiple input variables**. For example, if we want to calculate the length of a vector $(x,y)$, we can create a function that takes in the components $x$ and $y$ individually. "
   ]
  },
  {
   "cell_type": "code",
   "execution_count": null,
   "metadata": {
    "collapsed": true
   },
   "outputs": [],
   "source": [
    "def length(x, y):\n",
    "    \"\"\"Calculate the hypotenuse of a right triangle with sides x and y.\"\"\"\n",
    "    return math.sqrt(x**2+y**2)"
   ]
  },
  {
   "cell_type": "code",
   "execution_count": null,
   "metadata": {},
   "outputs": [],
   "source": [
    "length(3,4)"
   ]
  },
  {
   "cell_type": "markdown",
   "metadata": {},
   "source": [
    "In this lecture, we've learned about numpy arrays, loops, and defining functions. You'll have a chance to test these skills in the following exercise!"
   ]
  },
  {
   "cell_type": "markdown",
   "metadata": {},
   "source": [
    "## Challenge 1 - Approximate $\\pi$ "
   ]
  },
  {
   "cell_type": "markdown",
   "metadata": {},
   "source": [
    "For a given set of points, the pathlength from $(x_0,y_0)$ to $(x_n,y_n)$ is given by the following expression,\n",
    "\\begin{gather}\n",
    "L = \\sum_{i = 1}^n \\sqrt{ \\left(x_i - x_{i-1}\\right)^2 + \\left(y_i - y_{i-1} \\right)^2}\n",
    "\\end{gather}\n",
    "\n",
    "Write a function `pathLength` which computes $L$ given two input lists `x` and `y`. You should check the input argments to ensure that these lists are of the same length. "
   ]
  },
  {
   "cell_type": "code",
   "execution_count": null,
   "metadata": {
    "collapsed": true
   },
   "outputs": [],
   "source": [
    "def pathLength(x,y):\n",
    "    #Your code goes here\n",
    "    return L"
   ]
  },
  {
   "cell_type": "markdown",
   "metadata": {},
   "source": [
    "$\\pi$ is the circumference of a circle whose radius is $1/2$. Using $n + 1$ points to describe a given circle, the $x$ and $y$ coordinates are given by the following expressions,\n",
    "\\begin{gather}\n",
    "x_i = \\frac{1}{2} \\cos \\left( \\frac{2\\pi i}{n} \\right) \\\\\n",
    "y_i = \\frac{1}{2} \\sin \\left( \\frac{2\\pi i}{n} \\right),\n",
    "\\end{gather} \n",
    "where $i = 0 ... n$. Write a function `approxPi` which takes one input argument `n` and populates two arrays, `x` and `y`, of length `n+1` (these could be generated using `arange` or `linspace`). Plot `x` and `y` using `plt.plot()`. To compute the circumference of the circle, pass `x` and `y` to `pathLength`. Print the approximation to $\\pi$ you have computed, $\\pi^{\\text{approx}}$, and the error in your estimate, $e = \\rvert \\pi^{\\text{approx}} - \\pi \\rvert$. The function `approxPi` should return the value of $e$. You should also check the input argument to `computePi` to ensure that `n` is a positive integer. If not, return -1 and print an error message. "
   ]
  },
  {
   "cell_type": "code",
   "execution_count": null,
   "metadata": {
    "collapsed": true
   },
   "outputs": [],
   "source": [
    "def approxPi(n):\n",
    "    #Your code goes here\n",
    "    return e"
   ]
  },
  {
   "cell_type": "markdown",
   "metadata": {},
   "source": [
    "As an extra challenge, write a function `piTolerance` which takes a given tolerance, `tol`, as its input. This is the error to which you want to compute $\\pi$ using the `approxPi` function. Find the smallest value of $n$ such that you can achieve $e < \\text{tol}$. "
   ]
  },
  {
   "cell_type": "code",
   "execution_count": null,
   "metadata": {
    "collapsed": true
   },
   "outputs": [],
   "source": [
    "def piTolerance(tol):\n",
    "    #Your code goes here\n",
    "    return n"
   ]
  },
  {
   "cell_type": "markdown",
   "metadata": {},
   "source": [
    "## C. Numpy Arrays - Review of Basics and Some More Advanced Topics"
   ]
  },
  {
   "cell_type": "markdown",
   "metadata": {},
   "source": [
    "The documentation of possible functions that can be applied to integers and floats (i.e. single numbers), as well as *numpy arrays*, can be found here: https://docs.scipy.org/doc/numpy/reference/routines.math.html\n",
    "\n",
    "As discussed previously, there are numerous ways to create arrays beyond np.numpy().  These include:\n",
    "* `np.arange(start_,stop_,step_)`\n",
    "* `np.linspace(first_,last_,num_)`\n",
    "    \n",
    "These create arrays of numbers within a range with a specific step-size between each consecutive number in the array.\n",
    "\n",
    "It is sometimes convenient to have Python create other arrays for you, depending on the problem that you are going to solve.  For example, sometimes it is handy to create an array of all zeros, which can then be replaced later with data. This can be done by using np.zeros().\n",
    "\n",
    "Going back to the Fibonacci example, let's say we want to store the first 10 elements of the Fibonacci sequence in an array for easy access in the future. To ready such an array, you simply do the following."
   ]
  },
  {
   "cell_type": "code",
   "execution_count": null,
   "metadata": {
    "collapsed": true
   },
   "outputs": [],
   "source": [
    "data = np.zeros(10)\n",
    "print(data)"
   ]
  },
  {
   "cell_type": "markdown",
   "metadata": {
    "collapsed": true
   },
   "source": [
    "Now how do we assign a new value to an element of the array? We use the following \"square bracket\" notation:\n",
    "> `array_name[index_number] = value`\n",
    "    \n",
    "This command will replace whatever value is currently in the position corresponding to \"index_number\" in the array called \"array_name\" with the value stored in \"value.\"\n",
    "\n",
    "Arrays are numbered starting from 0, such that\n",
    "\n",
    "* First position = 0\n",
    "* Second position = 1\n",
    "* Third position = 2\n",
    "* etc.\n",
    "\n",
    "It is a bit confusing, but after a bit of time, this becomes quite natural.  Let's practice with the Fibonacci example. \n",
    "\n",
    "First, let's store the first Fibonacci number in our array. We use the brackets to store that value in the first position (0 index number) in the data array we made above."
   ]
  },
  {
   "cell_type": "code",
   "execution_count": null,
   "metadata": {
    "collapsed": true
   },
   "outputs": [],
   "source": [
    "data[0] = fib(0)\n",
    "print(data[0])"
   ]
  },
  {
   "cell_type": "markdown",
   "metadata": {},
   "source": [
    "Now you try it. Store the second Fibonacci number in the second position of your array and use a print statement to verify that you have done so. "
   ]
  },
  {
   "cell_type": "code",
   "execution_count": null,
   "metadata": {
    "collapsed": true
   },
   "outputs": [],
   "source": [
    "#Your code goes here"
   ]
  },
  {
   "cell_type": "markdown",
   "metadata": {},
   "source": [
    "Python array indexing is fairly straightforward once you get the hang of it.\n",
    "\n",
    "Let's say you wanted the last element of the array, but you don't quite recall the size of the array. One of the easiest ways to access that element  is to use negative indexing.\n",
    "\n",
    "Negative indexing is the same as normal indexing, but backward, in the sense that you start with the last element of the array and count forward.  More explicitly, for any array:\n",
    "\n",
    "* array[-1] = last element of array\n",
    "* array[-2] = second to last element of the array\n",
    "* array[-3] = third to last element of the array\n",
    "* etc\n",
    "\n",
    "Now then, let's create an array using `np.arange()` with 10 elements, and see if you can access the last element and the second to last element using negative indexing. Print out these values."
   ]
  },
  {
   "cell_type": "code",
   "execution_count": null,
   "metadata": {
    "collapsed": true
   },
   "outputs": [],
   "source": [
    "#Your code goes here"
   ]
  },
  {
   "cell_type": "markdown",
   "metadata": {},
   "source": [
    "Now, sometimes its useful to access more than one element of an array. Let's say that we have an array with 100 elements in the range [0,10] (including endpoints). If you recall, this can be done via the `np.linspace()` function."
   ]
  },
  {
   "cell_type": "code",
   "execution_count": null,
   "metadata": {
    "collapsed": true,
    "scrolled": true
   },
   "outputs": [],
   "source": [
    "x = np.linspace(0,10,100)"
   ]
  },
  {
   "cell_type": "markdown",
   "metadata": {},
   "source": [
    "Now then, in order to get a range of elements rather than simply a single one, we use the notation:\n",
    "\n",
    "> `x[i_start,i_end+1]`\n",
    "\n",
    "For example, let's say you want the 1st, 2nd, and 3rd element, then you'd have to do\n",
    "\n",
    "> `x[0:3]`\n",
    "\n",
    "In this notation, \":\" represents you want everything between 0 and 3, and including 0. Let's test this."
   ]
  },
  {
   "cell_type": "code",
   "execution_count": null,
   "metadata": {
    "collapsed": true
   },
   "outputs": [],
   "source": [
    "x[0:3]"
   ]
  },
  {
   "cell_type": "markdown",
   "metadata": {},
   "source": [
    "If you want everything passed a certain point of the array (including that point), then you would just eliminate the right number, for example\n",
    "\n",
    "> `x[90:]`\n",
    "\n",
    "would give you everything after (and including) the 90 index element. Similarly, if you want everything before a certain index\n",
    "\n",
    "> `x[:90]`\n",
    "\n",
    "would give you everything before the 90 index element.\n",
    "\n",
    "So, let's say that you would want everything up to and including the tenth element of the array $x$. How would you do that?\n",
    "\n",
    "(Remember, the tenth element has an index of 9)"
   ]
  },
  {
   "cell_type": "code",
   "execution_count": null,
   "metadata": {
    "collapsed": true
   },
   "outputs": [],
   "source": [
    "#Your code goes here"
   ]
  },
  {
   "cell_type": "markdown",
   "metadata": {},
   "source": [
    "Finally, simply using the \":\" gives you all the elements in the array."
   ]
  },
  {
   "cell_type": "markdown",
   "metadata": {},
   "source": [
    "## Challenge 2 - Theme Park Data Analysis\n",
    "\n",
    "For this part, you’ll play theme park engineer. You’re assigned to analyze the performance of a drop tower, which is like a roller coaster that only moves vertically. Riders are strapped into seats in the cab, and then motors within the obelisk-shaped structure accelerate the cab up and down. **Your task is to plot the position, velocity, and acceleration of the drop tower over time**. \n",
    "\n",
    "Take a look at the data file named `droptower_vdata.txt`. It is located in the folder `lecture2_data`. The first few lines are comments that describe how the data was obtained. The data itself can be read in using the following code, which we will explain later in the lecture. "
   ]
  },
  {
   "cell_type": "code",
   "execution_count": null,
   "metadata": {},
   "outputs": [],
   "source": [
    "time, velocity = np.loadtxt(\"./lecture_2_data/droptower_vdata.txt\",unpack = True)"
   ]
  },
  {
   "cell_type": "markdown",
   "metadata": {},
   "source": [
    "Now you have two numpy arrays whose *i*-th element contains the data for the velocity of the drop tower $v[i]$ at time $t[i]$."
   ]
  },
  {
   "cell_type": "markdown",
   "metadata": {},
   "source": [
    "## Part I: Acceleration \n",
    "\n",
    "The acceleration is what causes the thrill of the roller coaster. Let's figure out when exactly the excitement is at its peak for the drop tower. \n",
    "\n",
    "Remember we can take the derivative of velocity to find the acceleration: $a = \\frac{dv}{dt}\\approx \\frac{\\Delta v}{\\Delta t}$. \n",
    "\n",
    "Numerically, the derivative can be approximated as as a ratio of finite differences\n",
    "\n",
    "$$ a[i] = \\frac{v[i+1]-v[i]}{t[i+1]-t[i]}$$\n",
    "\n",
    "Make sure you understand why this approximates the derivative. Since our times are integers, the formula reduces to:\n",
    "\n",
    "$$ a[i] = v[i+1]-v[i]$$\n",
    "\n",
    "To implement this, use a `while`-loop to update the entries of a (numpy) array of accelerations with the correct value.\n",
    "\n",
    "One helpful function that will allow you to keep track of the acclerations is `np.append()`.  https://docs.scipy.org/doc/numpy/reference/generated/numpy.append.html\n",
    "\n",
    "First, let's define an empty array that will store our information. This is an odd idea, defining an array variable without any elements, so instead think of it as a basket without anything inside of it yet. We will `np.append()` to fill it."
   ]
  },
  {
   "cell_type": "code",
   "execution_count": null,
   "metadata": {
    "collapsed": true
   },
   "outputs": [],
   "source": [
    "accel = np.array([])"
   ]
  },
  {
   "cell_type": "markdown",
   "metadata": {},
   "source": [
    "Now, each time the while-loop executes, all you have to do is use `np.append()` to adding the new value to the acceleration array.\n",
    "\n",
    "How do you do that? Well, looking at the `np.append()` documentation, you can do\n",
    "\n",
    "```accel = np.append(accel,new_value)```\n",
    "\n",
    "Note that the size of the array of accelerations will be one less than the size of the velocity array. Why should this be so?"
   ]
  },
  {
   "cell_type": "code",
   "execution_count": null,
   "metadata": {},
   "outputs": [],
   "source": [
    "# Your code goes here"
   ]
  },
  {
   "cell_type": "markdown",
   "metadata": {},
   "source": [
    "After this, use `plt.plot(time,velocity,'o')` to plot the velocity of the drop tower as a function of time (the last 'o' is used to change the plotting from a line to points)."
   ]
  },
  {
   "cell_type": "code",
   "execution_count": null,
   "metadata": {
    "collapsed": true
   },
   "outputs": [],
   "source": [
    "#Your code goes here"
   ]
  },
  {
   "cell_type": "markdown",
   "metadata": {},
   "source": [
    "To plot the acceleration, we need to do a little more work. Note that the array of times is one element longer than the array of accelerations. Using what you know about indexing into a Python array, plot the acceleration as a function of time. "
   ]
  },
  {
   "cell_type": "code",
   "execution_count": null,
   "metadata": {
    "collapsed": true
   },
   "outputs": [],
   "source": [
    "#Your code goes here"
   ]
  },
  {
   "cell_type": "markdown",
   "metadata": {},
   "source": [
    "When is the magnitude of the acceleration the largest? "
   ]
  },
  {
   "cell_type": "markdown",
   "metadata": {},
   "source": [
    "## Part II - Position\n",
    "\n",
    "Now we will use integration to find the position of the drop tower as a function of time. \n",
    "\n",
    "Remember that $v = \\frac{dy}{dt}$, which can be approximated by the formula $\\Delta y = v \\Delta t$\n",
    "\n",
    "So, the change of an object's vertical position $\\Delta y$ is equal to the velocity $v$ multiplied by the change in time $\\Delta t$. \n",
    "\n",
    "The total position can be approximated by the Riemann sum:\n",
    "\n",
    "$$ y[i] = \\sum_{j=0}^{i-1} v[j] \\Delta t =  \\sum_{j=0}^{i-1} v[j], $$\n",
    "\n",
    "where the index $i$ goes from 1 to the length of the velocity array. \n",
    "\n",
    "Using a `while`-loop, create an array of positions by summing elements from the velocity array. "
   ]
  },
  {
   "cell_type": "code",
   "execution_count": null,
   "metadata": {
    "collapsed": true
   },
   "outputs": [],
   "source": [
    "positions = np.array([])\n",
    "\n",
    "#Your code goes here"
   ]
  },
  {
   "cell_type": "markdown",
   "metadata": {},
   "source": [
    "After this, plot the trajectory of the drop tower as a function of time. "
   ]
  },
  {
   "cell_type": "code",
   "execution_count": null,
   "metadata": {
    "collapsed": true
   },
   "outputs": [],
   "source": [
    "#Your code goes here"
   ]
  },
  {
   "cell_type": "markdown",
   "metadata": {},
   "source": [
    "## D. Loading And Saving Data Arrays\n",
    "\n",
    "So, we have learned a lot about data arrays and how we can manipulate them, either through mathematics or indexing. However, up until this point, all we've done is use arrays that we ourselves created. But what happens if we have data from elsewhere?  Can Python use that?\n",
    "\n",
    "The answer is of course yes, and while there are ways to import data that are a bit complicated at times, we're going to teach you some of the most basic, and most useful, ways.\n",
    "\n",
    "For this section, we will be using plotting to visualize the data as you're working with it, and as such, we will be loading in the package \"matplotlib.pyplot\" which you used in Lecture 1"
   ]
  },
  {
   "cell_type": "code",
   "execution_count": null,
   "metadata": {
    "collapsed": true
   },
   "outputs": [],
   "source": [
    "%matplotlib inline\n",
    "import matplotlib.pyplot as plt"
   ]
  },
  {
   "cell_type": "markdown",
   "metadata": {},
   "source": [
    "Now then, let's say we are doing a timing experiment, where we look at the *brightness* of an object as a function of *time*. This is actually a very common type of measurement that you may do in research, such as looking for dips in the brightness of stars as a way to detect planets.\n",
    "\n",
    "This data is stored in a text file named `timeseries_data.txt` in the directory `lecture2_data`. Let's load it in."
   ]
  },
  {
   "cell_type": "code",
   "execution_count": null,
   "metadata": {
    "collapsed": true
   },
   "outputs": [],
   "source": [
    "timeseriesData = np.loadtxt(\"./lecture2_data/timeseries_data.txt\")"
   ]
  },
  {
   "cell_type": "markdown",
   "metadata": {},
   "source": [
    "Now we have the data loaded into Python as a *numpy* array, and one handy thing you can do is to use Python to find the dimensions of the array. This is done by using \".shape\" as so."
   ]
  },
  {
   "cell_type": "code",
   "execution_count": null,
   "metadata": {
    "collapsed": true
   },
   "outputs": [],
   "source": [
    "timeseriesData.shape"
   ]
  },
  {
   "cell_type": "markdown",
   "metadata": {},
   "source": [
    "In this format, we know that this is a 2x1000 array (two rows, 1000 columns). Another way you can think about this is that you have two 1000-element arrays contained within another array, where each of those arrays are elements (think of it as an array of arrays).\n",
    "\n",
    "The first row is the time stamps when each measurement was taken, while the second row is that of the value of the measurement itself.\n",
    "\n",
    "For ease of handling this data, one can in principle take each of these rows and create new arrays out of them.  Let's do just that."
   ]
  },
  {
   "cell_type": "code",
   "execution_count": null,
   "metadata": {
    "collapsed": true
   },
   "outputs": [],
   "source": [
    "t = timeseriesData[0,:]\n",
    "signal = timeseriesData[1,:]"
   ]
  },
  {
   "cell_type": "markdown",
   "metadata": {},
   "source": [
    "Here, you have 2 dimensions with the array `timeseriesData`, and as such much specify the row first and then the column. So,\n",
    "- `array_name[n,:]` is the n-th row, and all columns within that row.\n",
    "- `array_name[:,n]` is the n-th column, and all rows within that particular column.\n",
    "\n",
    "Now then, let's see what the data looks like using the `plot()` function that you learned last time. Do you remember how to do it? Why don't you try! Plot `t` as your x-axis and `signal` as your y-axis. Don't forget to show your plot. "
   ]
  },
  {
   "cell_type": "code",
   "execution_count": null,
   "metadata": {
    "collapsed": true,
    "scrolled": true
   },
   "outputs": [],
   "source": [
    "#Your code goes here"
   ]
  },
  {
   "cell_type": "markdown",
   "metadata": {},
   "source": [
    "Looking at our data, you see clear spikes that jump well above most of the signal. (I've added this to the data to represent outliers that may sometimes appear when you're messing with raw data, and those must be dealt with). In astronomy, you sometimes have relativistic charged particles, not from your source, that hit the detector known as cosmic rays, and we often have to remove these.\n",
    "\n",
    "There are some very complex codes that handle cosmic rays, but for our purposes (keeping it easy), we're going to just set a hard cut off of, let's say 15.\n",
    "\n",
    "In order to do this, we can use *conditional indexing* in place of normal indices. This involves taking a *conditional statement* (more on those later) and testing whether it evaluates to True on each element in the array.\n",
    "\n",
    "This gives an array of Booleans, which we can use as *logical indices* to select **only** the entries for which the logical statement is True. "
   ]
  },
  {
   "cell_type": "code",
   "execution_count": null,
   "metadata": {
    "collapsed": true
   },
   "outputs": [],
   "source": [
    "cutOff = 15.\n",
    "signalFix = signal[signal < cutOff]"
   ]
  },
  {
   "cell_type": "markdown",
   "metadata": {},
   "source": [
    "In this case, the *conditional statement* that we have used is `signal < cutOff`. \n",
    "\n",
    "Here, *conditional indexing* keeps the data that we have deemed \"good\" by this criteria. We can also do the same for the corresponding time stamps, since `t` and `signal` have the same length. "
   ]
  },
  {
   "cell_type": "code",
   "execution_count": null,
   "metadata": {
    "collapsed": true
   },
   "outputs": [],
   "source": [
    "tFix = t[signal < cutOff]"
   ]
  },
  {
   "cell_type": "markdown",
   "metadata": {},
   "source": [
    "Now let's plot it.  You try."
   ]
  },
  {
   "cell_type": "code",
   "execution_count": null,
   "metadata": {
    "collapsed": true,
    "scrolled": true
   },
   "outputs": [],
   "source": [
    "#Your code goes here"
   ]
  },
  {
   "cell_type": "markdown",
   "metadata": {},
   "source": [
    "Now that you have your data all cleaned up, it would be nice if we could save it for later and not have to go through the process of cleaning it up every time.  Fear not!  Python has you covered.\n",
    "\n",
    "There are two formats that we are going to cover, one that is Python-specific, and the other a simple text format.\n",
    "\n",
    "First, we must package our two cleaned up arrays into one again. This can be done simply with the np.array() function."
   ]
  },
  {
   "cell_type": "code",
   "execution_count": null,
   "metadata": {
    "collapsed": true
   },
   "outputs": [],
   "source": [
    "dataFix = np.array([tFix,signalFix])"
   ]
  },
  {
   "cell_type": "markdown",
   "metadata": {},
   "source": [
    "Then, we can use either the `np.save()` function or the `np.savetxt` function, the first saving the array into a '.npy' file and the other, into a '.txt' file. The syntax is pretty much the same for each."
   ]
  },
  {
   "cell_type": "code",
   "execution_count": null,
   "metadata": {
    "collapsed": true
   },
   "outputs": [],
   "source": [
    "np.save('./lecture2_data/dataFix.npy',dataFix)\n",
    "np.savetxt('./lecture2_data/dataFix.txt',dataFix)"
   ]
  },
  {
   "cell_type": "markdown",
   "metadata": {},
   "source": [
    "Now that your data files are saved, you can load them up again, using `np.loadtxt()` and `np.load()` for .txt and .npy files respectively. We used `np.loadtxt()` above, and np.load works the same way. So, let's load in the .npy file and see if our data was saved correctly."
   ]
  },
  {
   "cell_type": "code",
   "execution_count": null,
   "metadata": {
    "collapsed": true
   },
   "outputs": [],
   "source": [
    "data = np.load('./lecture2_data/dataFix.npy')\n",
    "t = data[0,:]\n",
    "signal = data[1,:]\n",
    "plt.plot(t,signal)\n",
    "plt.show()"
   ]
  },
  {
   "cell_type": "markdown",
   "metadata": {},
   "source": [
    "Now, let's see if you can do the same thing, but with the .txt file that we saved."
   ]
  },
  {
   "cell_type": "code",
   "execution_count": null,
   "metadata": {
    "collapsed": true
   },
   "outputs": [],
   "source": [
    "#Your code goes here"
   ]
  },
  {
   "cell_type": "markdown",
   "metadata": {},
   "source": [
    "Let's combine what we learned about loops to make our data workflow more efficient. Suppose we have a set of data saved in separate text files that we would like to load automatically. In `./lecture2_data/` you will find files `c1.dat`, `c2.dat`, `c3.dat`, `c4.dat`, `c5.dat`, `c6.dat`. Rather than loading each of these files individually, you can use a for (or while) loop, constructing a string at each iteration corresponding to each of these files. In python you can use `+` to concatenate strings together. Here's an example. "
   ]
  },
  {
   "cell_type": "code",
   "execution_count": null,
   "metadata": {},
   "outputs": [],
   "source": [
    "first_string = 'a'\n",
    "second_string = 'b'\n",
    "print(first_string + second_string)"
   ]
  },
  {
   "cell_type": "markdown",
   "metadata": {},
   "source": [
    "You can also cast an integer to a string using the `str` command."
   ]
  },
  {
   "cell_type": "code",
   "execution_count": null,
   "metadata": {},
   "outputs": [],
   "source": [
    "first_string = 'a'\n",
    "second_string = str(1)\n",
    "print(first_string + second_string)"
   ]
  },
  {
   "cell_type": "markdown",
   "metadata": {},
   "source": [
    "Now, write some code to load in this set of 6 .dat files."
   ]
  },
  {
   "cell_type": "code",
   "execution_count": null,
   "metadata": {
    "collapsed": true
   },
   "outputs": [],
   "source": [
    "# Your code here"
   ]
  },
  {
   "cell_type": "markdown",
   "metadata": {},
   "source": [
    "So, to summarize, not only can you manipulate arrays, but now you can save them and load them. In a way, those are some of the most important skills in scientific computing. Almost everything you'll be doing requires you know this, and now that you've mastered it, you're well on your way to being an expert in computational physics and astronomy!"
   ]
  }
 ],
 "metadata": {
  "anaconda-cloud": {},
  "kernelspec": {
   "display_name": "Python [default]",
   "language": "python",
   "name": "python3"
  },
  "language_info": {
   "codemirror_mode": {
    "name": "ipython",
    "version": 3
   },
   "file_extension": ".py",
   "mimetype": "text/x-python",
   "name": "python",
   "nbconvert_exporter": "python",
   "pygments_lexer": "ipython3",
   "version": "3.5.3"
  }
 },
 "nbformat": 4,
 "nbformat_minor": 1
}
