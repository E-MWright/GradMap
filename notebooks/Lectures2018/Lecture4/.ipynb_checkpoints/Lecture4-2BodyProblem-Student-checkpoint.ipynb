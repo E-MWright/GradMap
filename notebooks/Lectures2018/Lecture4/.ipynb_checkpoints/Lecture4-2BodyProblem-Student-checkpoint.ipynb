{
 "cells": [
  {
   "cell_type": "markdown",
   "metadata": {},
   "source": [
    "# Welcome to your first numeric simulation! The 2 Body Problem\n",
    "\n",
    "Many problems in statsical physics and astrophysics requiring solving problems consisting of many particles at once (sometimes on the order of thousands or more!). This can't be done my traditional pen and paper techniques you are all learning in your physics classes. Instead, we must impliment numeric solutions to these problems. This idea one of the core ideas behind numeric simulations!\n",
    "\n",
    "Today, you will create your first of many numeric simulation for a simple problem is that solvable by pen and paper already, the 2 body problem in 2D. In this problem, we will describe the motion between two particles that share a force between them (such as Gravity). We'll design the simulation from an astronomer's mindset with their astronomical units in mind. This simulation will be used to confirm the general motion of the earth around the Sun, and later will be used to predict the motion between two stars within relatively close range.\n",
    "\n",
    "We will guide you through the physics and math required to create this simulation. The problem here is designed to use the knowledge of scientific python you have been developing this week."
   ]
  },
  {
   "cell_type": "markdown",
   "metadata": {},
   "source": [
    "Like any code in python, The first thing we need to do is import the libraries we need. Go ahead and import Numpy and Pyplot below as np and plt respectfully"
   ]
  },
  {
   "cell_type": "code",
   "execution_count": null,
   "metadata": {},
   "outputs": [],
   "source": []
  },
  {
   "cell_type": "markdown",
   "metadata": {},
   "source": [
    "Now we will define the physical constants of our system, which will also establish the unit system we have chosen. We'll use SI units here. Below, I've already created the constants. Make sure you understannd what they are before moving on."
   ]
  },
  {
   "cell_type": "code",
   "execution_count": 3,
   "metadata": {},
   "outputs": [],
   "source": [
    "#Physical Constants (SI units)\n",
    "G=6.67e-11\n",
    "AU=1.5e11 #meters. Distance between sun and earth.\n",
    "daysec=24.0*60*60 #seconds in a day"
   ]
  },
  {
   "cell_type": "markdown",
   "metadata": {},
   "source": [
    "Next, we will need parameters for the simulation. These are known as intial condititons. For a 2 body gravitation problem, we'll need to know the masses of the two objects, the starting posistions of the two objects, and the starting velocities of the two objects. \n",
    "\n",
    "Below, I've included the intial conditions for the earth (a) and the Sun (b) at the average distance from the sun and the average velocity around the sun. We also need a starting time, and ending time for the simulation, and a \"time-step\" for the system. Feel free to adjust all of these as you see fit once you have built the system!\n",
    "\n",
    "\n",
    "\n",
    "\n",
    "A note on dt:\n",
    "As already stated, numeric simulations are approximations. In our case, we are approximating how time flows. We know it flows continious, but the computer cannot work with this. So instead, we break up our time into equal chunks called \"dt\". The smaller the chunks, the mroe accurate you will become, but at the cost of computer time."
   ]
  },
  {
   "cell_type": "code",
   "execution_count": 4,
   "metadata": {},
   "outputs": [],
   "source": [
    "#####run specfic constants. Change as needed#####\n",
    "#Masses in kg\n",
    "Ma=6.0e24 #always set as smaller mass\n",
    "Mb=2.0e30 #always set as larger mass\n",
    "\n",
    "#Time settings\n",
    "t=0.0 #Starting time\n",
    "dt=.01*daysec #Time set for simulation\n",
    "tend=300*daysec #Time where simulation ends\n",
    "\n",
    "#Intial conditions (posistion [m] and velocities [m/s] in x,y,z coorindates)\n",
    "#For Ma\n",
    "xa=1.0*AU\n",
    "ya=0.0\n",
    "\n",
    "vxa=0.0\n",
    "vya=30000.0\n",
    "\n",
    "#For Mb\n",
    "xb=0.0\n",
    "yb=0.0\n",
    "\n",
    "vxb=0.0\n",
    "vyb=0.0"
   ]
  },
  {
   "cell_type": "markdown",
   "metadata": {},
   "source": [
    "It will be nice to create a function for the force between Ma and Mb. Below is the physics for the force of Ma on Mb. How the physics works here is not important for the moment. Right now, I want to make sure you can transfer the math shown into a python function. I'll show a picture on the board the physics behind this math for those interested."
   ]
  },
  {
   "cell_type": "markdown",
   "metadata": {},
   "source": [
    "$$F_g=\\frac{-GM_aM_b}{r^3}\\vec{r}$$\n",
    "and\n",
    "$$\\vec{r}=((x_b-x_a),(y_b-y_a))$$\n",
    "$$r^3=((x_b-x_a)^2+(y_b-y_a)^2)^{3/2}$$\n"
   ]
  },
  {
   "cell_type": "markdown",
   "metadata": {},
   "source": [
    "So, $Fg$ will only need to be a function of xa, xb, ya, and yb. The velocities of the bodies will not be needed. Create a function that calculates the force between the bodies given the posistions of the bodies. My recommendation here will be feed the inputs as seperate componets and also return the force in terms of componets (say, fx and fy). This will make your code easier to make and easier to read."
   ]
  },
  {
   "cell_type": "code",
   "execution_count": 5,
   "metadata": {},
   "outputs": [],
   "source": [
    "#Function to compute the force between the two objects\n",
    "\n"
   ]
  },
  {
   "cell_type": "markdown",
   "metadata": {},
   "source": [
    "Now that we have our function, we need to prepare a loop. "
   ]
  }
 ],
 "metadata": {
  "kernelspec": {
   "display_name": "Python 3",
   "language": "python",
   "name": "python3"
  },
  "language_info": {
   "codemirror_mode": {
    "name": "ipython",
    "version": 3
   },
   "file_extension": ".py",
   "mimetype": "text/x-python",
   "name": "python",
   "nbconvert_exporter": "python",
   "pygments_lexer": "ipython3",
   "version": "3.5.2"
  }
 },
 "nbformat": 4,
 "nbformat_minor": 2
}
