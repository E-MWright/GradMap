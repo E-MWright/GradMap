{
 "cells": [
  {
   "cell_type": "code",
   "execution_count": 1,
   "metadata": {},
   "outputs": [],
   "source": [
    "import numpy as np\n",
    "import matplotlib.pyplot as plt"
   ]
  },
  {
   "cell_type": "code",
   "execution_count": 2,
   "metadata": {},
   "outputs": [],
   "source": [
    "#Physical Constants (SI units)\n",
    "G=6.67e-11\n",
    "AU=1.5e11 #meters. Distance between sun and earth.\n",
    "daysec=24.0*60*60 #seconds in a day"
   ]
  },
  {
   "cell_type": "code",
   "execution_count": 3,
   "metadata": {},
   "outputs": [],
   "source": [
    "#####run specfic constants. Change as needed#####\n",
    "#Masses in kg\n",
    "Ma=6.0e24 #always set as smaller mass\n",
    "Mb=2.0e30 #always set as larger mass\n",
    "\n",
    "#Time settings\n",
    "t=0.0 #Starting time\n",
    "dt=.01*daysec #Time set for simulation\n",
    "tend=300*daysec #Time where simulation ends\n",
    "\n",
    "#Intial conditions (posistion [m] and velocities [m/s] in x,y,z coorindates)\n",
    "#For Ma\n",
    "xa=1.0*AU\n",
    "ya=0.0\n",
    "\n",
    "vxa=0.0\n",
    "vya=30000.0\n",
    "\n",
    "#For Mb\n",
    "xb=0.0\n",
    "yb=0.0\n",
    "\n",
    "vxb=0.0\n",
    "vyb=0.0"
   ]
  },
  {
   "cell_type": "code",
   "execution_count": 4,
   "metadata": {},
   "outputs": [],
   "source": [
    "#Function to compute the force between the two objects\n",
    "def Fg(xa,ya,xb,yb):\n",
    "    #compute r between Ma and Mb\n",
    "    rx=xb-xa\n",
    "    ry=yb-ya\n",
    "    \n",
    "    #compute r^3, remembering r=sqrt(x^2+y^2+z^2)\n",
    "    r3=np.sqrt(rx**2+ry**2)**3\n",
    "    \n",
    "    #computer the force in Newtons for each coorindate\n",
    "    fx=-G*Ma*Mb*rx/r3\n",
    "    fy=-G*Ma*Mb*ry/r3\n",
    "    \n",
    "    return fx,fy"
   ]
  },
  {
   "cell_type": "code",
   "execution_count": 5,
   "metadata": {},
   "outputs": [],
   "source": [
    "#Run a loop for the simulation. Keep track of Ma and Mb posistions and velocites\n",
    "#Intialize vectors\n",
    "xaAr=np.array([])\n",
    "yaAr=np.array([])\n",
    "\n",
    "vxaAr=np.array([])\n",
    "vyaAr=np.array([])\n",
    "\n",
    "xbAr=np.array([])\n",
    "ybAr=np.array([])\n",
    "\n",
    "vxbAr=np.array([])\n",
    "vybAr=np.array([])\n",
    "\n",
    "#using while loop method with appending. Can also be done with for loops\n",
    "while t<tend:\n",
    "    #Compute current force on Ma and Mb. Ma recieves the opposite force of Mb\n",
    "    fx,fy=Fg(xa,ya,xb,yb)\n",
    "    \n",
    "    #Update the velocities and posistions of the particles\n",
    "    vxa=vxa-fx*dt/Ma\n",
    "    vya=vya-fy*dt/Ma\n",
    "    \n",
    "    vxb=vxb+fx*dt/Mb\n",
    "    vyb=vyb+fy*dt/Mb\n",
    "    \n",
    "    xa=xa+vxa*dt\n",
    "    ya=ya+vya*dt\n",
    "    \n",
    "    xb=xb+vxb*dt\n",
    "    yb=yb+vyb*dt\n",
    "    \n",
    "    #Save data to lists\n",
    "    xaAr=np.append(xaAr,xa)\n",
    "    yaAr=np.append(yaAr,ya)\n",
    "    \n",
    "    xbAr=np.append(xbAr,xb)\n",
    "    ybAr=np.append(ybAr,yb)\n",
    "    \n",
    "    #update the time by one time step, dt\n",
    "    t=t+dt\n",
    "    "
   ]
  },
  {
   "cell_type": "code",
   "execution_count": 10,
   "metadata": {},
   "outputs": [
    {
     "data": {
      "image/png": "[encoded data removed]",
      "text/plain": [
       "<matplotlib.figure.Figure at 0x2ccfd2b1ac8>"
      ]
     },
     "metadata": {},
     "output_type": "display_data"
    }
   ],
   "source": [
    "#Plot results\n",
    "plt.figure()\n",
    "plt.plot(xaAr/AU,yaAr/AU,'b')\n",
    "plt.plot(xbAr/AU,ybAr/AU,'y')\n",
    "plt.show()\n"
   ]
  },
  {
   "cell_type": "code",
   "execution_count": null,
   "metadata": {},
   "outputs": [],
   "source": []
  }
 ],
 "metadata": {
  "kernelspec": {
   "display_name": "Python 3",
   "language": "python",
   "name": "python3"
  },
  "language_info": {
   "codemirror_mode": {
    "name": "ipython",
    "version": 3
   },
   "file_extension": ".py",
   "mimetype": "text/x-python",
   "name": "python",
   "nbconvert_exporter": "python",
   "pygments_lexer": "ipython3",
   "version": "3.5.2"
  }
 },
 "nbformat": 4,
 "nbformat_minor": 2
}
