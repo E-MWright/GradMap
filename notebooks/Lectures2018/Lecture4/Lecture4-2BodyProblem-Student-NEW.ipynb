<<<<<<< HEAD
{
 "cells": [
  {
   "cell_type": "markdown",
   "metadata": {},
   "source": [
    "# Welcome to your first numerical simulation! The 2 Body Problem\n",
    "\n",
    "Many problems in statistical physics and astrophysics requiring solving problems consisting of many particles at once (sometimes on the order of thousands or more!). This can't be done by the traditional pen and paper techniques you are all learning in your physics classes. Instead, we must impliment numerical solutions to these problems. \n",
    "\n",
    "Today, you will create your first of many numerical simulation for a simple problem is that solvable by pen and paper already, the 2 body problem in 2D. In this problem, we will describe the motion between two particles that share a force between them (such as Gravity). We'll design the simulation from an astronomer's mindset with their astronomical units in mind. This simulation will be used to confirm the general motion of the earth around the Sun, and later will be used to predict the motion between two stars within relatively close range.\n",
    "<br>\n",
    "<br>\n",
    "<br>\n",
    "We will guide you through the physics and math required to create this simulation. The problem here is designed to use the knowledge of scientific python you have been developing this week."
   ]
  },
  {
   "cell_type": "markdown",
   "metadata": {},
   "source": [
    "Like any code in python, The first thing we need to do is import the libraries we need. Go ahead and import Numpy and Pyplot below as np and plt respectfully. Don't forget to put matplotlib inline to get everything within the notebook."
   ]
  },
  {
   "cell_type": "code",
   "execution_count": null,
   "metadata": {},
   "outputs": [],
   "source": []
  },
  {
   "cell_type": "markdown",
   "metadata": {},
   "source": [
    "Now we will define the physical constants of our system, which will also establish the unit system we have chosen. We'll use SI units here. Below, I've already created the constants. Make sure you understannd what they are before moving on."
   ]
  },
  {
   "cell_type": "code",
   "execution_count": null,
   "metadata": {},
   "outputs": [],
   "source": [
    "#Physical Constants (SI units)\n",
    "G=6.67e-11\n",
    "AU=1.5e11 #meters. Distance between sun and earth.\n",
    "daysec=24.0*60*60 #seconds in a day"
   ]
  },
  {
   "cell_type": "markdown",
   "metadata": {},
   "source": [
    "Next, we will need parameters for the simulation. These are known as intial condititons. For a 2 body gravitation problem, we'll need to know the masses of the two objects, the starting posistions of the two objects, and the starting velocities of the two objects. \n",
    "\n",
    "Below, I've included the intial conditions for the earth (a) and the Sun (b) at the average distance from the sun and the average velocity around the sun. We also need a starting time, and ending time for the simulation, and a \"time-step\" for the system. Feel free to adjust all of these as you see fit once you have built the system!\n",
    "<br>\n",
    "<br>\n",
    "<br>\n",
    "<br>\n",
    "a note on `dt`:\n",
    "As already stated, numeric simulations are approximations. In our case, we are approximating how time flows. We know it flows continious, but the computer cannot work with this. So instead, we break up our time into equal chunks called \"dt\". The smaller the chunks, the mroe accurate you will become, but at the cost of computer time."
   ]
  },
  {
   "cell_type": "code",
   "execution_count": null,
   "metadata": {},
   "outputs": [],
   "source": [
    "#####run specfic constants. Change as needed#####\n",
    "#Masses in kg\n",
    "Ma=6.0e24 #always set as smaller mass\n",
    "Mb=2.0e30 #always set as larger mass\n",
    "\n",
    "#Time settings\n",
    "t=0.0 #Starting time\n",
    "dt=.01*daysec #Time set for simulation\n",
    "tend=300*daysec #Time where simulation ends\n",
    "\n",
    "#Intial conditions (posistion [m] and velocities [m/s] in x,y,z coorindates)\n",
    "#For Ma\n",
    "xa=1.0*AU\n",
    "ya=0.0\n",
    "\n",
    "vxa=0.0\n",
    "vya=30000.0\n",
    "\n",
    "#For Mb\n",
    "xb=0.0\n",
    "yb=0.0\n",
    "\n",
    "vxb=0.0\n",
    "vyb=0.0"
   ]
  },
  {
   "cell_type": "markdown",
   "metadata": {},
   "source": [
    "It will be nice to create a function for the force between Ma and Mb. Below is the physics for the force of Ma on Mb. How the physics works here is not important for the moment. Right now, I want to make sure you can transfer the math shown into a python function. I'll show a picture on the board the physics behind this math for those interested."
   ]
  },
  {
   "cell_type": "markdown",
   "metadata": {},
   "source": [
    "$$\\vec{F_g}=\\frac{-GM_aM_b}{r^3}\\vec{r}$$\n",
    "and\n",
    "- $$\\vec{r}=(x_b-x_a)\\hat{x}+ (y_b-y_a)\\hat{y}$$\n",
    "- $$r^3=((x_b-x_a)^2+(y_b-y_a)^2)^{3/2}$$\n",
    "\n",
    "If we break `Fg` into the x and y componets we get:\n",
    "$$Fx=\\frac{-GM_aM_b}{r^3}x$$\n",
    "$$Fy=\\frac{-GM_aM_b}{r^3}x$$\n",
    "\n"
   ]
  },
  {
   "cell_type": "markdown",
   "metadata": {},
   "source": [
    "<br><br>So, $Fg$ will only need to be a function of `xa`, `xb`, `ya`, and `yb`. The velocities of the bodies will not be needed. Create a function that calculates the force between the bodies given the posistions of the bodies. My recommendation here will be feed the inputs as seperate componets and also return the force in terms of componets (say, `fx` and `fy`). This will make your code easier to make and easier to read."
   ]
  },
  {
   "cell_type": "code",
   "execution_count": null,
   "metadata": {},
   "outputs": [],
   "source": [
    "#Function to compute the force between the two objects\n",
    "def FG(xa,xb,ya,yb):\n",
    "    #Computer rx and ry between Ma and Mb\n",
    "    rx=xb-xa\n",
    "    ry=#Write it in\n",
    "    \n",
    "    #compute r^3\n",
    "    r3=#Write in r^3 using the equation above. Make use of np.sqrt()\n",
    "    \n",
    "    #Compute the force in Newtons. Use the equations above as a Guide!\n",
    "    fx=#Write it in\n",
    "    fy=-#Write it in\n",
    "    \n",
    "    return #What do we return?\n",
    "\n"
   ]
  },
  {
   "cell_type": "markdown",
   "metadata": {},
   "source": [
    "Now that we have our function, we need to prepare a loop. Before we do, we need to intialize the loop and choose a loop type, for or while. Below is the general outline for how each type of loop can gp.\n",
    "<br>\n",
    "<br>\n",
    "<br>\n",
    "For loop:\n",
    "\n",
    "- intialize posistions and velocities arrays with `np.zeros` or `np.linspace` for the amount of steps needed to go through the simulation (which is `numSteps=(tend-t)/dt` the way we have set up the problem). The for loop condition is based off time and should read rough like: `for i in range(numSteps)`\n",
    "<br>\n",
    "<br>\n",
    "<br>\n",
    "While loop:\n",
    "- intialize posistions and velocities arrays with `np.array([])` and use `np.append()` to tact on new values at each step like so, `xaArray=np.append(xaArray,NEWVALUE)`. The while condition should read, `while t<tend`\n",
    "\n",
    "My preference here is While since it keeps my calculations and appending seperate. But, feel free to use which ever feels best for you!"
   ]
  },
  {
   "cell_type": "code",
   "execution_count": null,
   "metadata": {},
   "outputs": [],
   "source": [
    "#Run a loop for the simulation. Keep track of Ma and Mb posistions\n",
    "#Intialize vectors\n",
    "xaAr=np.array([])\n",
    "yaAr=np.array([])\n",
    "\n",
    "xbAr=#Write it in for Particle B\n",
    "ybAr=#Write it in for Particle B"
   ]
  },
  {
   "cell_type": "markdown",
   "metadata": {},
   "source": [
    "Now for the actual simulation. This is the hardest part to code in. The general idea behind our loop is that as we step through time, we calculate the force, then calculate the new velocity, then the new posistion for each particle. At the end, we must update our arrays to reflect the new changes and update the time of the system. The time is super important! If we don't (say in a while loop), the simulation would never end and we would never get our result.\n",
    "\n",
    "# Outline for the loop (order matters here)\n",
    "- Calculate the force with the last known posistions (use your function!)\n",
    "\n",
    "- Calculate the new velocities using the approximation: `vb = vb + dt*fg/Mb` and `va= va - dt*fg/Ma` *Note the minus sign here, and the need to do this for the x and y directions!*\n",
    "\n",
    "- Calculate the new posistions using the approximation: `xb = xb + dt*Vb` (same for a and for y's. No minus problem here)\n",
    "\n",
    "- Update the arrays to reflect our new values\n",
    "\n",
    "- Update the time using `t=t+dt`\n",
    "<br>\n",
    "<br>\n",
    "<br>\n",
    "<br>\n",
    "Now when the loop closes back in, the cycle repeats in a logical way. Go one step at a time when creating this loop and use comments to help guide yourself. Ask for help if it gets tricky!\n"
   ]
  },
  {
   "cell_type": "code",
   "execution_count": null,
   "metadata": {},
   "outputs": [],
   "source": [
    "#Your loop here\n",
    "#using while loop method with appending. Can also be done with for loops\n",
    "while #What is our condition for ending?:\n",
    "\n",
    "    #Compute current force on Ma and Mb. Ma recieves the opposite force of Mb\n",
    "    fx,fy=Fg(xa,ya,xb,yb)\n",
    "    \n",
    "    #Update the velocities and posistions of the particles\n",
    "    vxa=vxa-fx*dt/Ma\n",
    "    vya=#Write it in for y\n",
    "    \n",
    "    vxb=#Write it in\n",
    "    vyb=#Write it in\n",
    "    \n",
    "    xa=xa+vxa*dt\n",
    "    ya=#Wite it in\n",
    "    \n",
    "    xb=#Write it in\n",
    "    yb=#Write it in\n",
    "    \n",
    "    #Save data to lists\n",
    "    xaAr=np.append(xaAr,xa)\n",
    "    yaAr=#How will I save it for yaAr?\n",
    "    \n",
    "    xbAr=np.append(xbAr,xb)\n",
    "    ybAr=np.append(ybAr,yb)\n",
    "    \n",
    "    #update the time by one time step, dt\n",
    "    #How do I update  the time?\n"
   ]
  },
  {
   "cell_type": "markdown",
   "metadata": {},
   "source": [
    "Now for the fun part (or not so fun part if your simulation had an issue), plot your results! This is something well covered in previous lectures. Show me a plot of (xa,ya) and (xb,yb). Does it look sort of familiar? Hopfully you get something like the below image (in units of AU)."
   ]
  },
  {
   "cell_type": "code",
   "execution_count": null,
   "metadata": {},
   "outputs": [],
   "source": [
    "from IPython.display import Image\n",
    "Image(\"Earth-Sun-averageResult.jpg\")"
   ]
  },
  {
   "cell_type": "code",
   "execution_count": null,
   "metadata": {},
   "outputs": [],
   "source": [
    "#Your plot here\n",
    "plt.plot(#Particle A plot\n",
    "plt.plot(#Partcile B plot\n"
   ]
  },
  {
   "cell_type": "markdown",
   "metadata": {},
   "source": [
    " Now that the code is made, the fun can begin! This is where the code stops and the science begins. Start experimenting with different sinarios. Here are some ideas to get you started:\n",
    "<br>\n",
    "<br>\n",
    "-We just ran for the average distance and average speed around the sun for more then a year but we didn't complete the oribit. Why? Let's try and look up the maximum speed and smallest distance (or the opposite) and run that for the same time? Do we complete the orbit now? Why or why not?\n",
    "<br>\n",
    "<br>\n",
    "-Let's do a binary star system. Let's do one Sun and one star that is 2 times larger. Set one at the origin and one at 1AU away. Try different starting speeds of one of the stars. When do you get a repeating pattern? How does that pattern change with speed?"
   ]
  },
  {
   "cell_type": "code",
   "execution_count": null,
   "metadata": {},
   "outputs": [],
   "source": []
  }
 ],
 "metadata": {
  "kernelspec": {
   "display_name": "Python 3",
   "language": "python",
   "name": "python3"
  },
  "language_info": {
   "codemirror_mode": {
    "name": "ipython",
    "version": 3
   },
   "file_extension": ".py",
   "mimetype": "text/x-python",
   "name": "python",
   "nbconvert_exporter": "python",
   "pygments_lexer": "ipython3",
   "version": "3.5.2"
  }
 },
 "nbformat": 4,
 "nbformat_minor": 2
}
=======
{
 "cells": [
  {
   "cell_type": "markdown",
   "metadata": {},
   "source": [
    "# Welcome to your first numerical simulation! The 2 Body Problem\n",
    "\n",
    "Many problems in statistical physics and astrophysics requiring solving problems consisting of many particles at once (sometimes on the order of thousands or more!). This can't be done by the traditional pen and paper techniques you are all learning in your physics classes. Instead, we must impliment numerical solutions to these problems. \n",
    "\n",
    "Today, you will create your first of many numerical simulation for a simple problem is that solvable by pen and paper already, the 2 body problem in 2D. In this problem, we will describe the motion between two particles that share a force between them (such as Gravity). We'll design the simulation from an astronomer's mindset with their astronomical units in mind. This simulation will be used to confirm the general motion of the earth around the Sun, and later will be used to predict the motion between two stars within relatively close range.\n",
    "<br>\n",
    "<br>\n",
    "<br>\n",
    "We will guide you through the physics and math required to create this simulation. The problem here is designed to use the knowledge of scientific python you have been developing this week."
   ]
  },
  {
   "cell_type": "markdown",
   "metadata": {},
   "source": [
    "Like any code in python, The first thing we need to do is import the libraries we need. Go ahead and import Numpy and Pyplot below as np and plt respectfully. Don't forget to put matplotlib inline to get everything within the notebook."
   ]
  },
  {
   "cell_type": "code",
   "execution_count": null,
   "metadata": {},
   "outputs": [],
   "source": []
  },
  {
   "cell_type": "markdown",
   "metadata": {},
   "source": [
    "Now we will define the physical constants of our system, which will also establish the unit system we have chosen. We'll use SI units here. Below, I've already created the constants. Make sure you understannd what they are before moving on."
   ]
  },
  {
   "cell_type": "code",
   "execution_count": null,
   "metadata": {},
   "outputs": [],
   "source": [
    "#Physical Constants (SI units)\n",
    "G=6.67e-11\n",
    "AU=1.5e11 #meters. Distance between sun and earth.\n",
    "daysec=24.0*60*60 #seconds in a day"
   ]
  },
  {
   "cell_type": "markdown",
   "metadata": {},
   "source": [
    "Next, we will need parameters for the simulation. These are known as intial condititons. For a 2 body gravitation problem, we'll need to know the masses of the two objects, the starting posistions of the two objects, and the starting velocities of the two objects. \n",
    "\n",
    "Below, I've included the intial conditions for the earth (a) and the Sun (b) at the average distance from the sun and the average velocity around the sun. We also need a starting time, and ending time for the simulation, and a \"time-step\" for the system. Feel free to adjust all of these as you see fit once you have built the system!\n",
    "<br>\n",
    "<br>\n",
    "<br>\n",
    "<br>\n",
    "a note on `dt`:\n",
    "As already stated, numeric simulations are approximations. In our case, we are approximating how time flows. We know it flows continious, but the computer cannot work with this. So instead, we break up our time into equal chunks called \"dt\". The smaller the chunks, the mroe accurate you will become, but at the cost of computer time."
   ]
  },
  {
   "cell_type": "code",
   "execution_count": null,
   "metadata": {},
   "outputs": [],
   "source": [
    "#####run specfic constants. Change as needed#####\n",
    "#Masses in kg\n",
    "Ma=6.0e24 #always set as smaller mass\n",
    "Mb=2.0e30 #always set as larger mass\n",
    "\n",
    "#Time settings\n",
    "t=0.0 #Starting time\n",
    "dt=.01*daysec #Time set for simulation\n",
    "tend=300*daysec #Time where simulation ends\n",
    "\n",
    "#Intial conditions (posistion [m] and velocities [m/s] in x,y,z coorindates)\n",
    "#For Ma\n",
    "xa=1.0*AU\n",
    "ya=0.0\n",
    "\n",
    "vxa=0.0\n",
    "vya=30000.0\n",
    "\n",
    "#For Mb\n",
    "xb=0.0\n",
    "yb=0.0\n",
    "\n",
    "vxb=0.0\n",
    "vyb=0.0"
   ]
  },
  {
   "cell_type": "markdown",
   "metadata": {},
   "source": [
    "It will be nice to create a function for the force between Ma and Mb. Below is the physics for the force of Ma on Mb. How the physics works here is not important for the moment. Right now, I want to make sure you can transfer the math shown into a python function. I'll show a picture on the board the physics behind this math for those interested."
   ]
  },
  {
   "cell_type": "markdown",
   "metadata": {},
   "source": [
    "$$\\vec{F_g}=\\frac{-GM_aM_b}{r^3}\\vec{r}$$\n",
    "and\n",
    "- $$\\vec{r}=(x_b-x_a)\\hat{x}+ (y_b-y_a)\\hat{y}$$\n",
    "- $$r^3=((x_b-x_a)^2+(y_b-y_a)^2)^{3/2}$$\n",
    "\n",
    "If we break `Fg` into the x and y componets we get:\n",
    "$$Fx=\\frac{-GM_aM_b}{r^3}x$$\n",
    "$$Fy=\\frac{-GM_aM_b}{r^3}x$$\n",
    "\n"
   ]
  },
  {
   "cell_type": "markdown",
   "metadata": {},
   "source": [
    "<br><br>So, $Fg$ will only need to be a function of `xa`, `xb`, `ya`, and `yb`. The velocities of the bodies will not be needed. Create a function that calculates the force between the bodies given the posistions of the bodies. My recommendation here will be feed the inputs as seperate componets and also return the force in terms of componets (say, `fx` and `fy`). This will make your code easier to make and easier to read."
   ]
  },
  {
   "cell_type": "code",
   "execution_count": null,
   "metadata": {},
   "outputs": [],
   "source": [
    "#Function to compute the force between the two objects\n",
    "def FG(xa,xb,ya,yb):\n",
    "    #Computer rx and ry between Ma and Mb\n",
    "    rx=xb-xa\n",
    "    ry=#Write it in\n",
    "    \n",
    "    #compute r^3\n",
    "    r3=#Write in r^3 using the equation above. Make use of np.sqrt()\n",
    "    \n",
    "    #Compute the force in Newtons. Use the equations above as a Guide!\n",
    "    fx=#Write it in\n",
    "    fy=-#Write it in\n",
    "    \n",
    "    return #What do we return?\n",
    "\n"
   ]
  },
  {
   "cell_type": "markdown",
   "metadata": {},
   "source": [
    "Now that we have our function, we need to prepare a loop. Before we do, we need to intialize the loop and choose a loop type, for or while. Below is the general outline for how each type of loop can gp.\n",
    "<br>\n",
    "<br>\n",
    "<br>\n",
    "For loop:\n",
    "\n",
    "- intialize posistions and velocities arrays with `np.zeros` or `np.linspace` for the amount of steps needed to go through the simulation (which is `numSteps=(tend-t)/dt` the way we have set up the problem). The for loop condition is based off time and should read rough like: `for i in range(numSteps)`\n",
    "<br>\n",
    "<br>\n",
    "<br>\n",
    "While loop:\n",
    "- intialize posistions and velocities arrays with `np.array([])` and use `np.append()` to tact on new values at each step like so, `xaArray=np.append(xaArray,NEWVALUE)`. The while condition should read, `while t<tend`\n",
    "\n",
    "My preference here is While since it keeps my calculations and appending seperate. But, feel free to use which ever feels best for you!"
   ]
  },
  {
   "cell_type": "code",
   "execution_count": null,
   "metadata": {},
   "outputs": [],
   "source": [
    "#Run a loop for the simulation. Keep track of Ma and Mb posistions\n",
    "#Intialize vectors\n",
    "xaAr=np.array([])\n",
    "yaAr=np.array([])\n",
    "\n",
    "xbAr=#Write it in for Particle B\n",
    "ybAr=#Write it in for Particle B"
   ]
  },
  {
   "cell_type": "markdown",
   "metadata": {},
   "source": [
    "Now for the actual simulation. This is the hardest part to code in. The general idea behind our loop is that as we step through time, we calculate the force, then calculate the new velocity, then the new posistion for each particle. At the end, we must update our arrays to reflect the new changes and update the time of the system. The time is super important! If we don't (say in a while loop), the simulation would never end and we would never get our result.\n",
    "\n",
    "# Outline for the loop (order matters here)\n",
    "- Calculate the force with the last known posistions (use your function!)\n",
    "\n",
    "- Calculate the new velocities using the approximation: `vb = vb + dt*fg/Mb` and `va= va - dt*fg/Ma` *Note the minus sign here, and the need to do this for the x and y directions!*\n",
    "\n",
    "- Calculate the new posistions using the approximation: `xb = xb + dt*Vb` (same for a and for y's. No minus problem here)\n",
    "\n",
    "- Update the arrays to reflect our new values\n",
    "\n",
    "- Update the time using `t=t+dt`\n",
    "<br>\n",
    "<br>\n",
    "<br>\n",
    "<br>\n",
    "Now when the loop closes back in, the cycle repeats in a logical way. Go one step at a time when creating this loop and use comments to help guide yourself. Ask for help if it gets tricky!\n"
   ]
  },
  {
   "cell_type": "code",
   "execution_count": null,
   "metadata": {},
   "outputs": [],
   "source": [
    "#Your loop here\n",
    "#using while loop method with appending. Can also be done with for loops\n",
    "while #What is our condition for ending?:\n",
    "\n",
    "    #Compute current force on Ma and Mb. Ma recieves the opposite force of Mb\n",
    "    fx,fy=Fg(xa,ya,xb,yb)\n",
    "    \n",
    "    #Update the velocities and posistions of the particles\n",
    "    vxa=vxa-fx*dt/Ma\n",
    "    vya=#Write it in for y\n",
    "    \n",
    "    vxb=#Write it in\n",
    "    vyb=#Write it in\n",
    "    \n",
    "    xa=xa+vxa*dt\n",
    "    ya=#Wite it in\n",
    "    \n",
    "    xb=#Write it in\n",
    "    yb=#Write it in\n",
    "    \n",
    "    #Save data to lists\n",
    "    xaAr=np.append(xaAr,xa)\n",
    "    yaAr=#How will I save it for yaAr?\n",
    "    \n",
    "    xbAr=np.append(xbAr,xb)\n",
    "    ybAr=np.append(ybAr,yb)\n",
    "    \n",
    "    #update the time by one time step, dt\n",
    "    #How do I update  the time?\n"
   ]
  },
  {
   "cell_type": "markdown",
   "metadata": {},
   "source": [
    "Now for the fun part (or not so fun part if your simulation had an issue), plot your results! This is something well covered in previous lectures. Show me a plot of (xa,ya) and (xb,yb). Does it look sort of familiar? Hopfully you get something like the below image (in units of AU)."
   ]
  },
  {
   "cell_type": "code",
   "execution_count": null,
   "metadata": {},
   "outputs": [],
   "source": [
    "from IPython.display import Image\n",
    "Image(\"Earth-Sun-averageResult.jpg\")"
   ]
  },
  {
   "cell_type": "code",
   "execution_count": null,
   "metadata": {},
   "outputs": [],
   "source": [
    "#Your plot here\n",
    "plt.plot(#Particle A plot\n",
    "plt.plot(#Partcile B plot\n"
   ]
  },
  {
   "cell_type": "markdown",
   "metadata": {},
   "source": [
    " Now that the code is made, the fun can begin! This is where the code stops and the science begins. Start experimenting with different sinarios. Here are some ideas to get you started:\n",
    "<br>\n",
    "<br>\n",
    "-We just ran for the average distance and average speed around the sun for more then a year but we didn't complete the oribit. Why? Let's try and look up the maximum speed and smallest distance (or the opposite) and run that for the same time? Do we complete the orbit now? Why or why not?\n",
    "<br>\n",
    "<br>\n",
    "-Let's do a binary star system. Let's do one Sun and one star that is 2 times larger. Set one at the origin and one at 1AU away. Try different starting speeds of one of the stars. When do you get a repeating pattern? How does that pattern change with speed?"
   ]
  },
  {
   "cell_type": "code",
   "execution_count": null,
   "metadata": {},
   "outputs": [],
   "source": []
  }
 ],
 "metadata": {
  "kernelspec": {
   "display_name": "Python 3",
   "language": "python",
   "name": "python3"
  },
  "language_info": {
   "codemirror_mode": {
    "name": "ipython",
    "version": 3
   },
   "file_extension": ".py",
   "mimetype": "text/x-python",
   "name": "python",
   "nbconvert_exporter": "python",
   "pygments_lexer": "ipython3",
   "version": "3.5.2"
  }
 },
 "nbformat": 4,
 "nbformat_minor": 2
}
>>>>>>> e7c7a5742d56dc3207e8072430ab7b7b787dc95d
