{
 "cells": [
  {
   "cell_type": "markdown",
   "metadata": {
    "collapsed": true
   },
   "source": [
    "# Gaussians\n",
    "\n",
    "You just learned a little about what a Gaussian distribution looks like. As a reminder, a Gaussian curve is sometimes called a bell curve because the shape looks like a bell.\n",
    "\n",
    "To review, the equation for the Gaussian curve is the following:\n",
    "\n",
    "$f(x) = \\frac{1}{\\sqrt{2\\pi\\sigma^2}}e^{\\frac{-(x-\\mu)^2}{2\\sigma^2}}$\n",
    "\n",
    "where $\\mu$ is the mean and $\\sigma$ is the standard deviation. \n",
    "\n",
    "The standard normal distribution, where $\\mu=0$ and $\\sigma=1$, is selected for by calling `np.random.randn()`.\n",
    "\n",
    "You're probably wondering why Gaussian, a.k.a. normal, distributions are so important. The reason is that the distributions of many things follow a normal distribution -- such as the heights of people, manufactured parts, blood pressure readings, and error measurements -- making it important to understand.\n",
    "\n",
    "There are specific metrics that describe a normal distribution.\n",
    "\n",
    "1) The mean, median, and mode of a Gaussian distribution are all the same.\n",
    "2) There is symmetry about the mean, as in 50% of the values fall to the right of the mean and the other 50% fall to the left.\n",
    "3) A certain amount of data falls within integer multiples of the standard deviation, as shown below.\n",
    "\n",
    "![stdevs](Data/Gaiss_std.JPG)\n",
    "\n",
    "Does the lifetimes data we plotted earlier hold up to these three criteria? Let's find out.\n",
    "\n",
    "Remember, the lifetimes data was imported as the variable `lifetimes` before."
   ]
  },
  {
   "cell_type": "code",
   "execution_count": null,
   "metadata": {
    "collapsed": true
   },
   "outputs": [],
   "source": [
    "lifemean = np.mean(lifetimes) #get mean\n",
    "lifestd = np.std(lifetimes) #get standard deviation"
   ]
  },
  {
   "cell_type": "markdown",
   "metadata": {
    "collapsed": true
   },
   "source": [
    "# Let's examine the first criterion: the mean, median, and mode of a Gaussian distribution are all the same.\n",
    "\n",
    "To calculate the `mode`, we need to import another module called the `stats` module. The median can still be calculated from the `numpy` module."
   ]
  },
  {
   "cell_type": "code",
   "execution_count": null,
   "metadata": {
    "collapsed": true
   },
   "outputs": [],
   "source": [
    "#import stats module\n",
    "from scipy import stats"
   ]
  },
  {
   "cell_type": "markdown",
   "metadata": {},
   "source": [
    "Now calculate the median and mode of the variable `lifetimes` and display them."
   ]
  },
  {
   "cell_type": "code",
   "execution_count": null,
   "metadata": {
    "collapsed": true
   },
   "outputs": [],
   "source": [
    "#Put your code here"
   ]
  },
  {
   "cell_type": "markdown",
   "metadata": {
    "collapsed": true
   },
   "source": [
    "Does the `lifetimes` data fulfill the first criterion of a Gaussian distribution?"
   ]
  },
  {
   "cell_type": "markdown",
   "metadata": {},
   "source": [
    "# Now let's check the second criterion. Is there symmetry about the mean?\n",
    "\n",
    "First, let's find out how many samples are in the variable `lifetimes` and display it."
   ]
  },
  {
   "cell_type": "code",
   "execution_count": null,
   "metadata": {
    "collapsed": true
   },
   "outputs": [],
   "source": [
    "#Put your code here"
   ]
  },
  {
   "cell_type": "markdown",
   "metadata": {
    "collapsed": true
   },
   "source": [
    "Now that you have the number of samples, you will need to use the median value to find out how many samples lie above and below it. "
   ]
  },
  {
   "cell_type": "code",
   "execution_count": null,
   "metadata": {
    "collapsed": true
   },
   "outputs": [],
   "source": [
    "#Put your code here"
   ]
  },
  {
   "cell_type": "markdown",
   "metadata": {
    "collapsed": true
   },
   "source": [
    "Does the `lifetimes` data fulfill the second criterion of a Gaussian distribution?"
   ]
  },
  {
   "cell_type": "markdown",
   "metadata": {},
   "source": [
    "# Now let's check the last criterion. How much data falls within a standard deviation or two (or three)?\n",
    "\n",
    "Remember, you already calculated the standard deviation of the lifetimes data as the variable `lifestd`."
   ]
  },
  {
   "cell_type": "code",
   "execution_count": null,
   "metadata": {
    "collapsed": true
   },
   "outputs": [],
   "source": [
    "#Put your code here"
   ]
  },
  {
   "cell_type": "markdown",
   "metadata": {},
   "source": [
    "Does the `lifetimes` data fulfill the third criterion of a Gaussian distribution?"
   ]
  }
 ],
 "metadata": {
  "kernelspec": {
   "display_name": "Python 3",
   "language": "python",
   "name": "python3"
  },
  "language_info": {
   "codemirror_mode": {
    "name": "ipython",
    "version": 3
   },
   "file_extension": ".py",
   "mimetype": "text/x-python",
   "name": "python",
   "nbconvert_exporter": "python",
   "pygments_lexer": "ipython3",
   "version": "3.5.2"
  }
 },
 "nbformat": 4,
 "nbformat_minor": 2
}
