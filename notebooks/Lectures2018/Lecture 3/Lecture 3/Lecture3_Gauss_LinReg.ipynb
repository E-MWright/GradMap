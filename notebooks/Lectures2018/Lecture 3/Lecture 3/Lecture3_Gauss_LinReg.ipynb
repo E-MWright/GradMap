
{
 {
   "cell_type": "markdown",
   "metadata": {},
   "source": [
    "# Gaussians\n",
    "\n",
    "Documentation: https://docs.scipy.org/doc/scipy-0.14.0/reference/generated/scipy.stats.linregress.html\n",
    "\n",
    "When analyzing experimental data, we frequently would like to be able to fit theoretical models to match our results. You might have already used linear regression in a previous science course (In Excel, this is done with the LINEST function) The simplest case of that is fitting a straight line to a collection of data. This is done through a method known as linear regression. Since we don't have time to teach an entire statistics course, we will say that linear regression minimizes the total distance between each data point and best-fit line. \n",
    "\n",
    "First, lets load a set of data and plot it to see how it looks"
   ]
  },
 {
   "cell_type": "markdown",
   "metadata": {},
   "source": [
    "The normal distribution selects random numbers from a Gaussian curve (sometimes called a bell curve), which is given by\n",
    "\n",
    "$f(x) = \\frac{1}{\\sqrt{2\\pi\\sigma^2}}e^{\\frac{-(x-\\mu)^2}{2\\sigma^2}}$\n",
    "\n",
    "where $\\mu$ is the mean and $\\sigma$ is the standard deviation. \n",
    "\n",
    "(FYI: don't panic if this part is confusing right now, we're going to explore the Gaussian more in just a bit)\n",
    "\n",
    "np.random.randn selects numbers from this standard normal distribution, which is the gaussian for $\\mu=0$ and $\\sigma=1$. It takes a shape argument just like rand does\n"
   ]
  },
 
 {
   "cell_type": "code",
   "execution_count": 10,
   "metadata": {
    "collapsed": false
   },
   "outputs": [
    {
     "data": {
      "image/png": "iVBORw0KGgoAAAANSUhEUgAAAg4AAAFkCAYAAABIPLOYAAAABHNCSVQICAgIfAhkiAAAAAlwSFlz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\ns8EY9qt5AAAAAElFTkSuQmCC\n",
      "text/plain": [
       "<matplotlib.figure.Figure at 0x20743600e80>"
      ]
     },
     "metadata": {},
     "output_type": "display_data"
    }
   ],
   "source": [
    "mu = 6 #the mean of the distribution\n",
    "sigma = 5 #the standard deviation\n",
    "\n",
    "X = sigma * np.random.randn(5000) + mu\n",
    "N,bins,patches = plt.hist(X,bins=50)"
   ]
  },
  {
   "cell_type": "markdown",
   "metadata": {},
   "source": [
    "Vary the values of mu and sigma in the above code to see how the mean affects the center of the distribution and the standard deviation affects the width.\n",
    "\n",
    "Numpy also gives us the ability to calculate the mean and standard deviation of a distribution"
   ]
  },
{
   "cell_type": "code",
   "execution_count": null,
   "metadata": {
    "collapsed": false
   },
   "outputs": [],
   "source": [
    "mean = np.mean(X)\n",
    "std = np.std(X)\n",
    "print('mean: '+ repr(mean) )\n",
    "print('standard deviation: ' + repr(std))"
   ]
  }

# * * *
# * * *
# add more to Gaussian section here!
# * * *
# * * *

 {
   "cell_type": "markdown",
   "metadata": {},
   "source": [
    "# Linear Regression\n",
    "\n",
    "Documentation: https://docs.scipy.org/doc/scipy-0.14.0/reference/generated/scipy.stats.linregress.html\n",
    "\n",
    "When analyzing experimental data, we frequently would like to be able to fit theoretical models to match our results. You might have already used linear regression in a previous science course (In Excel, this is done with the LINEST function) The simplest case of that is fitting a straight line to a collection of data. This is done through a method known as linear regression. Since we don't have time to teach an entire statistics course, we will say that linear regression minimizes the total distance between each data point and best-fit line. \n",
    "\n",
    "First, lets load a set of data and plot it to see how it looks"
   ]
  },
  {
   "cell_type": "code",
   "execution_count": null,
   "metadata": {
    "collapsed": false
   },
   "outputs": [],
   "source": [
    "data = np.loadtxt('Data/scatter1.txt')\n",
    "plt.plot(data[:,0],data[:,1],'ko')"
   ]
  },
  {
   "cell_type": "markdown",
   "metadata": {},
   "source": [
    "Looking at the data gives us a pretty good idea that there is a linear relationship between the two variables. Now, we're gonna use `linregress` from the `scipy.stats` module to do a linear fit"
   ]
  },
  {
   "cell_type": "code",
   "execution_count": null,
   "metadata": {
    "collapsed": false
   },
   "outputs": [],
   "source": [
    "from scipy import stats\n",
    "slope, intercept, r_value, p_value, std_err = stats.linregress(data[:,0],data[:,1])\n",
    "print(\"slope: \"+repr(slope))\n",
    "print(\"intercept: \"+repr(intercept))\n",
    "print(\"R squared: \"+repr(r_value**2))"
   ]
  },
  {
   "cell_type": "markdown",
   "metadata": {},
   "source": [
    "`stats.linregress` gives us quite a few pieces of output! First, it gives us the slope, $m$, and the intercept, $b$, for the best fit line (remember $y = mx +b$) It also gives us the $R^2$ value, which gives a general sense of the strength of the linear relationship between the x and y variables. $R^2$ varies between the values 0 and 1, with 1 indicating complete linearity and 0 indicating no linearity. Often, we will us $R^2$ to determine if a fit is \"good\", but we should always be careful when using statistics...\n",
    "\n",
    "Now, lets go ahead and replot the scatter1.txt data from above, but then overlay the line of best fit using the slope and intercept from above"
   ]
  },
  {
   "cell_type": "code",
   "execution_count": null,
   "metadata": {
    "collapsed": false
   },
   "outputs": [],
   "source": [
    "#Your Code Here\n"
   ]
  },
  {
   "cell_type": "markdown",
   "metadata": {},
   "source": [
    "When you're done, you should have a plot like this:\n",
    "![scatter plot](Data/scatter1-fit.png)"
   ]
  },
  {
   "cell_type": "markdown",
   "metadata": {
    "collapsed": true
   },
   "source": [
    "# Non-linear Fitting: Experiment to Models\n",
    "Now we will try a Non-linear fit to some real data! Typically, most things measuered in labs will be non-linear in nature, and will require built-in computer algorithms if we hope to fit our models to data. \n",
    "\n",
    "In this example, we will be taking data from a real lab and fitting it to a model in order to learn more about the physical system being examine! Here, we have data from a classical muclear physics experiment in gamma spectropscy. Sometimes, atoms can be created in unstable, excited configurations, which will cause them to relax to a more stable states. Physically, this is achieved through the sheding of mass and energy (light and particles), also known as ionizing radiation. One such type are Gamma-rays, light with wavelengths on the order of picometers and below, or 100 keV energy and above.\n",
    "\n",
    "In our lab, $^{133}Ba$ had it's gamma spectrum observed with intensity as a function of photon (or light) energy. Theory predicts that $^{133}Ba$ decays into $^{133}Cs$ through many different channels (http://www.cas.miamioh.edu/~jaegerh/phy293/questions/image007.png), all close in energy. Let's take our data from the lab and plot it to see what our spectrum looks like."
   ]
  },
  {
   "cell_type": "code",
   "execution_count": 1,
   "metadata": {
    "collapsed": true
   },
   "outputs": [],
   "source": [
    "#Open up data file, 'Ba133Peaks.txt', using np.loadtxt('Ba133Peaks.txt'). You will need columns 1 and 2\n",
    "#which contain energy and intensity respectively. Go ahead \n",
    "#and plot intensity vs energy. Don't forget some labels!\n",
    "#And try to plot it as points, not lines \n",
    "\n",
    "#Energy in units keV or (kilo-electron volts)\n",
    "#Intensity is measured in counts recorded at the detector (just use counts as your units)"
   ]
  },
  {
   "cell_type": "markdown",
   "metadata": {},
   "source": [
    "The data doesn't look like any fundamental function we know of right off the bat. This will require us to create our own model of the data if we hope to get any useful information out of this. As stated, $^{133}Ba$ has many decay modes within this range in energy, so it's no wonder the data looks like a mess! We can clearly see some sort of intensity peak of one of the stronger modes at around 320 keV and some smaller modes at around 270 keV and 400 keV. There also appears to be a sloped background (caused by scattering within the detector). Due to the tightly spaced nature of the decay modes, the peaks have overlapped, making it hard to idenify exact positions, numbers of peaks, and relative intensities of each mode. There could even be smaller modes hiding within that we cannot imediately see the effects of by eye!\n",
    "\n",
    "Our final goal for this class will be to create a model to fit to this data, that when complete, will clue us in to possible decay modes present in our data.\n",
    "\n",
    "Let's start with creating a *new* Guassian (or Normal) function, common to many spectra for describing their intensity as a function of energy. Here is the formula we will use for an unnormilized Guassian:\n",
    "\n",
    "$G(x;A,\\sigma,x_0)=Ae^{-\\frac{(x-x_0)^2}{2\\sigma^2}}$\n",
    "\n",
    "Where x is the coordinate (in this case, energy)\n",
    "\n",
    "A is the height of the curve, or unnormalized amplitude\n",
    "\n",
    "$x_0$ is the center of the peak\n",
    "\n",
    "$\\sigma$ is the \"standard diviation\" of the peak (for now, take it as a measure of width)"
   ]
  },
  {
   "cell_type": "code",
   "execution_count": 2,
   "metadata": {
    "collapsed": true
   },
   "outputs": [],
   "source": [
    "#Create a defintion for the Guassian. Make sure the name does not overlap with guassian you made earlier!"
   ]
  },
  {
   "cell_type": "markdown",
   "metadata": {},
   "source": [
    "Now test to make sure we have the right function. Here is a sample np array of values for x between -20 and 20. Try plotting G with (x,5,2,3) and (x,1,2,1), with the notation of inputs here matching those above in the definition. Then plot their sums. Does this funky sort of shape look familiar? What do you think would happen if we added more of them? Feel free to play around with the number of guassians and their parameters. Watch how the individual peaks work to change the shape presented here."
   ]
  },
  {
   "cell_type": "code",
   "execution_count": 6,
   "metadata": {
    "collapsed": false
   },
   "outputs": [],
   "source": [
    "#Test your function here by plotting a continous-looking curve. Use the array given here as 'x' as your indepdent variable for\n",
    "#your new Guassian function\n",
    "\n",
    "#make two plots if you can: one for the two curves seperate (sharing the same 'x'), the other with the two added. Note how the \n",
    "#shape can change. If you want, try adding more guassians to change the shape more.\n",
    "x=np.linspace(-20,20,300)"
   ]
  },
  {
   "cell_type": "markdown",
   "metadata": {},
   "source": [
    "So it seems we can model our data efficently by using a sum of different Guassians, one for each decay mode, plus a sloped background from the detector. Create a new function for a sloped background (B(x;a,b)) and a final function to describe all the peaks, plus background, (let's call it Peaks(x;...)). The structure, in math, should be:\n",
    "\n",
    "$B(x;a,b)=ax+b$ .... this is just your general equation for a line from algebra class\n",
    "\n",
    "$Peaks(x;A_1,x_1,\\sigma_1,...,A_4,x_4,\\sigma_4,a,b)=G_1(x;A_1,x_1,\\sigma_1)+...+G_4(x;A_4,x_4,\\sigma_4)+B(x;a,b)$ ......4 peaks plus a background"
   ]
  },
  {
   "cell_type": "code",
   "execution_count": 7,
   "metadata": {
    "collapsed": true
   },
   "outputs": [],
   "source": [
    "#Define your new functions here in terms of your new guassian function. No need to rewrite the definition. You already have it!"
   ]
  },
  {
   "cell_type": "markdown",
   "metadata": {},
   "source": [
    "Now we will use the function, curve_fit from scipy.optimize (imported as so.curve_fit). Here is the webpage for the function: https://docs.scipy.org/doc/scipy-0.18.1/reference/generated/scipy.optimize.curve_fit.html\n",
    "\n",
    "Study these imputs and you'll notice the function requires you to guess inputs. This uses the a non-linear, least-squares method to fit the data. Without getting bogged down in details, this is a good *local fitter* in that, if you are way off base with your guessing parameters, you will most likely not get the right answer. This type of fitter is easy to use, but can be finicky with the answers, due to it's local nature. There are other fitting algorithms which are good golbally (such as simulated annealing) so be on the look out for them in the future if fitting becomes combersome. \n",
    "\n",
    "# Steps for using curve_fit\n",
    "\n",
    "Here is the basic outline on how to use curve_fit. As this is the last section, you will mostly be on your own. Try your best with new skills you have learned here and feel free to ask for help!\n",
    "\n",
    "1.) Make sure you have your data ready, both depedent and independent (x and y). Make sure they are the same length!\n",
    "\n",
    "2.) Now make an array of your guessed parameters. Call it Pguess=array([...]). Each entry for each parameter (after x) in the Peaks definition IN ORDER. Try not to be too lazy with your guesses, they matter for finding the right answer. Here are my recommendations for approximate locations of the peaks:\n",
    "\n",
    "x1=260 keV (medium peak)\n",
    "\n",
    "x2=310 keV (tall peak)\n",
    "\n",
    "x3=340 keV (medium peak)\n",
    "\n",
    "x4=400 keV (small peak)\n",
    "\n",
    "3.) Use curve_fit and point the output to an array Pfit, and Perror. These are the fitted parameters and their estimated errors. The code line should look like: Pfit,Perror=so.curve_fit(Peaks,Energy,Intensity,p0=Pguess)\n",
    "\n",
    "4.) re-enter the Pfit parameters into Peaks to create a new fit function (yfit). Define a new array (xfit) of thinly spaced values over your range to get a continuous looking array for yfit.\n",
    "\n",
    "5.) plot your data, your fitted function, and (maybe) your guess function to see how you did. Make sure your seperate your colors so you know the difference between data, fit, and (maybe) guess. How did you do? If you aren't happy, try new parameters and re-run the cell! "
   ]
  },
  {
   "cell_type": "code",
   "execution_count": 8,
   "metadata": {
    "collapsed": true
   },
   "outputs": [],
   "source": [
    "import scipy.optimize as so #new functions needed for this section. Shift enter to grab the library."
   ]
  },
  {
   "cell_type": "code",
   "execution_count": 9,
   "metadata": {
    "collapsed": true
   },
   "outputs": [],
   "source": [
    "#your code here:"
   ]
  },
  {
   "cell_type": "markdown",
   "metadata": {},
   "source": [
    "At this point, feel free to play around with this section of the notebook in your breakout sessions. You may find another well fit result to this distribution, if you move around your guessed parameters enough. Which one is the \"correct\" answer? At this stage it can be hard to tell. This is the importantce of research and discussion. Python an amazing tool for assisting you in your scienctific projects, but it will not replace the scientist's or engineer's own problem solving skills."
   ]
  },
  {
   "cell_type": "code",
   "execution_count": null,
   "metadata": {
    "collapsed": true
   },
   "outputs": [],
   "source": []
  }
 ],
 "metadata": {
  "anaconda-cloud": {},
  "kernelspec": {
   "display_name": "Python [default]",
   "language": "python",
   "name": "python3"
  },
  "language_info": {
   "codemirror_mode": {
    "name": "ipython",
    "version": 3
   },
   "file_extension": ".py",
   "mimetype": "text/x-python",
   "name": "python",
   "nbconvert_exporter": "python",
   "pygments_lexer": "ipython3",
   "version": "3.5.2"
  }
 },
 "nbformat": 4,
 "nbformat_minor": 1
}