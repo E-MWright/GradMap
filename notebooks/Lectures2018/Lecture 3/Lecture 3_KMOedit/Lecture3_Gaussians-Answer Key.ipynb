{
 "cells": [
  {
   "cell_type": "markdown",
   "metadata": {
    "collapsed": true
   },
   "source": [
    "# Gaussians\n",
    "\n",
    "You just learned a little about what a Gaussian distribution looks like. As a reminder, a Gaussian curve is sometimes called a bell curve because the shape looks like a bell.\n",
    "\n",
    "To review, the equation for the Gaussian curve is the following:\n",
    "\n",
    "$f(x) = \\frac{1}{\\sqrt{2\\pi\\sigma^2}}e^{\\frac{-(x-\\mu)^2}{2\\sigma^2}}$\n",
    "\n",
    "where $\\mu$ is the mean and $\\sigma$ is the standard deviation. \n",
    "\n",
    "The standard normal distribution, where $\\mu=0$ and $\\sigma=1$, is selected for by calling `np.random.randn()`.\n",
    "\n",
    "You're probably wondering why Gaussian, a.k.a. normal, distributions are so important. The reason is that the distributions of many things follow a normal distribution -- such as the heights of people, manufactured parts, blood pressure readings, and error measurements -- making it important to understand.\n",
    "\n",
    "There are specific metrics that describe a normal distribution.\n",
    "\n",
    "1) The mean, median, and mode of a Gaussian distribution are all the same.\n",
    "2) There is symmetry about the mean, as in 50% of the values fall to the right of the mean and the other 50% fall to the left.\n",
    "3) A certain amount of data falls within integer multiples of the standard deviation, as shown below.\n",
    "\n",
    "![stdevs](Data/Gaiss_std.JPG)\n",
    "\n",
    "Does the lifetimes data we plotted earlier hold up to these three criteria? Let's find out.\n",
    "\n",
    "Remember, the lifetimes data was imported as the variable `lifetimes` before."
   ]
  },
  {
   "cell_type": "code",
   "execution_count": 2,
   "metadata": {
    "collapsed": true
   },
   "outputs": [],
   "source": [
    "lifemean = np.mean(lifetimes) #get mean\n",
    "lifestd = np.std(lifetimes) #get standard deviation"
   ]
  },
  {
   "cell_type": "markdown",
   "metadata": {
    "collapsed": true
   },
   "source": [
    "# Let's examine the first criterion: the mean, median, and mode of a Gaussian distribution are all the same.\n",
    "\n",
    "To calculate the `mode`, we need to import another module called the `stats` module. The median can still be calculated from the `numpy` module."
   ]
  },
  {
   "cell_type": "code",
   "execution_count": 4,
   "metadata": {
    "collapsed": true
   },
   "outputs": [],
   "source": [
    "#import stats module\n",
    "from scipy import stats"
   ]
  },
  {
   "cell_type": "markdown",
   "metadata": {},
   "source": [
    "Now calculate the median and mode of the variable `lifetimes` and display them."
   ]
  },
  {
   "cell_type": "code",
   "execution_count": 5,
   "metadata": {},
   "outputs": [
    {
     "name": "stdout",
     "output_type": "stream",
     "text": [
      "12.0260440367\n",
      "ModeResult(mode=array([ 9.0798]), count=array([2]))\n",
      "11.838\n"
     ]
    }
   ],
   "source": [
    "#your code here\n",
    "lifemode = stats.mode(lifetimes) #calculate mode\n",
    "lifemedian = np.median(lifetimes) #calculate median\n",
    "\n",
    "print(lifemean)\n",
    "print(lifemode)\n",
    "print(lifemedian)"
   ]
  },
  {
   "cell_type": "markdown",
   "metadata": {},
   "source": [
    "Does the `lifetimes` data fulfill the first criterion of a Gaussian distribution?"
   ]
  },
  {
   "cell_type": "markdown",
   "metadata": {},
   "source": [
    "# Now let's check the second criterion. Is there symmetry about the mean?\n",
    "\n",
    "First, let's find out how many samples are in the variable `lifetimes` and display it."
   ]
  },
  {
   "cell_type": "code",
   "execution_count": 6,
   "metadata": {},
   "outputs": [
    {
     "name": "stdout",
     "output_type": "stream",
     "text": [
      "327\n"
     ]
    }
   ],
   "source": [
    "#your code here\n",
    "numsamp = len(lifetimes)\n",
    "print(numsamp)"
   ]
  },
  {
   "cell_type": "markdown",
   "metadata": {
    "collapsed": true
   },
   "source": [
    "Now that you have the number of samples, you will need to use the median value to find out how many samples lie above and below it. "
   ]
  },
  {
   "cell_type": "code",
   "execution_count": 16,
   "metadata": {},
   "outputs": [
    {
     "name": "stdout",
     "output_type": "stream",
     "text": [
      "0.4984709480122324\n",
      "0.5015290519877675\n"
     ]
    }
   ],
   "source": [
    "#Put your code here\n",
    "\n",
    "#why doesn't this work?\n",
    "#uppermask = lifetimes>lifemedian\n",
    "#upperhalf = lifetimes(uppermask) #this should work, but doesn't?\n",
    "#lowermask = lifetimes<=lifemedian\n",
    "#lowerhalf = lifetimes(lowermask) #ditto\n",
    "\n",
    "#but this does?\n",
    "upperhalf = [ii for ii in lifetimes if ii>lifemedian] #get upper 50%\n",
    "lowerhalf = [jj for jj in lifetimes if jj<=lifemedian] #get lower 50%\n",
    "\n",
    "upperperc = len(upperhalf)/numsamp\n",
    "lowerperc = len(lowerhalf)/numsamp\n",
    "\n",
    "print(upperperc)\n",
    "print(lowerperc)"
   ]
  },
  {
   "cell_type": "markdown",
   "metadata": {},
   "source": [
    "Does the `lifetimes` data fulfill the second criterion of a Gaussian distribution?"
   ]
  },
  {
   "cell_type": "markdown",
   "metadata": {},
   "source": [
    "# Now let's check the last criterion. How much data falls within a standard deviation or two (or three)?\n",
    "\n",
    "Remember, you already calculated the standard deviation of the lifetimes data as the variable `lifestd`."
   ]
  },
  {
   "cell_type": "code",
   "execution_count": 27,
   "metadata": {},
   "outputs": [
    {
     "name": "stdout",
     "output_type": "stream",
     "text": [
      "% of data within 1 standard deviations of the median: 0.6880733944954129\n",
      "% of data within 2 standard deviations of the median: 0.9541284403669724\n",
      "% of data within 3 standard deviations of the median: 0.9938837920489296\n"
     ]
    }
   ],
   "source": [
    "#Put your code here\n",
    "\n",
    "plus_std = (lifemedian+1*lifestd, lifemedian+2*lifestd, lifemedian+3*lifestd)\n",
    "minus_std = (lifemedian-1*lifestd, lifemedian-2*lifestd, lifemedian-3*lifestd)\n",
    "aboveperc = [None]*3\n",
    "belowperc = [None]*3\n",
    "\n",
    "ii=0\n",
    "while ii<len(plus_std):\n",
    "    data_above = [jj for jj in lifetimes if jj>lifemedian and jj<plus_std[ii]]\n",
    "    aboveperc[ii] = len(data_above)/numsamp\n",
    "    \n",
    "    data_below = [kk for kk in lifetimes if kk<=lifemedian and kk>minus_std[ii]]\n",
    "    belowperc[ii] = len(data_below)/numsamp\n",
    "    \n",
    "    ii+=1\n",
    "    print('% of data within', ii, 'standard deviations of the median:', aboveperc[ii-1]+belowperc[ii-1])"
   ]
  },
  {
   "cell_type": "markdown",
   "metadata": {},
   "source": [
    "Does the `lifetimes` data fulfill the third criterion of a Gaussian distribution?"
   ]
  }
 ],
 "metadata": {
  "kernelspec": {
   "display_name": "Python 3",
   "language": "python",
   "name": "python3"
  },
  "language_info": {
   "codemirror_mode": {
    "name": "ipython",
    "version": 3
   },
   "file_extension": ".py",
   "mimetype": "text/x-python",
   "name": "python",
   "nbconvert_exporter": "python",
   "pygments_lexer": "ipython3",
   "version": "3.6.3"
  }
 },
 "nbformat": 4,
 "nbformat_minor": 2
}
