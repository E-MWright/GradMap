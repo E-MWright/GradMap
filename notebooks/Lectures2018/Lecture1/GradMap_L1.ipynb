{
 "cells": [
  {
   "cell_type": "markdown",
   "metadata": {},
   "source": [
    "# Introduction to \"Doing Science\" in Python for REAL Beginners "
   ]
  },
  {
   "cell_type": "markdown",
   "metadata": {},
   "source": [
    "Python is one of many languages you can use for research and HW purposes. In the next few days, we will work through many of the tool, tips, and tricks that we as graduate students (and PhD researchers) use on a daily basis. We will NOT attempt to teach you all of Python--there isn't time. We will however build up a set of code(s) that will allow you to read and write data, make beautiful publish-worthy plots, fit a line (or any function) to data, and set up algorithms. You will also begin to learn the syntax of Python and can hopefuly apply this knowledge to your current and future work. "
   ]
  },
  {
   "cell_type": "markdown",
   "metadata": {},
   "source": [
    "## Before we begin, a few words on navigating the iPython Notebook:\n",
    "\n",
    "* There are two main types of cells : Code and Text \n",
    "* In \"code\" cells \"#\" at the beginning of a line marks the line as comment\n",
    "* In \"code\" cells every non commented line is intepreted\n",
    "* In \"code\" cells, commands that are preceded by % are \"magics\" and are special commands in Ipython to add some functionality to the runtime interactive environment.\n",
    "* Shift+Return shortcut to execute a cell\n",
    "* Alt+Return   shortcut to execute a cell and create another one below\n",
    "\n",
    "Here you can find a complete documentation about the notebook. \n",
    "http://ipython.org/ipython-doc/1/interactive/notebook.html\n",
    "In particular have a look at the section about the keyboard shortcuts.\n",
    "\n",
    "\n",
    "## And remember that :\n",
    "* Indentation has a meaning ( we'll talk about this when we cover loops)\n",
    "* Indexes start from 0  ( similar to C )\n",
    "\n",
    "We will discuss more about these concepts while doing things. Let's get started now!!!!"
   ]
  },
  {
   "cell_type": "code",
   "execution_count": null,
   "metadata": {},
   "outputs": [],
   "source": []
  },
  {
   "cell_type": "code",
   "execution_count": null,
   "metadata": {},
   "outputs": [],
   "source": [
    "#test cell"
   ]
  },
  {
   "cell_type": "markdown",
   "metadata": {},
   "source": [
    "## A. Numbers and Calculations"
   ]
  },
  {
   "cell_type": "markdown",
   "metadata": {},
   "source": [
    "Note: To insert comments to yourself (this is always a great idea), use the # symbol."
   ]
  },
  {
   "cell_type": "code",
   "execution_count": null,
   "metadata": {
    "collapsed": true
   },
   "outputs": [],
   "source": [
    "## You can use Python as a calculator:\n",
    "5*7  #This is a comment and does not affect your code.\n",
    "#You can have as many as you want. \n",
    "#No worries. "
   ]
  },
  {
   "cell_type": "code",
   "execution_count": null,
   "metadata": {
    "collapsed": true
   },
   "outputs": [],
   "source": [
    "5+7"
   ]
  },
  {
   "cell_type": "code",
   "execution_count": null,
   "metadata": {
    "collapsed": true
   },
   "outputs": [],
   "source": [
    "5-7"
   ]
  },
  {
   "cell_type": "code",
   "execution_count": null,
   "metadata": {
    "collapsed": true
   },
   "outputs": [],
   "source": [
    "5/7"
   ]
  },
  {
   "cell_type": "markdown",
   "metadata": {},
   "source": [
    "These simple operations on numbers in Python 3 works exactly as you'd expect, but that's not true across all programming languages.\n",
    "\n",
    "For example, in Python 2, an older version of Python that is still used often in scientific programming:\n",
    "\n",
    "$5/7$ $\\neq$ $5./7$\n",
    "\n",
    "The two calculations below would be equal on most calculators, but they are not equal to Python 2 and many other languages. The first, $5/7$ is division between integers and the answer will be an integer. The second, $5./7$ is division between a float (a number with a decimal) and an integer.\n",
    "\n",
    "In Python 2,\n",
    "\n",
    "$5/7$ = $0$\n",
    "\n",
    "Since division of integers must return an integer, in this case 0.  This is not the same for 5./7, which is\n",
    "\n",
    "$5./7$ = $0.7142857142857143$\n",
    "\n",
    "This is something to keep in mind when working with programming languages, but Python 3 takes care of this for you.\n",
    "\n",
    "However, for the sake of consistency, it is best to use float division rather than integer division.\n"
   ]
  },
  {
   "cell_type": "markdown",
   "metadata": {},
   "source": [
    "Let's assign some variables and **print()** them to the screen."
   ]
  },
  {
   "cell_type": "code",
   "execution_count": null,
   "metadata": {
    "collapsed": true
   },
   "outputs": [],
   "source": [
    "a2 = 10\n",
    "b = 7"
   ]
  },
  {
   "cell_type": "code",
   "execution_count": null,
   "metadata": {
    "collapsed": true
   },
   "outputs": [],
   "source": [
    "print(a2)"
   ]
  },
  {
   "cell_type": "code",
   "execution_count": null,
   "metadata": {
    "collapsed": true
   },
   "outputs": [],
   "source": [
    "print(b)"
   ]
  },
  {
   "cell_type": "code",
   "execution_count": null,
   "metadata": {
    "collapsed": true
   },
   "outputs": [],
   "source": [
    "print(a*b , a+b, a/b)"
   ]
  },
  {
   "cell_type": "code",
   "execution_count": null,
   "metadata": {
    "collapsed": true
   },
   "outputs": [],
   "source": [
    "a = 5.\n",
    "b = 7\n",
    "print(a*b, a+b, a/b)"
   ]
  },
  {
   "cell_type": "markdown",
   "metadata": {},
   "source": [
    "Next, let's create a list of numbers and do math to that list. "
   ]
  },
  {
   "cell_type": "code",
   "execution_count": null,
   "metadata": {
    "collapsed": true
   },
   "outputs": [],
   "source": [
    "c = [0,1,2,3,4,5,6,7,8,9,10,11]\n",
    "print(c)"
   ]
  },
  {
   "cell_type": "markdown",
   "metadata": {},
   "source": [
    "How many elements or numbers does the list c contain? Yes, this is easy to count now, but you will eventually work with lists that contains MANY numbers. To get the *length* of a list (or array), use **len()**."
   ]
  },
  {
   "cell_type": "code",
   "execution_count": null,
   "metadata": {
    "collapsed": true
   },
   "outputs": [],
   "source": [
    "len(c)"
   ]
  },
  {
   "cell_type": "markdown",
   "metadata": {},
   "source": [
    "Now, some math... Let's square each value in c and put those values in a new list called d. To square a variable (or number), you use \\*\\*. So $3^{**}2=9$. The rest of the math operations (+ / - x) are 'normal.'"
   ]
  },
  {
   "cell_type": "code",
   "execution_count": null,
   "metadata": {
    "collapsed": true
   },
   "outputs": [],
   "source": [
    "d = c**2"
   ]
  },
  {
   "cell_type": "markdown",
   "metadata": {},
   "source": [
    "This should not have worked. Why? The short answer is that a list is very useful, but it is not an array. However, you can convert your lists to arrays (and back again if you feel you need to). In order to do this conversion (and just about anything else), we need something extra. \n",
    "\n",
    "Python is a fantastic language because it is very powerful and flexible. Also, it is like modular furniture or modular building. You have the Python foundation and choose which modules you want/need and load them before you start working. One of the most loved here at UMD is the NumPy module (pronounced num-pie). This is the something extra (the module), that we need. For more information, see www.numpy.org/. \n",
    "\n",
    "When we plot this data below, we will also need a module for plotting. \n",
    "\n",
    "First, let us *import NumPy*. "
   ]
  },
  {
   "cell_type": "code",
   "execution_count": null,
   "metadata": {
    "collapsed": true
   },
   "outputs": [],
   "source": [
    "import numpy "
   ]
  },
  {
   "cell_type": "markdown",
   "metadata": {},
   "source": [
    "To convert our list $c = [0,1,2,3,4,5,6,7,8,9]$ to an array we use **numpy.array()**,"
   ]
  },
  {
   "cell_type": "code",
   "execution_count": null,
   "metadata": {
    "collapsed": true
   },
   "outputs": [],
   "source": [
    "c = np.array(c)"
   ]
  },
  {
   "cell_type": "code",
   "execution_count": null,
   "metadata": {
    "collapsed": true
   },
   "outputs": [],
   "source": [
    "d = c**2\n",
    "print(d)"
   ]
  },
  {
   "cell_type": "code",
   "execution_count": null,
   "metadata": {
    "collapsed": true
   },
   "outputs": [],
   "source": []
  },
  {
   "cell_type": "markdown",
   "metadata": {},
   "source": [
    "Great! However, typing numpy over and over again can get tiresome, so we can import it and give it a shorter name. It is common to use the following:"
   ]
  },
  {
   "cell_type": "code",
   "execution_count": null,
   "metadata": {
    "collapsed": true
   },
   "outputs": [],
   "source": [
    "import numpy as np"
   ]
  },
  {
   "cell_type": "markdown",
   "metadata": {},
   "source": [
    "In this notation, converting a list to an array would be np.array(c). \n"
   ]
  },
  {
   "cell_type": "markdown",
   "metadata": {},
   "source": [
    "## B. Our first plot! "
   ]
  },
  {
   "cell_type": "markdown",
   "metadata": {},
   "source": [
    "Now lets make a quick plot! We'll use the values from our list turned array, $c$, and plot $c^2$. "
   ]
  },
  {
   "cell_type": "code",
   "execution_count": null,
   "metadata": {
    "collapsed": true
   },
   "outputs": [],
   "source": [
    "%matplotlib inline\n",
    "import matplotlib\n",
    "import matplotlib.pyplot as plt\n"
   ]
  },
  {
   "cell_type": "code",
   "execution_count": null,
   "metadata": {
    "collapsed": true
   },
   "outputs": [],
   "source": [
    "x = c\n",
    "y = d\n",
    "\n",
    "p = plt.plot(x,y)"
   ]
  },
  {
   "cell_type": "code",
   "execution_count": null,
   "metadata": {
    "collapsed": true
   },
   "outputs": [],
   "source": [
    "p = plt.plot(x,y**2)"
   ]
  },
  {
   "cell_type": "markdown",
   "metadata": {},
   "source": [
    "## C. Arrays of numbers"
   ]
  },
  {
   "cell_type": "markdown",
   "metadata": {},
   "source": [
    "You can also create arrays of numbers using NumPy. Two very useful ways to create arrays are by selecting the interval you care about (say, 0 to 10) and either specifying how far apart you want your values to be (numpy.arange), OR the total number of values you want (np.linspace). Let's look at some examples."
   ]
  },
  {
   "cell_type": "code",
   "execution_count": null,
   "metadata": {
    "collapsed": true
   },
   "outputs": [],
   "source": [
    "np.arange(0,10,2) #here the step size is 2. So you'll get even numbers.\n"
   ]
  },
  {
   "cell_type": "code",
   "execution_count": null,
   "metadata": {
    "collapsed": true
   },
   "outputs": [],
   "source": [
    "np.linspace(0,10,2) #here you're asking for 2 values. Guess what they'll be!"
   ]
  },
  {
   "cell_type": "markdown",
   "metadata": {},
   "source": [
    "Next make an array with endpoints 0 and 1 (include 0 and 1), that has 50 values in it. You can use either (both?) np.arange or np.linspace. Which is easier to you? How many numbers do you get? Are these numbers integers or floats (decimal place)?"
   ]
  },
  {
   "cell_type": "code",
   "execution_count": null,
   "metadata": {
    "collapsed": true
   },
   "outputs": [],
   "source": [
    "np.linspace(0,1,50)"
   ]
  },
  {
   "cell_type": "code",
   "execution_count": null,
   "metadata": {
    "collapsed": true
   },
   "outputs": [],
   "source": [
    "np.arange(0,1.02,.02)"
   ]
  },
  {
   "cell_type": "markdown",
   "metadata": {},
   "source": [
    "Next make an array with endpoints 0 and 2.5 (include 0 and 2.5), that has values spaced out in increments of 0.05. For example: 0, 0.05, 0.1, 0.15...  You can use either np.arange or np.linspace. Which is easier to you? How many numbers do you get? Are these numbers integers or floats (decimal place)?"
   ]
  },
  {
   "cell_type": "code",
   "execution_count": null,
   "metadata": {
    "collapsed": true
   },
   "outputs": [],
   "source": [
    "np.arange(0,2.55,0.05)"
   ]
  },
  {
   "cell_type": "code",
   "execution_count": null,
   "metadata": {
    "collapsed": true
   },
   "outputs": [],
   "source": []
  },
  {
   "cell_type": "markdown",
   "metadata": {},
   "source": [
    "Next, let's plot these two arrays. Call them $a$ and $b$, or $x$ and $y$ (whichever you prefer--this is your code!), for example: a = np.linspace(). Fill in the missing bits in the code below. "
   ]
  },
  {
   "cell_type": "code",
   "execution_count": null,
   "metadata": {
    "collapsed": true
   },
   "outputs": [],
   "source": [
    "import numpy as np\n",
    "\n",
    "%matplotlib inline\n",
    "import matplotlib\n",
    "import matplotlib.pyplot as plt\n",
    "\n",
    "ema = np.linspace(0,1,50)\n",
    "bob = np.arange(0,2.5,0.05)\n",
    "\n",
    "# Clear the plotting field. \n",
    "plt.clf() # No need to add anything inside these parentheses. \n",
    "\n",
    "plt.plot(ema,bob,'b*')  # The 'ro' says you want to use Red o plotting symbols. \n"
   ]
  },
  {
   "cell_type": "markdown",
   "metadata": {},
   "source": [
    "For all the possible plotting symbols, see: http://matplotlib.org/api/markers_api.html. Next, let's plot the positive half of a circle. Let's also add labels in using plt.title(), plt.xlabel(), and plt.ylabel()."
   ]
  },
  {
   "cell_type": "code",
   "execution_count": 5,
   "metadata": {},
   "outputs": [
    {
     "data": {
      "text/plain": [
       "<matplotlib.text.Text at 0x11b08d940>"
      ]
     },
     "execution_count": 5,
     "metadata": {},
     "output_type": "execute_result"
    },
    {
     "data": {
      "image/png": "iVBORw0KGgoAAAANSUhEUgAAAZIAAAEWCAYAAABMoxE0AAAABHNCSVQICAgIfAhkiAAAAAlwSFlz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\nVogTiZmZFeJEYmZmhfw30ATAqLK28zgAAAAASUVORK5CYII=\n",
      "text/plain": [
       "<matplotlib.figure.Figure at 0x11af40eb8>"
      ]
     },
     "metadata": {},
     "output_type": "display_data"
    }
   ],
   "source": [
    "import numpy as np\n",
    "\n",
    "%matplotlib inline\n",
    "import matplotlib\n",
    "import matplotlib.pyplot as plt\n",
    "\n",
<<<<<<< HEAD
    "x = np.linspace(-1,1,10)\n",
    "y = np.sqrt(x)\n",
    "\n",
    "print(x)\n",
    "print(y)\n",
=======
    "x = np.linspace(-1,1,100)\n",
    "y = np.sqrt(1-x**2)\n",
>>>>>>> e7c7a5742d56dc3207e8072430ab7b7b787dc95d
    "\n",
    "# Clear the plotting field. \n",
    "plt.clf() # No need to add anything inside these parentheses. \n",
    "plt.xlim([0,1.1])\n",
    "plt.plot(x,y,'ro')  # The 'ro' says you want to use Red o plotting symbols. \n",
    "plt.xlabel('my x')\n",
    "plt.ylabel('my y')\n",
    "plt.title('Happy new year')\n",
    "\n",
    "#Would you like to save your plot? Uncomment the below line. Here, we use savefig('nameOffigure')\n",
    "#It should save to the folder you are currently working out of.\n",
    "plt.savefig('MyFirstFigure.jpg')\n",
    "\n",
    "#What if we had error bars to deal with? We already have a built in solution that works much like plt.plot! \n",
    "#Below is a commented example of what an errorbar plot line would be for an array of errors called, dy.\n",
    "#plt.errorbar(x,y,y_err=dy)\n"
   ]
  },
  {
   "cell_type": "markdown",
   "metadata": {},
   "source": [
    "## D. A more complicated function: The Planck Blackbody Curve"
   ]
  },
  {
   "cell_type": "markdown",
   "metadata": {},
   "source": [
    "Any object at a temperature above absolute zero (at 0 Kelvin, atoms stop moving), emits light of all wavelengths with varying degrees of efficiency. Recall that light is electromagnetic radiation. We see this radiation with our eyes when the wavelength is 400-700 nm, and we feel it as heat when the wavelength is 700 nm - 1mm. A blackbody is an object that is a perfect emitter. This means that it perfectly absorbs any energy that hits it and re-emits this energy over ALL wavelengths. The spectrum of a blackbody looks like a rainbow to our eyes. \n",
    "\n",
    "The expression for this \"rainbow\" over all wavelengths is given by,\n",
    "\n",
    "$$\n",
    "B(\\lambda,T) = \\dfrac{2hc^2}{\\lambda^5} \\dfrac{1}{e^{\\frac{hc}{\\lambda kT}}-1}\n",
    "$$\n",
    "\n",
    "where $\\lambda$ is the wavelength, $T$ is the temperature of the object, $h$ is Planck's constant, $c$ is the speed of light, and $k$ is the Boltzmann constant. \n",
    "\n",
    "https://en.wikipedia.org/wiki/Black-body_radiation"
   ]
  },
  {
   "cell_type": "markdown",
   "metadata": {},
   "source": [
    "### Plotting a blackbody curve:\n",
    "\n",
    "First, let us look at code that might be confusing to read later on. "
   ]
  },
  {
   "cell_type": "code",
   "execution_count": null,
   "metadata": {
    "collapsed": true
   },
   "outputs": [],
   "source": [
    "import numpy as np\n",
    "import matplotlib\n",
    "import matplotlib.pyplot as plt\n",
    "\n",
    "x = np.linspace(100,2000,10000)*1e-9  #wavelength, we want a range of 100 nm to 10000 nm, but in METERS\n",
    "\n",
    "Blam = 2.0*6.626e-34*2.998e8**2/x**5/(np.exp(6.626e-34*2.998e8/(x*1.381e-23*5800.0))-1.0)\n",
    "\n",
    "plt.clf()\n",
    "p = plt.plot(x*1e9,Blam)  #we multiply by 1e9 so that the x axis shows nm\n",
    "xl = plt.xlabel('Wavelength (nm)')\n",
    "yl = plt.ylabel('Spectral Radiance ()')  #What are the units?\n"
   ]
  },
  {
   "cell_type": "markdown",
   "metadata": {},
   "source": [
    "Would this code be easy to edit for other temperatures? \n",
    "\n",
    "Now, let's look at code that does the same thing, but is more documented:"
   ]
  },
  {
   "cell_type": "code",
   "execution_count": null,
   "metadata": {
    "collapsed": true
   },
   "outputs": [],
   "source": [
    "import numpy as np\n",
    "import matplotlib\n",
    "import matplotlib.pyplot as plt\n",
    "\n",
    "# Constants in MKS (meters, kilograms, & seconds)\n",
    "\n",
    "h = 6.626e-34   # J s \n",
    "c = 2.998e8    # m/s\n",
    "k = 1.381e-23   # J/K\n",
    "\n",
    "# Let's pick the sun. YOU will need to PICK the temperature and then a range of\n",
    "# frequencies or wavelengths that \"make sense\" for that temperature. \n",
    "# We know that the sun peaks in visible part of the spectrum. This wavelength \n",
    "# is close to 500 nm. Let's have the domain (x values) go from 100 nm to 2000 nm. \n",
    "# 1 nm = 10^-9 m = 10^-7 cm. \n",
    "\n",
    "lam = np.linspace(100,2000,10000)*1e-9 #wavelength in nm\n",
    "nu = c/lam\n",
    "T = 5800.0\n",
    "\n",
    "exp = np.exp(h*c/(lam*k*T))\n",
    "num = 2.0 * h * c**2 \n",
    "denom = lam**5 * (exp - 1.0)\n",
    "\n",
    "Blam = num/denom\n",
    "\n",
    "plt.clf()\n",
    "p = plt.plot(lam*1e9,Blam)\n",
    "xl = plt.xlabel('Wavelength (nm)')\n",
    "yl = plt.ylabel(r'Spectral Radiance (W m$^{-3}$)')  #What are the units?\n",
    "\n",
    "# Try a log-log plot. \n",
    "#p = plt.loglog(wav,Bnu)"
   ]
  },
  {
   "cell_type": "markdown",
   "metadata": {},
   "source": [
    "### Plotting Multiple Curves:"
   ]
  },
  {
   "cell_type": "code",
   "execution_count": null,
   "metadata": {
    "collapsed": true
   },
   "outputs": [],
   "source": [
    "import numpy as np\n",
    "import matplotlib\n",
    "import matplotlib.pyplot as plt\n",
    "\n",
    "# Constants in MKS (meters, kilograms, & seconds)\n",
    "\n",
    "h = 6.626e-34   # \n",
    "c = 2.998e8    # m/s\n",
    "k = 1.381e-23   # J/K\n",
    "\n",
    "# Let's try to recreate the plot above. \n",
    "# Pick temperatures: T1 = 7000 K , T2= 5800 K, and T3 = 4000 K. \n",
    "# Let's have the domain (x values) go from 100 nm to 2000 nm. \n",
    "# 1 nm = 10^-9 m. \n",
    "\n",
    "wav = np.linspace(100,2000,10000)*1e-9  #in meters\n",
    "\n",
    "T1 = 7000.\n",
    "T2 = 5800.\n",
    "T3 = 4000.\n",
    "\n",
    "num = 2.0 * h * c**2 \n",
    "\n",
    "exp1 = np.exp(h*c/(wav*k*T1))\n",
    "denom1 = wav**5 * (exp1 - 1.0)\n",
    "\n",
    "exp2 = np.exp(h*c/(wav*k*T2))\n",
    "denom2 = wav**5 * (exp2 - 1.0)\n",
    "\n",
    "exp3 = np.exp(h*c/(wav*k*T3))\n",
    "denom3 = wav**5 * (exp3 - 1.0)\n",
    "\n",
    "Bnu1 = num/denom1\n",
    "Bnu2 = num/denom2\n",
    "Bnu3 = num/denom3\n",
    "\n",
    "plt.clf()\n",
    "p1 = plt.plot(wav*1e9,Bnu1,label='T =7000 K')\n",
    "p2 = plt.plot(wav*1e9,Bnu2,label='T = 5800 K')\n",
    "p3 = plt.plot(wav*1e9,Bnu3,label='T = 4000 K')\n",
    "xl = plt.xlabel('Wavelength (nm)')\n",
    "yl = plt.ylabel(r'Spectral Radiance (W m$^{-3}$)')\n",
    "l = plt.legend(loc='lower right')\n",
    "\n"
   ]
  },
  {
   "cell_type": "markdown",
   "metadata": {},
   "source": [
    "**Next, let's have you try an example.** We mentioned above that wavelength and frequency are related by the speed of light,\n",
    "$$\n",
    "c = \\lambda \\nu.\n",
    "$$\n",
    "\n",
    "We also described a blackbody in terms of the wavelength. However, we can also describe a blackbody in terms of frequency,\n",
    "\n",
    "$$\n",
    "B(\\nu,T) = \\dfrac{2h\\nu^3}{c^2} \\dfrac{1}{e^{\\frac{h\\nu}{kT}}-1}.\n",
    "$$\n",
    "\n",
    "We can do this because\n",
    "$$\n",
    "B_\\nu d\\nu = B_\\lambda d\\lambda\n",
    "$$\n",
    "where\n",
    "$$\n",
    "\\nu = \\frac{c}{\\lambda} \\quad \\text{and} \\quad \\frac{d\\nu}{d\\lambda} = \\left| - \\frac{c}{\\lambda^2}\\right|.\n",
    "$$\n",
    "\n",
    "\n",
    "### EXERCISE: Make the same plot above (for 3 separate temperatures) with the x axis showing frequency (in Hertz). \n"
   ]
  },
  {
   "cell_type": "code",
   "execution_count": null,
   "metadata": {
    "collapsed": true
   },
   "outputs": [],
   "source": [
    "import numpy as np\n",
    "import matplotlib\n",
    "import matplotlib.pyplot as plt\n",
    "\n",
    "# Constants in MKS (meters, kilograms, & seconds)\n",
    "\n",
    "h = 6.626e-34   # \n",
    "c = 2.998e8    # m/s\n",
    "k = 1.381e-23   # J/K\n",
    "\n",
    "# Let's try to recreate the plot above. \n",
    "# Pick three temperatures. \n",
    "# Decide on a domain in Hertz (frequency) that makes sense. \n",
    "# c = nu x lambda, nu = c/lambda\n",
    "\n",
    "#### Put your code here ###\n"
   ]
  }
 ],
 "metadata": {
  "kernelspec": {
   "display_name": "Python [conda root]",
   "language": "python",
   "name": "conda-root-py"
  },
  "language_info": {
   "codemirror_mode": {
    "name": "ipython",
    "version": 3
   },
   "file_extension": ".py",
   "mimetype": "text/x-python",
   "name": "python",
   "nbconvert_exporter": "python",
   "pygments_lexer": "ipython3",
   "version": "3.5.3"
  }
 },
 "nbformat": 4,
 "nbformat_minor": 1
}
